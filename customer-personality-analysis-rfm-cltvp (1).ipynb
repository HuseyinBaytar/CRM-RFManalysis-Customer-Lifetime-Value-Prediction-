{
 "cells": [
  {
   "cell_type": "markdown",
   "id": "83b21809",
   "metadata": {
    "papermill": {
     "duration": 0.010103,
     "end_time": "2023-10-15T18:28:12.004594",
     "exception": false,
     "start_time": "2023-10-15T18:28:11.994491",
     "status": "completed"
    },
    "tags": []
   },
   "source": [
    "# <p style=\"background-color:lightgray; font-family:verdana; font-size:250%; text-align:center; border-radius: 15px 20px;\">🟠Libraries and Data import // First look at Data o.o/🟠</p>"
   ]
  },
  {
   "cell_type": "markdown",
   "id": "bcc1c698",
   "metadata": {
    "papermill": {
     "duration": 0.01147,
     "end_time": "2023-10-15T18:28:12.028118",
     "exception": false,
     "start_time": "2023-10-15T18:28:12.016648",
     "status": "completed"
    },
    "tags": []
   },
   "source": [
    "# <p style=\"padding:10px;background-color:orange;margin:0;color:black;font-family:newtimeroman;font-size:100%;text-align:center;border-radius: 15px 50px;overflow:hidden;font-weight:500\">RFM</p>"
   ]
  },
  {
   "cell_type": "code",
   "execution_count": 1,
   "id": "fbc1b80b",
   "metadata": {
    "_cell_guid": "b1076dfc-b9ad-4769-8c92-a6c4dae69d19",
    "_uuid": "8f2839f25d086af736a60e9eeb907d3b93b6e0e5",
    "execution": {
     "iopub.execute_input": "2023-10-15T18:28:12.052589Z",
     "iopub.status.busy": "2023-10-15T18:28:12.051657Z",
     "iopub.status.idle": "2023-10-15T18:28:12.488878Z",
     "shell.execute_reply": "2023-10-15T18:28:12.487361Z"
    },
    "papermill": {
     "duration": 0.452433,
     "end_time": "2023-10-15T18:28:12.491990",
     "exception": false,
     "start_time": "2023-10-15T18:28:12.039557",
     "status": "completed"
    },
    "tags": []
   },
   "outputs": [
    {
     "name": "stdout",
     "output_type": "stream",
     "text": [
      "/kaggle/input/customer-personality-analysis/marketing_campaign.csv\n"
     ]
    }
   ],
   "source": [
    "import numpy as np \n",
    "import pandas as pd \n",
    "import datetime\n",
    "import os\n",
    "for dirname, _, filenames in os.walk('/kaggle/input'):\n",
    "    for filename in filenames:\n",
    "        print(os.path.join(dirname, filename))\n"
   ]
  },
  {
   "cell_type": "code",
   "execution_count": 2,
   "id": "27a3ab1e",
   "metadata": {
    "execution": {
     "iopub.execute_input": "2023-10-15T18:28:12.512747Z",
     "iopub.status.busy": "2023-10-15T18:28:12.512155Z",
     "iopub.status.idle": "2023-10-15T18:28:12.554114Z",
     "shell.execute_reply": "2023-10-15T18:28:12.552510Z"
    },
    "papermill": {
     "duration": 0.056397,
     "end_time": "2023-10-15T18:28:12.557884",
     "exception": false,
     "start_time": "2023-10-15T18:28:12.501487",
     "status": "completed"
    },
    "tags": []
   },
   "outputs": [],
   "source": [
    "df = pd.read_csv(\"/kaggle/input/customer-personality-analysis/marketing_campaign.csv\",sep='\\t')"
   ]
  },
  {
   "cell_type": "code",
   "execution_count": 3,
   "id": "664e19a2",
   "metadata": {
    "execution": {
     "iopub.execute_input": "2023-10-15T18:28:12.578542Z",
     "iopub.status.busy": "2023-10-15T18:28:12.578094Z",
     "iopub.status.idle": "2023-10-15T18:28:12.588449Z",
     "shell.execute_reply": "2023-10-15T18:28:12.587502Z"
    },
    "papermill": {
     "duration": 0.023567,
     "end_time": "2023-10-15T18:28:12.590806",
     "exception": false,
     "start_time": "2023-10-15T18:28:12.567239",
     "status": "completed"
    },
    "tags": []
   },
   "outputs": [
    {
     "data": {
      "text/plain": [
       "(2240, 29)"
      ]
     },
     "execution_count": 3,
     "metadata": {},
     "output_type": "execute_result"
    }
   ],
   "source": [
    "#dataframe's shape\n",
    "df.shape"
   ]
  },
  {
   "cell_type": "code",
   "execution_count": 4,
   "id": "71269816",
   "metadata": {
    "execution": {
     "iopub.execute_input": "2023-10-15T18:28:12.612038Z",
     "iopub.status.busy": "2023-10-15T18:28:12.610998Z",
     "iopub.status.idle": "2023-10-15T18:28:12.651340Z",
     "shell.execute_reply": "2023-10-15T18:28:12.648996Z"
    },
    "papermill": {
     "duration": 0.054527,
     "end_time": "2023-10-15T18:28:12.654317",
     "exception": false,
     "start_time": "2023-10-15T18:28:12.599790",
     "status": "completed"
    },
    "tags": []
   },
   "outputs": [
    {
     "name": "stdout",
     "output_type": "stream",
     "text": [
      "<class 'pandas.core.frame.DataFrame'>\n",
      "RangeIndex: 2240 entries, 0 to 2239\n",
      "Data columns (total 29 columns):\n",
      " #   Column               Non-Null Count  Dtype  \n",
      "---  ------               --------------  -----  \n",
      " 0   ID                   2240 non-null   int64  \n",
      " 1   Year_Birth           2240 non-null   int64  \n",
      " 2   Education            2240 non-null   object \n",
      " 3   Marital_Status       2240 non-null   object \n",
      " 4   Income               2216 non-null   float64\n",
      " 5   Kidhome              2240 non-null   int64  \n",
      " 6   Teenhome             2240 non-null   int64  \n",
      " 7   Dt_Customer          2240 non-null   object \n",
      " 8   Recency              2240 non-null   int64  \n",
      " 9   MntWines             2240 non-null   int64  \n",
      " 10  MntFruits            2240 non-null   int64  \n",
      " 11  MntMeatProducts      2240 non-null   int64  \n",
      " 12  MntFishProducts      2240 non-null   int64  \n",
      " 13  MntSweetProducts     2240 non-null   int64  \n",
      " 14  MntGoldProds         2240 non-null   int64  \n",
      " 15  NumDealsPurchases    2240 non-null   int64  \n",
      " 16  NumWebPurchases      2240 non-null   int64  \n",
      " 17  NumCatalogPurchases  2240 non-null   int64  \n",
      " 18  NumStorePurchases    2240 non-null   int64  \n",
      " 19  NumWebVisitsMonth    2240 non-null   int64  \n",
      " 20  AcceptedCmp3         2240 non-null   int64  \n",
      " 21  AcceptedCmp4         2240 non-null   int64  \n",
      " 22  AcceptedCmp5         2240 non-null   int64  \n",
      " 23  AcceptedCmp1         2240 non-null   int64  \n",
      " 24  AcceptedCmp2         2240 non-null   int64  \n",
      " 25  Complain             2240 non-null   int64  \n",
      " 26  Z_CostContact        2240 non-null   int64  \n",
      " 27  Z_Revenue            2240 non-null   int64  \n",
      " 28  Response             2240 non-null   int64  \n",
      "dtypes: float64(1), int64(25), object(3)\n",
      "memory usage: 507.6+ KB\n"
     ]
    }
   ],
   "source": [
    "#We can see that there is missing values in 'Income'\n",
    "df.info()"
   ]
  },
  {
   "cell_type": "code",
   "execution_count": 5,
   "id": "243f9acc",
   "metadata": {
    "execution": {
     "iopub.execute_input": "2023-10-15T18:28:12.675494Z",
     "iopub.status.busy": "2023-10-15T18:28:12.674595Z",
     "iopub.status.idle": "2023-10-15T18:28:12.700277Z",
     "shell.execute_reply": "2023-10-15T18:28:12.698477Z"
    },
    "papermill": {
     "duration": 0.039363,
     "end_time": "2023-10-15T18:28:12.703140",
     "exception": false,
     "start_time": "2023-10-15T18:28:12.663777",
     "status": "completed"
    },
    "tags": []
   },
   "outputs": [
    {
     "data": {
      "text/html": [
       "<div>\n",
       "<style scoped>\n",
       "    .dataframe tbody tr th:only-of-type {\n",
       "        vertical-align: middle;\n",
       "    }\n",
       "\n",
       "    .dataframe tbody tr th {\n",
       "        vertical-align: top;\n",
       "    }\n",
       "\n",
       "    .dataframe thead th {\n",
       "        text-align: right;\n",
       "    }\n",
       "</style>\n",
       "<table border=\"1\" class=\"dataframe\">\n",
       "  <thead>\n",
       "    <tr style=\"text-align: right;\">\n",
       "      <th></th>\n",
       "      <th>0</th>\n",
       "      <th>1</th>\n",
       "      <th>2</th>\n",
       "      <th>3</th>\n",
       "      <th>4</th>\n",
       "    </tr>\n",
       "  </thead>\n",
       "  <tbody>\n",
       "    <tr>\n",
       "      <th>ID</th>\n",
       "      <td>5524</td>\n",
       "      <td>2174</td>\n",
       "      <td>4141</td>\n",
       "      <td>6182</td>\n",
       "      <td>5324</td>\n",
       "    </tr>\n",
       "    <tr>\n",
       "      <th>Year_Birth</th>\n",
       "      <td>1957</td>\n",
       "      <td>1954</td>\n",
       "      <td>1965</td>\n",
       "      <td>1984</td>\n",
       "      <td>1981</td>\n",
       "    </tr>\n",
       "    <tr>\n",
       "      <th>Education</th>\n",
       "      <td>Graduation</td>\n",
       "      <td>Graduation</td>\n",
       "      <td>Graduation</td>\n",
       "      <td>Graduation</td>\n",
       "      <td>PhD</td>\n",
       "    </tr>\n",
       "    <tr>\n",
       "      <th>Marital_Status</th>\n",
       "      <td>Single</td>\n",
       "      <td>Single</td>\n",
       "      <td>Together</td>\n",
       "      <td>Together</td>\n",
       "      <td>Married</td>\n",
       "    </tr>\n",
       "    <tr>\n",
       "      <th>Income</th>\n",
       "      <td>58138.0</td>\n",
       "      <td>46344.0</td>\n",
       "      <td>71613.0</td>\n",
       "      <td>26646.0</td>\n",
       "      <td>58293.0</td>\n",
       "    </tr>\n",
       "    <tr>\n",
       "      <th>Kidhome</th>\n",
       "      <td>0</td>\n",
       "      <td>1</td>\n",
       "      <td>0</td>\n",
       "      <td>1</td>\n",
       "      <td>1</td>\n",
       "    </tr>\n",
       "    <tr>\n",
       "      <th>Teenhome</th>\n",
       "      <td>0</td>\n",
       "      <td>1</td>\n",
       "      <td>0</td>\n",
       "      <td>0</td>\n",
       "      <td>0</td>\n",
       "    </tr>\n",
       "    <tr>\n",
       "      <th>Dt_Customer</th>\n",
       "      <td>04-09-2012</td>\n",
       "      <td>08-03-2014</td>\n",
       "      <td>21-08-2013</td>\n",
       "      <td>10-02-2014</td>\n",
       "      <td>19-01-2014</td>\n",
       "    </tr>\n",
       "    <tr>\n",
       "      <th>Recency</th>\n",
       "      <td>58</td>\n",
       "      <td>38</td>\n",
       "      <td>26</td>\n",
       "      <td>26</td>\n",
       "      <td>94</td>\n",
       "    </tr>\n",
       "    <tr>\n",
       "      <th>MntWines</th>\n",
       "      <td>635</td>\n",
       "      <td>11</td>\n",
       "      <td>426</td>\n",
       "      <td>11</td>\n",
       "      <td>173</td>\n",
       "    </tr>\n",
       "    <tr>\n",
       "      <th>MntFruits</th>\n",
       "      <td>88</td>\n",
       "      <td>1</td>\n",
       "      <td>49</td>\n",
       "      <td>4</td>\n",
       "      <td>43</td>\n",
       "    </tr>\n",
       "    <tr>\n",
       "      <th>MntMeatProducts</th>\n",
       "      <td>546</td>\n",
       "      <td>6</td>\n",
       "      <td>127</td>\n",
       "      <td>20</td>\n",
       "      <td>118</td>\n",
       "    </tr>\n",
       "    <tr>\n",
       "      <th>MntFishProducts</th>\n",
       "      <td>172</td>\n",
       "      <td>2</td>\n",
       "      <td>111</td>\n",
       "      <td>10</td>\n",
       "      <td>46</td>\n",
       "    </tr>\n",
       "    <tr>\n",
       "      <th>MntSweetProducts</th>\n",
       "      <td>88</td>\n",
       "      <td>1</td>\n",
       "      <td>21</td>\n",
       "      <td>3</td>\n",
       "      <td>27</td>\n",
       "    </tr>\n",
       "    <tr>\n",
       "      <th>MntGoldProds</th>\n",
       "      <td>88</td>\n",
       "      <td>6</td>\n",
       "      <td>42</td>\n",
       "      <td>5</td>\n",
       "      <td>15</td>\n",
       "    </tr>\n",
       "    <tr>\n",
       "      <th>NumDealsPurchases</th>\n",
       "      <td>3</td>\n",
       "      <td>2</td>\n",
       "      <td>1</td>\n",
       "      <td>2</td>\n",
       "      <td>5</td>\n",
       "    </tr>\n",
       "    <tr>\n",
       "      <th>NumWebPurchases</th>\n",
       "      <td>8</td>\n",
       "      <td>1</td>\n",
       "      <td>8</td>\n",
       "      <td>2</td>\n",
       "      <td>5</td>\n",
       "    </tr>\n",
       "    <tr>\n",
       "      <th>NumCatalogPurchases</th>\n",
       "      <td>10</td>\n",
       "      <td>1</td>\n",
       "      <td>2</td>\n",
       "      <td>0</td>\n",
       "      <td>3</td>\n",
       "    </tr>\n",
       "    <tr>\n",
       "      <th>NumStorePurchases</th>\n",
       "      <td>4</td>\n",
       "      <td>2</td>\n",
       "      <td>10</td>\n",
       "      <td>4</td>\n",
       "      <td>6</td>\n",
       "    </tr>\n",
       "    <tr>\n",
       "      <th>NumWebVisitsMonth</th>\n",
       "      <td>7</td>\n",
       "      <td>5</td>\n",
       "      <td>4</td>\n",
       "      <td>6</td>\n",
       "      <td>5</td>\n",
       "    </tr>\n",
       "    <tr>\n",
       "      <th>AcceptedCmp3</th>\n",
       "      <td>0</td>\n",
       "      <td>0</td>\n",
       "      <td>0</td>\n",
       "      <td>0</td>\n",
       "      <td>0</td>\n",
       "    </tr>\n",
       "    <tr>\n",
       "      <th>AcceptedCmp4</th>\n",
       "      <td>0</td>\n",
       "      <td>0</td>\n",
       "      <td>0</td>\n",
       "      <td>0</td>\n",
       "      <td>0</td>\n",
       "    </tr>\n",
       "    <tr>\n",
       "      <th>AcceptedCmp5</th>\n",
       "      <td>0</td>\n",
       "      <td>0</td>\n",
       "      <td>0</td>\n",
       "      <td>0</td>\n",
       "      <td>0</td>\n",
       "    </tr>\n",
       "    <tr>\n",
       "      <th>AcceptedCmp1</th>\n",
       "      <td>0</td>\n",
       "      <td>0</td>\n",
       "      <td>0</td>\n",
       "      <td>0</td>\n",
       "      <td>0</td>\n",
       "    </tr>\n",
       "    <tr>\n",
       "      <th>AcceptedCmp2</th>\n",
       "      <td>0</td>\n",
       "      <td>0</td>\n",
       "      <td>0</td>\n",
       "      <td>0</td>\n",
       "      <td>0</td>\n",
       "    </tr>\n",
       "    <tr>\n",
       "      <th>Complain</th>\n",
       "      <td>0</td>\n",
       "      <td>0</td>\n",
       "      <td>0</td>\n",
       "      <td>0</td>\n",
       "      <td>0</td>\n",
       "    </tr>\n",
       "    <tr>\n",
       "      <th>Z_CostContact</th>\n",
       "      <td>3</td>\n",
       "      <td>3</td>\n",
       "      <td>3</td>\n",
       "      <td>3</td>\n",
       "      <td>3</td>\n",
       "    </tr>\n",
       "    <tr>\n",
       "      <th>Z_Revenue</th>\n",
       "      <td>11</td>\n",
       "      <td>11</td>\n",
       "      <td>11</td>\n",
       "      <td>11</td>\n",
       "      <td>11</td>\n",
       "    </tr>\n",
       "    <tr>\n",
       "      <th>Response</th>\n",
       "      <td>1</td>\n",
       "      <td>0</td>\n",
       "      <td>0</td>\n",
       "      <td>0</td>\n",
       "      <td>0</td>\n",
       "    </tr>\n",
       "  </tbody>\n",
       "</table>\n",
       "</div>"
      ],
      "text/plain": [
       "                              0           1           2           3  \\\n",
       "ID                         5524        2174        4141        6182   \n",
       "Year_Birth                 1957        1954        1965        1984   \n",
       "Education            Graduation  Graduation  Graduation  Graduation   \n",
       "Marital_Status           Single      Single    Together    Together   \n",
       "Income                  58138.0     46344.0     71613.0     26646.0   \n",
       "Kidhome                       0           1           0           1   \n",
       "Teenhome                      0           1           0           0   \n",
       "Dt_Customer          04-09-2012  08-03-2014  21-08-2013  10-02-2014   \n",
       "Recency                      58          38          26          26   \n",
       "MntWines                    635          11         426          11   \n",
       "MntFruits                    88           1          49           4   \n",
       "MntMeatProducts             546           6         127          20   \n",
       "MntFishProducts             172           2         111          10   \n",
       "MntSweetProducts             88           1          21           3   \n",
       "MntGoldProds                 88           6          42           5   \n",
       "NumDealsPurchases             3           2           1           2   \n",
       "NumWebPurchases               8           1           8           2   \n",
       "NumCatalogPurchases          10           1           2           0   \n",
       "NumStorePurchases             4           2          10           4   \n",
       "NumWebVisitsMonth             7           5           4           6   \n",
       "AcceptedCmp3                  0           0           0           0   \n",
       "AcceptedCmp4                  0           0           0           0   \n",
       "AcceptedCmp5                  0           0           0           0   \n",
       "AcceptedCmp1                  0           0           0           0   \n",
       "AcceptedCmp2                  0           0           0           0   \n",
       "Complain                      0           0           0           0   \n",
       "Z_CostContact                 3           3           3           3   \n",
       "Z_Revenue                    11          11          11          11   \n",
       "Response                      1           0           0           0   \n",
       "\n",
       "                              4  \n",
       "ID                         5324  \n",
       "Year_Birth                 1981  \n",
       "Education                   PhD  \n",
       "Marital_Status          Married  \n",
       "Income                  58293.0  \n",
       "Kidhome                       1  \n",
       "Teenhome                      0  \n",
       "Dt_Customer          19-01-2014  \n",
       "Recency                      94  \n",
       "MntWines                    173  \n",
       "MntFruits                    43  \n",
       "MntMeatProducts             118  \n",
       "MntFishProducts              46  \n",
       "MntSweetProducts             27  \n",
       "MntGoldProds                 15  \n",
       "NumDealsPurchases             5  \n",
       "NumWebPurchases               5  \n",
       "NumCatalogPurchases           3  \n",
       "NumStorePurchases             6  \n",
       "NumWebVisitsMonth             5  \n",
       "AcceptedCmp3                  0  \n",
       "AcceptedCmp4                  0  \n",
       "AcceptedCmp5                  0  \n",
       "AcceptedCmp1                  0  \n",
       "AcceptedCmp2                  0  \n",
       "Complain                      0  \n",
       "Z_CostContact                 3  \n",
       "Z_Revenue                    11  \n",
       "Response                      0  "
      ]
     },
     "execution_count": 5,
     "metadata": {},
     "output_type": "execute_result"
    }
   ],
   "source": [
    "#checking first 5 values to understand data\n",
    "df.head().T"
   ]
  },
  {
   "cell_type": "markdown",
   "id": "321f3b33",
   "metadata": {
    "papermill": {
     "duration": 0.010345,
     "end_time": "2023-10-15T18:28:12.723857",
     "exception": false,
     "start_time": "2023-10-15T18:28:12.713512",
     "status": "completed"
    },
    "tags": []
   },
   "source": [
    "<div style=\"border-radius:10px; border:#DEB887 solid; padding: 15px; background-color: #FFFAF0; font-size:100%; text-align:left\">\n",
    "\n",
    "<h3 align=\"left\"><font color='#DEB887'>💡 Notes:</font></h3>\n",
    "\n",
    "\n",
    "1. **ID** : Customer's unique identifier\n",
    "1. **Year_Birth** : Customer's birth year\n",
    "1. **Education** : Customer's education level\n",
    "1. **Marital_Status** : Customer's marital status\n",
    "1. **Income** : Customer's yearly household income\n",
    "1. **Kidhome** : Number of children in customer's household\n",
    "1. **Teenhome** : Number of teenagers in customer's household\n",
    "1. **Dt_Customer** : Date of customer's enrollment with the company\n",
    "1. **Recency** : Number of days since customer's last purchase\n",
    "1. **Complain** : 1 if the customer complained in the last 2 years, 0 otherwise\n",
    "1. **MntWines** : Amount spent on wine in last 2 years\n",
    "1. **MntFruits** : Amount spent on fruits in last 2 years\n",
    "1. **MntMeatProducts** : Amount spent on meat in last 2 years\n",
    "1. **MntFishProducts** : Amount spent on fish in last 2 years\n",
    "1. **MntSweetProducts** : Amount spent on sweets in last 2 years\n",
    "1. **MntGoldProds** : Amount spent on gold in last 2 years\n",
    "1. **NumDealsPurchases** : Number of purchases made with a discount\n",
    "1. **AcceptedCmp1** : 1 if customer accepted the offer in the 1st campaign, 0 otherwise\n",
    "1. **AcceptedCmp2** : 1 if customer accepted the offer in the 2nd campaign, 0 otherwise\n",
    "1. **AcceptedCmp3** : 1 if customer accepted the offer in the 3rd campaign, 0 otherwise\n",
    "1. **AcceptedCmp4** : 1 if customer accepted the offer in the 4th campaign, 0 otherwise\n",
    "1. **AcceptedCmp5** : 1 if customer accepted the offer in the 5th campaign, 0 otherwise\n",
    "1. **Response** : 1 if customer accepted the offer in the last campaign, 0 otherwise\n",
    "1. **NumWebPurchases** : Number of purchases made through the company’s website\n",
    "1. **NumCatalogPurchases** : Number of purchases made using a catalogue\n",
    "1. **NumStorePurchases** : Number of purchases made directly in stores\n",
    "1. **NumWebVisitsMonth** : Number of visits to company’s website in the last month"
   ]
  },
  {
   "cell_type": "code",
   "execution_count": 6,
   "id": "84a00912",
   "metadata": {
    "execution": {
     "iopub.execute_input": "2023-10-15T18:28:12.747126Z",
     "iopub.status.busy": "2023-10-15T18:28:12.746771Z",
     "iopub.status.idle": "2023-10-15T18:28:12.763813Z",
     "shell.execute_reply": "2023-10-15T18:28:12.762676Z"
    },
    "papermill": {
     "duration": 0.03143,
     "end_time": "2023-10-15T18:28:12.766162",
     "exception": false,
     "start_time": "2023-10-15T18:28:12.734732",
     "status": "completed"
    },
    "tags": []
   },
   "outputs": [],
   "source": [
    "#dt customer was object, we changed it to datetime\n",
    "df[\"Dt_Customer\"] = pd.to_datetime(df[\"Dt_Customer\"], format='%d-%m-%Y')"
   ]
  },
  {
   "cell_type": "code",
   "execution_count": 7,
   "id": "1a2766de",
   "metadata": {
    "execution": {
     "iopub.execute_input": "2023-10-15T18:28:12.789319Z",
     "iopub.status.busy": "2023-10-15T18:28:12.788806Z",
     "iopub.status.idle": "2023-10-15T18:28:12.797113Z",
     "shell.execute_reply": "2023-10-15T18:28:12.796017Z"
    },
    "papermill": {
     "duration": 0.023258,
     "end_time": "2023-10-15T18:28:12.799788",
     "exception": false,
     "start_time": "2023-10-15T18:28:12.776530",
     "status": "completed"
    },
    "tags": []
   },
   "outputs": [],
   "source": [
    "#gathered all spent columns in one \n",
    "df[\"Monetary\"] = df[\"MntWines\"]+ df[\"MntFruits\"]+ df[\"MntMeatProducts\"]+ df[\"MntFishProducts\"]+ df[\"MntSweetProducts\"]+ df[\"MntGoldProds\"]"
   ]
  },
  {
   "cell_type": "code",
   "execution_count": 8,
   "id": "1bc48b0f",
   "metadata": {
    "execution": {
     "iopub.execute_input": "2023-10-15T18:28:12.821917Z",
     "iopub.status.busy": "2023-10-15T18:28:12.821174Z",
     "iopub.status.idle": "2023-10-15T18:28:12.827924Z",
     "shell.execute_reply": "2023-10-15T18:28:12.826641Z"
    },
    "papermill": {
     "duration": 0.02001,
     "end_time": "2023-10-15T18:28:12.830183",
     "exception": false,
     "start_time": "2023-10-15T18:28:12.810173",
     "status": "completed"
    },
    "tags": []
   },
   "outputs": [],
   "source": [
    "#gathered all kind of childrens in one \n",
    "df[\"Children\"]=df[\"Kidhome\"]+df[\"Teenhome\"]"
   ]
  },
  {
   "cell_type": "code",
   "execution_count": 9,
   "id": "a8b5b5ee",
   "metadata": {
    "execution": {
     "iopub.execute_input": "2023-10-15T18:28:12.852014Z",
     "iopub.status.busy": "2023-10-15T18:28:12.851665Z",
     "iopub.status.idle": "2023-10-15T18:28:12.944161Z",
     "shell.execute_reply": "2023-10-15T18:28:12.942636Z"
    },
    "papermill": {
     "duration": 0.106217,
     "end_time": "2023-10-15T18:28:12.946539",
     "exception": false,
     "start_time": "2023-10-15T18:28:12.840322",
     "status": "completed"
    },
    "tags": []
   },
   "outputs": [
    {
     "data": {
      "text/html": [
       "<div>\n",
       "<style scoped>\n",
       "    .dataframe tbody tr th:only-of-type {\n",
       "        vertical-align: middle;\n",
       "    }\n",
       "\n",
       "    .dataframe tbody tr th {\n",
       "        vertical-align: top;\n",
       "    }\n",
       "\n",
       "    .dataframe thead th {\n",
       "        text-align: right;\n",
       "    }\n",
       "</style>\n",
       "<table border=\"1\" class=\"dataframe\">\n",
       "  <thead>\n",
       "    <tr style=\"text-align: right;\">\n",
       "      <th></th>\n",
       "      <th>count</th>\n",
       "      <th>mean</th>\n",
       "      <th>min</th>\n",
       "      <th>25%</th>\n",
       "      <th>50%</th>\n",
       "      <th>75%</th>\n",
       "      <th>max</th>\n",
       "      <th>std</th>\n",
       "    </tr>\n",
       "  </thead>\n",
       "  <tbody>\n",
       "    <tr>\n",
       "      <th>ID</th>\n",
       "      <td>2240.0</td>\n",
       "      <td>5592.159821</td>\n",
       "      <td>0.0</td>\n",
       "      <td>2828.25</td>\n",
       "      <td>5458.5</td>\n",
       "      <td>8427.75</td>\n",
       "      <td>11191.0</td>\n",
       "      <td>3246.662198</td>\n",
       "    </tr>\n",
       "    <tr>\n",
       "      <th>Year_Birth</th>\n",
       "      <td>2240.0</td>\n",
       "      <td>1968.805804</td>\n",
       "      <td>1893.0</td>\n",
       "      <td>1959.0</td>\n",
       "      <td>1970.0</td>\n",
       "      <td>1977.0</td>\n",
       "      <td>1996.0</td>\n",
       "      <td>11.984069</td>\n",
       "    </tr>\n",
       "    <tr>\n",
       "      <th>Income</th>\n",
       "      <td>2216.0</td>\n",
       "      <td>52247.251354</td>\n",
       "      <td>1730.0</td>\n",
       "      <td>35303.0</td>\n",
       "      <td>51381.5</td>\n",
       "      <td>68522.0</td>\n",
       "      <td>666666.0</td>\n",
       "      <td>25173.076661</td>\n",
       "    </tr>\n",
       "    <tr>\n",
       "      <th>Kidhome</th>\n",
       "      <td>2240.0</td>\n",
       "      <td>0.444196</td>\n",
       "      <td>0.0</td>\n",
       "      <td>0.0</td>\n",
       "      <td>0.0</td>\n",
       "      <td>1.0</td>\n",
       "      <td>2.0</td>\n",
       "      <td>0.538398</td>\n",
       "    </tr>\n",
       "    <tr>\n",
       "      <th>Teenhome</th>\n",
       "      <td>2240.0</td>\n",
       "      <td>0.50625</td>\n",
       "      <td>0.0</td>\n",
       "      <td>0.0</td>\n",
       "      <td>0.0</td>\n",
       "      <td>1.0</td>\n",
       "      <td>2.0</td>\n",
       "      <td>0.544538</td>\n",
       "    </tr>\n",
       "    <tr>\n",
       "      <th>Dt_Customer</th>\n",
       "      <td>2240</td>\n",
       "      <td>2013-07-10 10:01:42.857142784</td>\n",
       "      <td>2012-07-30 00:00:00</td>\n",
       "      <td>2013-01-16 00:00:00</td>\n",
       "      <td>2013-07-08 12:00:00</td>\n",
       "      <td>2013-12-30 06:00:00</td>\n",
       "      <td>2014-06-29 00:00:00</td>\n",
       "      <td>NaN</td>\n",
       "    </tr>\n",
       "    <tr>\n",
       "      <th>Recency</th>\n",
       "      <td>2240.0</td>\n",
       "      <td>49.109375</td>\n",
       "      <td>0.0</td>\n",
       "      <td>24.0</td>\n",
       "      <td>49.0</td>\n",
       "      <td>74.0</td>\n",
       "      <td>99.0</td>\n",
       "      <td>28.962453</td>\n",
       "    </tr>\n",
       "    <tr>\n",
       "      <th>MntWines</th>\n",
       "      <td>2240.0</td>\n",
       "      <td>303.935714</td>\n",
       "      <td>0.0</td>\n",
       "      <td>23.75</td>\n",
       "      <td>173.5</td>\n",
       "      <td>504.25</td>\n",
       "      <td>1493.0</td>\n",
       "      <td>336.597393</td>\n",
       "    </tr>\n",
       "    <tr>\n",
       "      <th>MntFruits</th>\n",
       "      <td>2240.0</td>\n",
       "      <td>26.302232</td>\n",
       "      <td>0.0</td>\n",
       "      <td>1.0</td>\n",
       "      <td>8.0</td>\n",
       "      <td>33.0</td>\n",
       "      <td>199.0</td>\n",
       "      <td>39.773434</td>\n",
       "    </tr>\n",
       "    <tr>\n",
       "      <th>MntMeatProducts</th>\n",
       "      <td>2240.0</td>\n",
       "      <td>166.95</td>\n",
       "      <td>0.0</td>\n",
       "      <td>16.0</td>\n",
       "      <td>67.0</td>\n",
       "      <td>232.0</td>\n",
       "      <td>1725.0</td>\n",
       "      <td>225.715373</td>\n",
       "    </tr>\n",
       "    <tr>\n",
       "      <th>MntFishProducts</th>\n",
       "      <td>2240.0</td>\n",
       "      <td>37.525446</td>\n",
       "      <td>0.0</td>\n",
       "      <td>3.0</td>\n",
       "      <td>12.0</td>\n",
       "      <td>50.0</td>\n",
       "      <td>259.0</td>\n",
       "      <td>54.628979</td>\n",
       "    </tr>\n",
       "    <tr>\n",
       "      <th>MntSweetProducts</th>\n",
       "      <td>2240.0</td>\n",
       "      <td>27.062946</td>\n",
       "      <td>0.0</td>\n",
       "      <td>1.0</td>\n",
       "      <td>8.0</td>\n",
       "      <td>33.0</td>\n",
       "      <td>263.0</td>\n",
       "      <td>41.280498</td>\n",
       "    </tr>\n",
       "    <tr>\n",
       "      <th>MntGoldProds</th>\n",
       "      <td>2240.0</td>\n",
       "      <td>44.021875</td>\n",
       "      <td>0.0</td>\n",
       "      <td>9.0</td>\n",
       "      <td>24.0</td>\n",
       "      <td>56.0</td>\n",
       "      <td>362.0</td>\n",
       "      <td>52.167439</td>\n",
       "    </tr>\n",
       "    <tr>\n",
       "      <th>NumDealsPurchases</th>\n",
       "      <td>2240.0</td>\n",
       "      <td>2.325</td>\n",
       "      <td>0.0</td>\n",
       "      <td>1.0</td>\n",
       "      <td>2.0</td>\n",
       "      <td>3.0</td>\n",
       "      <td>15.0</td>\n",
       "      <td>1.932238</td>\n",
       "    </tr>\n",
       "    <tr>\n",
       "      <th>NumWebPurchases</th>\n",
       "      <td>2240.0</td>\n",
       "      <td>4.084821</td>\n",
       "      <td>0.0</td>\n",
       "      <td>2.0</td>\n",
       "      <td>4.0</td>\n",
       "      <td>6.0</td>\n",
       "      <td>27.0</td>\n",
       "      <td>2.778714</td>\n",
       "    </tr>\n",
       "    <tr>\n",
       "      <th>NumCatalogPurchases</th>\n",
       "      <td>2240.0</td>\n",
       "      <td>2.662054</td>\n",
       "      <td>0.0</td>\n",
       "      <td>0.0</td>\n",
       "      <td>2.0</td>\n",
       "      <td>4.0</td>\n",
       "      <td>28.0</td>\n",
       "      <td>2.923101</td>\n",
       "    </tr>\n",
       "    <tr>\n",
       "      <th>NumStorePurchases</th>\n",
       "      <td>2240.0</td>\n",
       "      <td>5.790179</td>\n",
       "      <td>0.0</td>\n",
       "      <td>3.0</td>\n",
       "      <td>5.0</td>\n",
       "      <td>8.0</td>\n",
       "      <td>13.0</td>\n",
       "      <td>3.250958</td>\n",
       "    </tr>\n",
       "    <tr>\n",
       "      <th>NumWebVisitsMonth</th>\n",
       "      <td>2240.0</td>\n",
       "      <td>5.316518</td>\n",
       "      <td>0.0</td>\n",
       "      <td>3.0</td>\n",
       "      <td>6.0</td>\n",
       "      <td>7.0</td>\n",
       "      <td>20.0</td>\n",
       "      <td>2.426645</td>\n",
       "    </tr>\n",
       "    <tr>\n",
       "      <th>AcceptedCmp3</th>\n",
       "      <td>2240.0</td>\n",
       "      <td>0.072768</td>\n",
       "      <td>0.0</td>\n",
       "      <td>0.0</td>\n",
       "      <td>0.0</td>\n",
       "      <td>0.0</td>\n",
       "      <td>1.0</td>\n",
       "      <td>0.259813</td>\n",
       "    </tr>\n",
       "    <tr>\n",
       "      <th>AcceptedCmp4</th>\n",
       "      <td>2240.0</td>\n",
       "      <td>0.074554</td>\n",
       "      <td>0.0</td>\n",
       "      <td>0.0</td>\n",
       "      <td>0.0</td>\n",
       "      <td>0.0</td>\n",
       "      <td>1.0</td>\n",
       "      <td>0.262728</td>\n",
       "    </tr>\n",
       "    <tr>\n",
       "      <th>AcceptedCmp5</th>\n",
       "      <td>2240.0</td>\n",
       "      <td>0.072768</td>\n",
       "      <td>0.0</td>\n",
       "      <td>0.0</td>\n",
       "      <td>0.0</td>\n",
       "      <td>0.0</td>\n",
       "      <td>1.0</td>\n",
       "      <td>0.259813</td>\n",
       "    </tr>\n",
       "    <tr>\n",
       "      <th>AcceptedCmp1</th>\n",
       "      <td>2240.0</td>\n",
       "      <td>0.064286</td>\n",
       "      <td>0.0</td>\n",
       "      <td>0.0</td>\n",
       "      <td>0.0</td>\n",
       "      <td>0.0</td>\n",
       "      <td>1.0</td>\n",
       "      <td>0.245316</td>\n",
       "    </tr>\n",
       "    <tr>\n",
       "      <th>AcceptedCmp2</th>\n",
       "      <td>2240.0</td>\n",
       "      <td>0.013393</td>\n",
       "      <td>0.0</td>\n",
       "      <td>0.0</td>\n",
       "      <td>0.0</td>\n",
       "      <td>0.0</td>\n",
       "      <td>1.0</td>\n",
       "      <td>0.114976</td>\n",
       "    </tr>\n",
       "    <tr>\n",
       "      <th>Complain</th>\n",
       "      <td>2240.0</td>\n",
       "      <td>0.009375</td>\n",
       "      <td>0.0</td>\n",
       "      <td>0.0</td>\n",
       "      <td>0.0</td>\n",
       "      <td>0.0</td>\n",
       "      <td>1.0</td>\n",
       "      <td>0.096391</td>\n",
       "    </tr>\n",
       "    <tr>\n",
       "      <th>Z_CostContact</th>\n",
       "      <td>2240.0</td>\n",
       "      <td>3.0</td>\n",
       "      <td>3.0</td>\n",
       "      <td>3.0</td>\n",
       "      <td>3.0</td>\n",
       "      <td>3.0</td>\n",
       "      <td>3.0</td>\n",
       "      <td>0.0</td>\n",
       "    </tr>\n",
       "    <tr>\n",
       "      <th>Z_Revenue</th>\n",
       "      <td>2240.0</td>\n",
       "      <td>11.0</td>\n",
       "      <td>11.0</td>\n",
       "      <td>11.0</td>\n",
       "      <td>11.0</td>\n",
       "      <td>11.0</td>\n",
       "      <td>11.0</td>\n",
       "      <td>0.0</td>\n",
       "    </tr>\n",
       "    <tr>\n",
       "      <th>Response</th>\n",
       "      <td>2240.0</td>\n",
       "      <td>0.149107</td>\n",
       "      <td>0.0</td>\n",
       "      <td>0.0</td>\n",
       "      <td>0.0</td>\n",
       "      <td>0.0</td>\n",
       "      <td>1.0</td>\n",
       "      <td>0.356274</td>\n",
       "    </tr>\n",
       "    <tr>\n",
       "      <th>Monetary</th>\n",
       "      <td>2240.0</td>\n",
       "      <td>605.798214</td>\n",
       "      <td>5.0</td>\n",
       "      <td>68.75</td>\n",
       "      <td>396.0</td>\n",
       "      <td>1045.5</td>\n",
       "      <td>2525.0</td>\n",
       "      <td>602.249288</td>\n",
       "    </tr>\n",
       "    <tr>\n",
       "      <th>Children</th>\n",
       "      <td>2240.0</td>\n",
       "      <td>0.950446</td>\n",
       "      <td>0.0</td>\n",
       "      <td>0.0</td>\n",
       "      <td>1.0</td>\n",
       "      <td>1.0</td>\n",
       "      <td>3.0</td>\n",
       "      <td>0.751803</td>\n",
       "    </tr>\n",
       "  </tbody>\n",
       "</table>\n",
       "</div>"
      ],
      "text/plain": [
       "                      count                           mean  \\\n",
       "ID                   2240.0                    5592.159821   \n",
       "Year_Birth           2240.0                    1968.805804   \n",
       "Income               2216.0                   52247.251354   \n",
       "Kidhome              2240.0                       0.444196   \n",
       "Teenhome             2240.0                        0.50625   \n",
       "Dt_Customer            2240  2013-07-10 10:01:42.857142784   \n",
       "Recency              2240.0                      49.109375   \n",
       "MntWines             2240.0                     303.935714   \n",
       "MntFruits            2240.0                      26.302232   \n",
       "MntMeatProducts      2240.0                         166.95   \n",
       "MntFishProducts      2240.0                      37.525446   \n",
       "MntSweetProducts     2240.0                      27.062946   \n",
       "MntGoldProds         2240.0                      44.021875   \n",
       "NumDealsPurchases    2240.0                          2.325   \n",
       "NumWebPurchases      2240.0                       4.084821   \n",
       "NumCatalogPurchases  2240.0                       2.662054   \n",
       "NumStorePurchases    2240.0                       5.790179   \n",
       "NumWebVisitsMonth    2240.0                       5.316518   \n",
       "AcceptedCmp3         2240.0                       0.072768   \n",
       "AcceptedCmp4         2240.0                       0.074554   \n",
       "AcceptedCmp5         2240.0                       0.072768   \n",
       "AcceptedCmp1         2240.0                       0.064286   \n",
       "AcceptedCmp2         2240.0                       0.013393   \n",
       "Complain             2240.0                       0.009375   \n",
       "Z_CostContact        2240.0                            3.0   \n",
       "Z_Revenue            2240.0                           11.0   \n",
       "Response             2240.0                       0.149107   \n",
       "Monetary             2240.0                     605.798214   \n",
       "Children             2240.0                       0.950446   \n",
       "\n",
       "                                     min                  25%  \\\n",
       "ID                                   0.0              2828.25   \n",
       "Year_Birth                        1893.0               1959.0   \n",
       "Income                            1730.0              35303.0   \n",
       "Kidhome                              0.0                  0.0   \n",
       "Teenhome                             0.0                  0.0   \n",
       "Dt_Customer          2012-07-30 00:00:00  2013-01-16 00:00:00   \n",
       "Recency                              0.0                 24.0   \n",
       "MntWines                             0.0                23.75   \n",
       "MntFruits                            0.0                  1.0   \n",
       "MntMeatProducts                      0.0                 16.0   \n",
       "MntFishProducts                      0.0                  3.0   \n",
       "MntSweetProducts                     0.0                  1.0   \n",
       "MntGoldProds                         0.0                  9.0   \n",
       "NumDealsPurchases                    0.0                  1.0   \n",
       "NumWebPurchases                      0.0                  2.0   \n",
       "NumCatalogPurchases                  0.0                  0.0   \n",
       "NumStorePurchases                    0.0                  3.0   \n",
       "NumWebVisitsMonth                    0.0                  3.0   \n",
       "AcceptedCmp3                         0.0                  0.0   \n",
       "AcceptedCmp4                         0.0                  0.0   \n",
       "AcceptedCmp5                         0.0                  0.0   \n",
       "AcceptedCmp1                         0.0                  0.0   \n",
       "AcceptedCmp2                         0.0                  0.0   \n",
       "Complain                             0.0                  0.0   \n",
       "Z_CostContact                        3.0                  3.0   \n",
       "Z_Revenue                           11.0                 11.0   \n",
       "Response                             0.0                  0.0   \n",
       "Monetary                             5.0                68.75   \n",
       "Children                             0.0                  0.0   \n",
       "\n",
       "                                     50%                  75%  \\\n",
       "ID                                5458.5              8427.75   \n",
       "Year_Birth                        1970.0               1977.0   \n",
       "Income                           51381.5              68522.0   \n",
       "Kidhome                              0.0                  1.0   \n",
       "Teenhome                             0.0                  1.0   \n",
       "Dt_Customer          2013-07-08 12:00:00  2013-12-30 06:00:00   \n",
       "Recency                             49.0                 74.0   \n",
       "MntWines                           173.5               504.25   \n",
       "MntFruits                            8.0                 33.0   \n",
       "MntMeatProducts                     67.0                232.0   \n",
       "MntFishProducts                     12.0                 50.0   \n",
       "MntSweetProducts                     8.0                 33.0   \n",
       "MntGoldProds                        24.0                 56.0   \n",
       "NumDealsPurchases                    2.0                  3.0   \n",
       "NumWebPurchases                      4.0                  6.0   \n",
       "NumCatalogPurchases                  2.0                  4.0   \n",
       "NumStorePurchases                    5.0                  8.0   \n",
       "NumWebVisitsMonth                    6.0                  7.0   \n",
       "AcceptedCmp3                         0.0                  0.0   \n",
       "AcceptedCmp4                         0.0                  0.0   \n",
       "AcceptedCmp5                         0.0                  0.0   \n",
       "AcceptedCmp1                         0.0                  0.0   \n",
       "AcceptedCmp2                         0.0                  0.0   \n",
       "Complain                             0.0                  0.0   \n",
       "Z_CostContact                        3.0                  3.0   \n",
       "Z_Revenue                           11.0                 11.0   \n",
       "Response                             0.0                  0.0   \n",
       "Monetary                           396.0               1045.5   \n",
       "Children                             1.0                  1.0   \n",
       "\n",
       "                                     max           std  \n",
       "ID                               11191.0   3246.662198  \n",
       "Year_Birth                        1996.0     11.984069  \n",
       "Income                          666666.0  25173.076661  \n",
       "Kidhome                              2.0      0.538398  \n",
       "Teenhome                             2.0      0.544538  \n",
       "Dt_Customer          2014-06-29 00:00:00           NaN  \n",
       "Recency                             99.0     28.962453  \n",
       "MntWines                          1493.0    336.597393  \n",
       "MntFruits                          199.0     39.773434  \n",
       "MntMeatProducts                   1725.0    225.715373  \n",
       "MntFishProducts                    259.0     54.628979  \n",
       "MntSweetProducts                   263.0     41.280498  \n",
       "MntGoldProds                       362.0     52.167439  \n",
       "NumDealsPurchases                   15.0      1.932238  \n",
       "NumWebPurchases                     27.0      2.778714  \n",
       "NumCatalogPurchases                 28.0      2.923101  \n",
       "NumStorePurchases                   13.0      3.250958  \n",
       "NumWebVisitsMonth                   20.0      2.426645  \n",
       "AcceptedCmp3                         1.0      0.259813  \n",
       "AcceptedCmp4                         1.0      0.262728  \n",
       "AcceptedCmp5                         1.0      0.259813  \n",
       "AcceptedCmp1                         1.0      0.245316  \n",
       "AcceptedCmp2                         1.0      0.114976  \n",
       "Complain                             1.0      0.096391  \n",
       "Z_CostContact                        3.0           0.0  \n",
       "Z_Revenue                           11.0           0.0  \n",
       "Response                             1.0      0.356274  \n",
       "Monetary                          2525.0    602.249288  \n",
       "Children                             3.0      0.751803  "
      ]
     },
     "execution_count": 9,
     "metadata": {},
     "output_type": "execute_result"
    }
   ],
   "source": [
    "df.describe().T"
   ]
  },
  {
   "cell_type": "code",
   "execution_count": 10,
   "id": "e9a17588",
   "metadata": {
    "execution": {
     "iopub.execute_input": "2023-10-15T18:28:13.041291Z",
     "iopub.status.busy": "2023-10-15T18:28:13.040918Z",
     "iopub.status.idle": "2023-10-15T18:28:13.047304Z",
     "shell.execute_reply": "2023-10-15T18:28:13.046481Z"
    },
    "papermill": {
     "duration": 0.021355,
     "end_time": "2023-10-15T18:28:13.049607",
     "exception": false,
     "start_time": "2023-10-15T18:28:13.028252",
     "status": "completed"
    },
    "tags": []
   },
   "outputs": [],
   "source": [
    "df[\"Frequency\"] = df[\"NumDealsPurchases\"] + df[\"NumWebPurchases\"] + df[\"NumCatalogPurchases\"] + df[\"NumStorePurchases\"]"
   ]
  },
  {
   "cell_type": "code",
   "execution_count": 11,
   "id": "2700e6cf",
   "metadata": {
    "execution": {
     "iopub.execute_input": "2023-10-15T18:28:13.073288Z",
     "iopub.status.busy": "2023-10-15T18:28:13.072948Z",
     "iopub.status.idle": "2023-10-15T18:28:13.084606Z",
     "shell.execute_reply": "2023-10-15T18:28:13.083384Z"
    },
    "papermill": {
     "duration": 0.025932,
     "end_time": "2023-10-15T18:28:13.086705",
     "exception": false,
     "start_time": "2023-10-15T18:28:13.060773",
     "status": "completed"
    },
    "tags": []
   },
   "outputs": [
    {
     "data": {
      "text/html": [
       "<div>\n",
       "<style scoped>\n",
       "    .dataframe tbody tr th:only-of-type {\n",
       "        vertical-align: middle;\n",
       "    }\n",
       "\n",
       "    .dataframe tbody tr th {\n",
       "        vertical-align: top;\n",
       "    }\n",
       "\n",
       "    .dataframe thead th {\n",
       "        text-align: right;\n",
       "    }\n",
       "</style>\n",
       "<table border=\"1\" class=\"dataframe\">\n",
       "  <thead>\n",
       "    <tr style=\"text-align: right;\">\n",
       "      <th></th>\n",
       "      <th>ID</th>\n",
       "      <th>Recency</th>\n",
       "      <th>Frequency</th>\n",
       "      <th>Monetary</th>\n",
       "    </tr>\n",
       "  </thead>\n",
       "  <tbody>\n",
       "    <tr>\n",
       "      <th>0</th>\n",
       "      <td>5524</td>\n",
       "      <td>58</td>\n",
       "      <td>25</td>\n",
       "      <td>1617</td>\n",
       "    </tr>\n",
       "    <tr>\n",
       "      <th>1</th>\n",
       "      <td>2174</td>\n",
       "      <td>38</td>\n",
       "      <td>6</td>\n",
       "      <td>27</td>\n",
       "    </tr>\n",
       "    <tr>\n",
       "      <th>2</th>\n",
       "      <td>4141</td>\n",
       "      <td>26</td>\n",
       "      <td>21</td>\n",
       "      <td>776</td>\n",
       "    </tr>\n",
       "    <tr>\n",
       "      <th>3</th>\n",
       "      <td>6182</td>\n",
       "      <td>26</td>\n",
       "      <td>8</td>\n",
       "      <td>53</td>\n",
       "    </tr>\n",
       "    <tr>\n",
       "      <th>4</th>\n",
       "      <td>5324</td>\n",
       "      <td>94</td>\n",
       "      <td>19</td>\n",
       "      <td>422</td>\n",
       "    </tr>\n",
       "  </tbody>\n",
       "</table>\n",
       "</div>"
      ],
      "text/plain": [
       "     ID  Recency  Frequency  Monetary\n",
       "0  5524       58         25      1617\n",
       "1  2174       38          6        27\n",
       "2  4141       26         21       776\n",
       "3  6182       26          8        53\n",
       "4  5324       94         19       422"
      ]
     },
     "execution_count": 11,
     "metadata": {},
     "output_type": "execute_result"
    }
   ],
   "source": [
    "rfm = df[[\"ID\", \"Recency\",\"Frequency\",\"Monetary\" ]]\n",
    "rfm.head()"
   ]
  },
  {
   "cell_type": "code",
   "execution_count": 12,
   "id": "b71b5467",
   "metadata": {
    "execution": {
     "iopub.execute_input": "2023-10-15T18:28:13.112122Z",
     "iopub.status.busy": "2023-10-15T18:28:13.111764Z",
     "iopub.status.idle": "2023-10-15T18:28:13.120950Z",
     "shell.execute_reply": "2023-10-15T18:28:13.119845Z"
    },
    "papermill": {
     "duration": 0.025049,
     "end_time": "2023-10-15T18:28:13.123948",
     "exception": false,
     "start_time": "2023-10-15T18:28:13.098899",
     "status": "completed"
    },
    "tags": []
   },
   "outputs": [],
   "source": [
    "rfm = rfm[rfm[\"Frequency\"] > 0]\n",
    "rfm = rfm[rfm[\"Recency\"] > 0]"
   ]
  },
  {
   "cell_type": "code",
   "execution_count": 13,
   "id": "a2267cc8",
   "metadata": {
    "execution": {
     "iopub.execute_input": "2023-10-15T18:28:13.148654Z",
     "iopub.status.busy": "2023-10-15T18:28:13.147585Z",
     "iopub.status.idle": "2023-10-15T18:28:13.159247Z",
     "shell.execute_reply": "2023-10-15T18:28:13.158376Z"
    },
    "papermill": {
     "duration": 0.025819,
     "end_time": "2023-10-15T18:28:13.161437",
     "exception": false,
     "start_time": "2023-10-15T18:28:13.135618",
     "status": "completed"
    },
    "tags": []
   },
   "outputs": [],
   "source": [
    "rfm[\"recency_score\"] = pd.qcut(rfm['Recency'],5, labels=[5,4,3,2,1])"
   ]
  },
  {
   "cell_type": "code",
   "execution_count": 14,
   "id": "1ae32df3",
   "metadata": {
    "execution": {
     "iopub.execute_input": "2023-10-15T18:28:13.184354Z",
     "iopub.status.busy": "2023-10-15T18:28:13.183984Z",
     "iopub.status.idle": "2023-10-15T18:28:13.192008Z",
     "shell.execute_reply": "2023-10-15T18:28:13.190757Z"
    },
    "papermill": {
     "duration": 0.022616,
     "end_time": "2023-10-15T18:28:13.194559",
     "exception": false,
     "start_time": "2023-10-15T18:28:13.171943",
     "status": "completed"
    },
    "tags": []
   },
   "outputs": [],
   "source": [
    "rfm[\"monetary_score\"] = pd.qcut(rfm['Monetary'],5,labels= [1,2,3,4,5])"
   ]
  },
  {
   "cell_type": "code",
   "execution_count": 15,
   "id": "89fe8429",
   "metadata": {
    "execution": {
     "iopub.execute_input": "2023-10-15T18:28:13.218558Z",
     "iopub.status.busy": "2023-10-15T18:28:13.218160Z",
     "iopub.status.idle": "2023-10-15T18:28:13.232739Z",
     "shell.execute_reply": "2023-10-15T18:28:13.231660Z"
    },
    "papermill": {
     "duration": 0.029942,
     "end_time": "2023-10-15T18:28:13.235127",
     "exception": false,
     "start_time": "2023-10-15T18:28:13.205185",
     "status": "completed"
    },
    "tags": []
   },
   "outputs": [],
   "source": [
    "rfm[\"frequency_score\"]= pd.qcut(rfm['Frequency'].rank(method=\"first\"), 5, labels=[1,2,3,4,5])"
   ]
  },
  {
   "cell_type": "code",
   "execution_count": 16,
   "id": "3c9bf87d",
   "metadata": {
    "execution": {
     "iopub.execute_input": "2023-10-15T18:28:13.258855Z",
     "iopub.status.busy": "2023-10-15T18:28:13.258496Z",
     "iopub.status.idle": "2023-10-15T18:28:13.266902Z",
     "shell.execute_reply": "2023-10-15T18:28:13.265933Z"
    },
    "papermill": {
     "duration": 0.022437,
     "end_time": "2023-10-15T18:28:13.269137",
     "exception": false,
     "start_time": "2023-10-15T18:28:13.246700",
     "status": "completed"
    },
    "tags": []
   },
   "outputs": [],
   "source": [
    "rfm[\"RF_SCORE\"] = (rfm['recency_score'].astype(str) +\n",
    "                    rfm['frequency_score'].astype(str))"
   ]
  },
  {
   "cell_type": "code",
   "execution_count": 17,
   "id": "5b53e45a",
   "metadata": {
    "execution": {
     "iopub.execute_input": "2023-10-15T18:28:13.293340Z",
     "iopub.status.busy": "2023-10-15T18:28:13.292128Z",
     "iopub.status.idle": "2023-10-15T18:28:13.298076Z",
     "shell.execute_reply": "2023-10-15T18:28:13.297288Z"
    },
    "papermill": {
     "duration": 0.020222,
     "end_time": "2023-10-15T18:28:13.300234",
     "exception": false,
     "start_time": "2023-10-15T18:28:13.280012",
     "status": "completed"
    },
    "tags": []
   },
   "outputs": [],
   "source": [
    "seg_map = {\n",
    "    r'[1-2][1-2]': 'hibernating',\n",
    "    r'[1-2][3-4]': 'at_risk',\n",
    "    r'[1-2]5': 'cant_loose',\n",
    "    r'3[1-2]': 'about_to_sleep',\n",
    "    r'33': 'need_attention',\n",
    "    r'[3-4][4-5]': 'loyal_customers',\n",
    "    r'41': 'promising',\n",
    "    r'51': 'new_customers',\n",
    "    r'[4-5][2-3]': 'potential_loyalist',\n",
    "    r'5[4-5]': 'champions',\n",
    "}"
   ]
  },
  {
   "cell_type": "code",
   "execution_count": 18,
   "id": "e3852ebe",
   "metadata": {
    "execution": {
     "iopub.execute_input": "2023-10-15T18:28:13.323214Z",
     "iopub.status.busy": "2023-10-15T18:28:13.322865Z",
     "iopub.status.idle": "2023-10-15T18:28:13.356773Z",
     "shell.execute_reply": "2023-10-15T18:28:13.355721Z"
    },
    "papermill": {
     "duration": 0.048147,
     "end_time": "2023-10-15T18:28:13.358813",
     "exception": false,
     "start_time": "2023-10-15T18:28:13.310666",
     "status": "completed"
    },
    "tags": []
   },
   "outputs": [],
   "source": [
    "rfm['segment'] = rfm['RF_SCORE'].replace(seg_map, regex=True)\n"
   ]
  },
  {
   "cell_type": "code",
   "execution_count": 19,
   "id": "199a1112",
   "metadata": {
    "execution": {
     "iopub.execute_input": "2023-10-15T18:28:13.383553Z",
     "iopub.status.busy": "2023-10-15T18:28:13.382590Z",
     "iopub.status.idle": "2023-10-15T18:28:13.407585Z",
     "shell.execute_reply": "2023-10-15T18:28:13.406349Z"
    },
    "papermill": {
     "duration": 0.040561,
     "end_time": "2023-10-15T18:28:13.409826",
     "exception": false,
     "start_time": "2023-10-15T18:28:13.369265",
     "status": "completed"
    },
    "tags": []
   },
   "outputs": [
    {
     "data": {
      "text/html": [
       "<div>\n",
       "<style scoped>\n",
       "    .dataframe tbody tr th:only-of-type {\n",
       "        vertical-align: middle;\n",
       "    }\n",
       "\n",
       "    .dataframe tbody tr th {\n",
       "        vertical-align: top;\n",
       "    }\n",
       "\n",
       "    .dataframe thead tr th {\n",
       "        text-align: left;\n",
       "    }\n",
       "\n",
       "    .dataframe thead tr:last-of-type th {\n",
       "        text-align: right;\n",
       "    }\n",
       "</style>\n",
       "<table border=\"1\" class=\"dataframe\">\n",
       "  <thead>\n",
       "    <tr>\n",
       "      <th></th>\n",
       "      <th colspan=\"2\" halign=\"left\">Recency</th>\n",
       "      <th colspan=\"2\" halign=\"left\">Frequency</th>\n",
       "      <th colspan=\"2\" halign=\"left\">Monetary</th>\n",
       "    </tr>\n",
       "    <tr>\n",
       "      <th></th>\n",
       "      <th>mean</th>\n",
       "      <th>count</th>\n",
       "      <th>mean</th>\n",
       "      <th>count</th>\n",
       "      <th>mean</th>\n",
       "      <th>count</th>\n",
       "    </tr>\n",
       "    <tr>\n",
       "      <th>segment</th>\n",
       "      <th></th>\n",
       "      <th></th>\n",
       "      <th></th>\n",
       "      <th></th>\n",
       "      <th></th>\n",
       "      <th></th>\n",
       "    </tr>\n",
       "  </thead>\n",
       "  <tbody>\n",
       "    <tr>\n",
       "      <th>about_to_sleep</th>\n",
       "      <td>50.119048</td>\n",
       "      <td>168</td>\n",
       "      <td>6.934524</td>\n",
       "      <td>168</td>\n",
       "      <td>79.160714</td>\n",
       "      <td>168</td>\n",
       "    </tr>\n",
       "    <tr>\n",
       "      <th>at_risk</th>\n",
       "      <td>78.667560</td>\n",
       "      <td>373</td>\n",
       "      <td>17.380697</td>\n",
       "      <td>373</td>\n",
       "      <td>868.423592</td>\n",
       "      <td>373</td>\n",
       "    </tr>\n",
       "    <tr>\n",
       "      <th>cant_loose</th>\n",
       "      <td>79.819277</td>\n",
       "      <td>166</td>\n",
       "      <td>25.813253</td>\n",
       "      <td>166</td>\n",
       "      <td>1212.903614</td>\n",
       "      <td>166</td>\n",
       "    </tr>\n",
       "    <tr>\n",
       "      <th>champions</th>\n",
       "      <td>10.018072</td>\n",
       "      <td>166</td>\n",
       "      <td>22.885542</td>\n",
       "      <td>166</td>\n",
       "      <td>1094.150602</td>\n",
       "      <td>166</td>\n",
       "    </tr>\n",
       "    <tr>\n",
       "      <th>hibernating</th>\n",
       "      <td>80.145773</td>\n",
       "      <td>343</td>\n",
       "      <td>7.072886</td>\n",
       "      <td>343</td>\n",
       "      <td>84.306122</td>\n",
       "      <td>343</td>\n",
       "    </tr>\n",
       "    <tr>\n",
       "      <th>loyal_customers</th>\n",
       "      <td>40.297753</td>\n",
       "      <td>356</td>\n",
       "      <td>23.011236</td>\n",
       "      <td>356</td>\n",
       "      <td>1109.446629</td>\n",
       "      <td>356</td>\n",
       "    </tr>\n",
       "    <tr>\n",
       "      <th>need_attention</th>\n",
       "      <td>50.552632</td>\n",
       "      <td>76</td>\n",
       "      <td>14.750000</td>\n",
       "      <td>76</td>\n",
       "      <td>579.802632</td>\n",
       "      <td>76</td>\n",
       "    </tr>\n",
       "    <tr>\n",
       "      <th>new_customers</th>\n",
       "      <td>10.362637</td>\n",
       "      <td>91</td>\n",
       "      <td>4.945055</td>\n",
       "      <td>91</td>\n",
       "      <td>42.054945</td>\n",
       "      <td>91</td>\n",
       "    </tr>\n",
       "    <tr>\n",
       "      <th>potential_loyalist</th>\n",
       "      <td>20.114667</td>\n",
       "      <td>375</td>\n",
       "      <td>11.930667</td>\n",
       "      <td>375</td>\n",
       "      <td>397.520000</td>\n",
       "      <td>375</td>\n",
       "    </tr>\n",
       "    <tr>\n",
       "      <th>promising</th>\n",
       "      <td>31.095745</td>\n",
       "      <td>94</td>\n",
       "      <td>5.042553</td>\n",
       "      <td>94</td>\n",
       "      <td>35.404255</td>\n",
       "      <td>94</td>\n",
       "    </tr>\n",
       "  </tbody>\n",
       "</table>\n",
       "</div>"
      ],
      "text/plain": [
       "                      Recency        Frequency           Monetary      \n",
       "                         mean count       mean count         mean count\n",
       "segment                                                                \n",
       "about_to_sleep      50.119048   168   6.934524   168    79.160714   168\n",
       "at_risk             78.667560   373  17.380697   373   868.423592   373\n",
       "cant_loose          79.819277   166  25.813253   166  1212.903614   166\n",
       "champions           10.018072   166  22.885542   166  1094.150602   166\n",
       "hibernating         80.145773   343   7.072886   343    84.306122   343\n",
       "loyal_customers     40.297753   356  23.011236   356  1109.446629   356\n",
       "need_attention      50.552632    76  14.750000    76   579.802632    76\n",
       "new_customers       10.362637    91   4.945055    91    42.054945    91\n",
       "potential_loyalist  20.114667   375  11.930667   375   397.520000   375\n",
       "promising           31.095745    94   5.042553    94    35.404255    94"
      ]
     },
     "execution_count": 19,
     "metadata": {},
     "output_type": "execute_result"
    }
   ],
   "source": [
    "rfm[[\"segment\",\"Recency\",\"Frequency\",\"Monetary\"]]. groupby(\"segment\").agg([\"mean\",\"count\"])"
   ]
  },
  {
   "cell_type": "code",
   "execution_count": 20,
   "id": "90e236dc",
   "metadata": {
    "execution": {
     "iopub.execute_input": "2023-10-15T18:28:13.433752Z",
     "iopub.status.busy": "2023-10-15T18:28:13.433369Z",
     "iopub.status.idle": "2023-10-15T18:28:13.448580Z",
     "shell.execute_reply": "2023-10-15T18:28:13.447441Z"
    },
    "papermill": {
     "duration": 0.029519,
     "end_time": "2023-10-15T18:28:13.450847",
     "exception": false,
     "start_time": "2023-10-15T18:28:13.421328",
     "status": "completed"
    },
    "tags": []
   },
   "outputs": [
    {
     "data": {
      "text/html": [
       "<div>\n",
       "<style scoped>\n",
       "    .dataframe tbody tr th:only-of-type {\n",
       "        vertical-align: middle;\n",
       "    }\n",
       "\n",
       "    .dataframe tbody tr th {\n",
       "        vertical-align: top;\n",
       "    }\n",
       "\n",
       "    .dataframe thead tr th {\n",
       "        text-align: left;\n",
       "    }\n",
       "\n",
       "    .dataframe thead tr:last-of-type th {\n",
       "        text-align: right;\n",
       "    }\n",
       "</style>\n",
       "<table border=\"1\" class=\"dataframe\">\n",
       "  <thead>\n",
       "    <tr>\n",
       "      <th></th>\n",
       "      <th>RF_SCORE</th>\n",
       "    </tr>\n",
       "    <tr>\n",
       "      <th></th>\n",
       "      <th>count</th>\n",
       "    </tr>\n",
       "    <tr>\n",
       "      <th>segment</th>\n",
       "      <th></th>\n",
       "    </tr>\n",
       "  </thead>\n",
       "  <tbody>\n",
       "    <tr>\n",
       "      <th>about_to_sleep</th>\n",
       "      <td>168</td>\n",
       "    </tr>\n",
       "    <tr>\n",
       "      <th>at_risk</th>\n",
       "      <td>373</td>\n",
       "    </tr>\n",
       "    <tr>\n",
       "      <th>cant_loose</th>\n",
       "      <td>166</td>\n",
       "    </tr>\n",
       "    <tr>\n",
       "      <th>champions</th>\n",
       "      <td>166</td>\n",
       "    </tr>\n",
       "    <tr>\n",
       "      <th>hibernating</th>\n",
       "      <td>343</td>\n",
       "    </tr>\n",
       "    <tr>\n",
       "      <th>loyal_customers</th>\n",
       "      <td>356</td>\n",
       "    </tr>\n",
       "    <tr>\n",
       "      <th>need_attention</th>\n",
       "      <td>76</td>\n",
       "    </tr>\n",
       "    <tr>\n",
       "      <th>new_customers</th>\n",
       "      <td>91</td>\n",
       "    </tr>\n",
       "    <tr>\n",
       "      <th>potential_loyalist</th>\n",
       "      <td>375</td>\n",
       "    </tr>\n",
       "    <tr>\n",
       "      <th>promising</th>\n",
       "      <td>94</td>\n",
       "    </tr>\n",
       "  </tbody>\n",
       "</table>\n",
       "</div>"
      ],
      "text/plain": [
       "                   RF_SCORE\n",
       "                      count\n",
       "segment                    \n",
       "about_to_sleep          168\n",
       "at_risk                 373\n",
       "cant_loose              166\n",
       "champions               166\n",
       "hibernating             343\n",
       "loyal_customers         356\n",
       "need_attention           76\n",
       "new_customers            91\n",
       "potential_loyalist      375\n",
       "promising                94"
      ]
     },
     "execution_count": 20,
     "metadata": {},
     "output_type": "execute_result"
    }
   ],
   "source": [
    "rfm[[\"segment\",\"RF_SCORE\"]]. groupby(\"segment\").agg([\"count\"])"
   ]
  },
  {
   "cell_type": "markdown",
   "id": "98eca5f2",
   "metadata": {
    "papermill": {
     "duration": 0.010515,
     "end_time": "2023-10-15T18:28:13.472398",
     "exception": false,
     "start_time": "2023-10-15T18:28:13.461883",
     "status": "completed"
    },
    "tags": []
   },
   "source": [
    "<div style=\"border-radius:10px; border:#DEB887 solid; padding: 15px; background-color: #FFFAF0; font-size:100%; text-align:left\">\n",
    "\n",
    "<h3 align=\"left\"><font color='#DEB887'>💡 Notes:</font></h3>\n",
    "    \n",
    "1. **About_to_sleep** : Encourage customers in this segment to re-engage by implementing stimulating campaigns. Special offers, discounts, or loyalty programs could be utilized to regain their interest.\n",
    "2. **At_risk** : Since customers in this segment are at risk of attrition, special offers or discounts can be provided to win them back. Additionally, personalized services can be offered to enhance customer satisfaction.\n",
    "3.**Cant_loose** : Customers in this segment may have demonstrated loyalty. Thus, you can strengthen their loyalty by offering loyalty programs or special privileges to reward them for their commitment.\n",
    "4. **Champions** : Customer loyalty is high in this segment. Retain their loyalty by offering special deals or loyalty programs. Additionally, consider their feedback to improve your products or services.\n",
    "5. **Hibernating** : Implement stimulating campaigns to regain the interest of customers in this segment. Strategies such as sending personalized offers or reminders could be utilized.\n",
    "6. **Loyal_customers** : Customers in this segment exhibit high loyalty. Offer them exclusive deals or privileges to strengthen their commitment. Additionally, gather their recommendations and feedback to enhance service quality.\n",
    "7. **Need_attention** : Attract the attention of customers in this segment by providing personalized offers or services. Ensuring excellent customer support is vital to enhance customer satisfaction.\n",
    "8. **New_customers** : Welcome these customers with welcome offers or discounts to establish their loyalty. Additionally, gather their feedback to improve your products or services.\n",
    "9. **Potential_loyalist** : Offer personalized deals or exclusive privileges to enhance the loyalty of customers in this segment. Regular interaction is crucial to increase brand awareness.\n",
    "\n",
    "10. **Promising** : Attract the interest of customers in this segment by implementing special offers or campaigns. Providing a good customer experience is essential to enhance customer satisfaction."
   ]
  },
  {
   "cell_type": "markdown",
   "id": "4324fcbb",
   "metadata": {
    "papermill": {
     "duration": 0.010818,
     "end_time": "2023-10-15T18:28:13.494127",
     "exception": false,
     "start_time": "2023-10-15T18:28:13.483309",
     "status": "completed"
    },
    "tags": []
   },
   "source": [
    "### <p style=\"font-family:JetBrains Mono; font-weight:bold; letter-spacing: 2px; color:#8581B8; font-size:140%; text-align:center;padding: 0px; border-bottom: 3px solid\">RF Table</p>\n",
    "# **<center> <img src=https://i.imgur.com/MYgXofm.png> <img> </center>**"
   ]
  },
  {
   "cell_type": "markdown",
   "id": "86444e06",
   "metadata": {
    "papermill": {
     "duration": 0.010758,
     "end_time": "2023-10-15T18:28:13.516565",
     "exception": false,
     "start_time": "2023-10-15T18:28:13.505807",
     "status": "completed"
    },
    "tags": []
   },
   "source": [
    "# <p style=\"padding:10px;background-color:orange;margin:0;color:black;font-family:newtimeroman;font-size:100%;text-align:center;border-radius: 15px 50px;overflow:hidden;font-weight:500\">Cltv Prediction</p>"
   ]
  },
  {
   "cell_type": "code",
   "execution_count": 21,
   "id": "c1ef9ad3",
   "metadata": {
    "execution": {
     "iopub.execute_input": "2023-10-15T18:28:13.541234Z",
     "iopub.status.busy": "2023-10-15T18:28:13.540618Z",
     "iopub.status.idle": "2023-10-15T18:28:13.545335Z",
     "shell.execute_reply": "2023-10-15T18:28:13.544559Z"
    },
    "papermill": {
     "duration": 0.019657,
     "end_time": "2023-10-15T18:28:13.547484",
     "exception": false,
     "start_time": "2023-10-15T18:28:13.527827",
     "status": "completed"
    },
    "tags": []
   },
   "outputs": [],
   "source": [
    "df_ = df.copy()"
   ]
  },
  {
   "cell_type": "code",
   "execution_count": 22,
   "id": "6a001557",
   "metadata": {
    "execution": {
     "iopub.execute_input": "2023-10-15T18:28:13.571745Z",
     "iopub.status.busy": "2023-10-15T18:28:13.571318Z",
     "iopub.status.idle": "2023-10-15T18:28:13.577925Z",
     "shell.execute_reply": "2023-10-15T18:28:13.576469Z"
    },
    "papermill": {
     "duration": 0.02183,
     "end_time": "2023-10-15T18:28:13.580448",
     "exception": false,
     "start_time": "2023-10-15T18:28:13.558618",
     "status": "completed"
    },
    "tags": []
   },
   "outputs": [],
   "source": [
    "def outlier_thresholds(dataframe,variable):\n",
    "    quartile1 = dataframe[variable].quantile(0.25)\n",
    "    quartile3 = dataframe[variable].quantile(0.75)\n",
    "    interquantile_range = quartile3 - quartile1\n",
    "    up_limit = quartile3 +1.5 * interquantile_range\n",
    "    low_limit= quartile1 - 1.5 * interquantile_range\n",
    "    return round(low_limit), round(up_limit)"
   ]
  },
  {
   "cell_type": "code",
   "execution_count": 23,
   "id": "ec566f39",
   "metadata": {
    "execution": {
     "iopub.execute_input": "2023-10-15T18:28:13.604824Z",
     "iopub.status.busy": "2023-10-15T18:28:13.603714Z",
     "iopub.status.idle": "2023-10-15T18:28:13.610461Z",
     "shell.execute_reply": "2023-10-15T18:28:13.608828Z"
    },
    "papermill": {
     "duration": 0.021861,
     "end_time": "2023-10-15T18:28:13.613357",
     "exception": false,
     "start_time": "2023-10-15T18:28:13.591496",
     "status": "completed"
    },
    "tags": []
   },
   "outputs": [],
   "source": [
    "def replace_with_thresholds(dataframe, variable):\n",
    "    low_limit, up_limit = outlier_thresholds(dataframe,variable)\n",
    "    dataframe.loc[(dataframe[variable] < low_limit), variable] = low_limit\n",
    "    dataframe.loc[(dataframe[variable] > up_limit), variable]  = up_limit"
   ]
  },
  {
   "cell_type": "code",
   "execution_count": 24,
   "id": "b1e30da6",
   "metadata": {
    "execution": {
     "iopub.execute_input": "2023-10-15T18:28:13.640881Z",
     "iopub.status.busy": "2023-10-15T18:28:13.640517Z",
     "iopub.status.idle": "2023-10-15T18:28:13.648309Z",
     "shell.execute_reply": "2023-10-15T18:28:13.647310Z"
    },
    "papermill": {
     "duration": 0.024369,
     "end_time": "2023-10-15T18:28:13.650568",
     "exception": false,
     "start_time": "2023-10-15T18:28:13.626199",
     "status": "completed"
    },
    "tags": []
   },
   "outputs": [],
   "source": [
    "#taking outliers on frequency\n",
    "replace_with_thresholds(df_,\"Frequency\")"
   ]
  },
  {
   "cell_type": "code",
   "execution_count": 25,
   "id": "b76cfc08",
   "metadata": {
    "execution": {
     "iopub.execute_input": "2023-10-15T18:28:13.677198Z",
     "iopub.status.busy": "2023-10-15T18:28:13.676841Z",
     "iopub.status.idle": "2023-10-15T18:28:13.689001Z",
     "shell.execute_reply": "2023-10-15T18:28:13.687706Z"
    },
    "papermill": {
     "duration": 0.027629,
     "end_time": "2023-10-15T18:28:13.691053",
     "exception": false,
     "start_time": "2023-10-15T18:28:13.663424",
     "status": "completed"
    },
    "tags": []
   },
   "outputs": [],
   "source": [
    "#making last_order_date colunm as a datetime \n",
    "import datetime as dt \n",
    "df_[\"last_order_date\"] = pd.to_datetime(-df[\"Recency\"],unit= \"D\", origin=dt.datetime(2014,10,4))"
   ]
  },
  {
   "cell_type": "code",
   "execution_count": 26,
   "id": "7dbc1ba0",
   "metadata": {
    "execution": {
     "iopub.execute_input": "2023-10-15T18:28:13.714870Z",
     "iopub.status.busy": "2023-10-15T18:28:13.714295Z",
     "iopub.status.idle": "2023-10-15T18:28:13.724797Z",
     "shell.execute_reply": "2023-10-15T18:28:13.723706Z"
    },
    "papermill": {
     "duration": 0.025175,
     "end_time": "2023-10-15T18:28:13.727230",
     "exception": false,
     "start_time": "2023-10-15T18:28:13.702055",
     "status": "completed"
    },
    "tags": []
   },
   "outputs": [],
   "source": [
    "#building cltv dataframe\n",
    "cltv = pd.DataFrame()\n",
    "cltv[\"Recency_weekly\"] = (df_[\"last_order_date\"] - df_[\"Dt_Customer\"]).dt.days // 7\n",
    "cltv[\"T_weekly\"] = (dt.datetime(2014,10, 4) - df_[\"Dt_Customer\"]).dt.days // 7\n",
    "cltv[\"frequency\"] = df_[\"Frequency\"]\n",
    "cltv[\"monetary_avg\"] = df_[\"Monetary\"] // df_[\"Frequency\"]\n",
    "cltv.index = df_[\"ID\"]"
   ]
  },
  {
   "cell_type": "code",
   "execution_count": 27,
   "id": "d2e0b03d",
   "metadata": {
    "execution": {
     "iopub.execute_input": "2023-10-15T18:28:13.753254Z",
     "iopub.status.busy": "2023-10-15T18:28:13.752921Z",
     "iopub.status.idle": "2023-10-15T18:28:13.761476Z",
     "shell.execute_reply": "2023-10-15T18:28:13.760338Z"
    },
    "papermill": {
     "duration": 0.023721,
     "end_time": "2023-10-15T18:28:13.763992",
     "exception": false,
     "start_time": "2023-10-15T18:28:13.740271",
     "status": "completed"
    },
    "tags": []
   },
   "outputs": [],
   "source": [
    "#taking outliers on monetary avb\n",
    "replace_with_thresholds(cltv,\"monetary_avg\")"
   ]
  },
  {
   "cell_type": "code",
   "execution_count": 28,
   "id": "0f676d5a",
   "metadata": {
    "execution": {
     "iopub.execute_input": "2023-10-15T18:28:13.790972Z",
     "iopub.status.busy": "2023-10-15T18:28:13.790639Z",
     "iopub.status.idle": "2023-10-15T18:28:13.798303Z",
     "shell.execute_reply": "2023-10-15T18:28:13.796996Z"
    },
    "papermill": {
     "duration": 0.025803,
     "end_time": "2023-10-15T18:28:13.800831",
     "exception": false,
     "start_time": "2023-10-15T18:28:13.775028",
     "status": "completed"
    },
    "tags": []
   },
   "outputs": [],
   "source": [
    "cltv = cltv[cltv[\"frequency\"] > 1]\n",
    "cltv = cltv[cltv[\"monetary_avg\"] > 1]"
   ]
  },
  {
   "cell_type": "code",
   "execution_count": 29,
   "id": "cfadd3de",
   "metadata": {
    "execution": {
     "iopub.execute_input": "2023-10-15T18:28:13.824799Z",
     "iopub.status.busy": "2023-10-15T18:28:13.824461Z",
     "iopub.status.idle": "2023-10-15T18:28:16.088375Z",
     "shell.execute_reply": "2023-10-15T18:28:16.087237Z"
    },
    "papermill": {
     "duration": 2.278952,
     "end_time": "2023-10-15T18:28:16.090842",
     "exception": false,
     "start_time": "2023-10-15T18:28:13.811890",
     "status": "completed"
    },
    "tags": []
   },
   "outputs": [
    {
     "data": {
      "image/png": "[encoded data removed]",
      "text/plain": [
       "<Figure size 1000x1000 with 2 Axes>"
      ]
     },
     "metadata": {},
     "output_type": "display_data"
    }
   ],
   "source": [
    "import matplotlib.pyplot as plt\n",
    "import seaborn as sns\n",
    "\n",
    "plt.figure(figsize=(10,10))\n",
    "plt.subplot(2,2,1)\n",
    "sns.boxplot(y=\"monetary_avg\", data=cltv,palette=\"pastel\");\n",
    "plt.subplot(2,2,2)\n",
    "sns.boxplot(y=\"frequency\", data=cltv,palette=\"pastel\");"
   ]
  },
  {
   "cell_type": "code",
   "execution_count": 30,
   "id": "f7f35fc4",
   "metadata": {
    "execution": {
     "iopub.execute_input": "2023-10-15T18:28:16.116736Z",
     "iopub.status.busy": "2023-10-15T18:28:16.115409Z",
     "iopub.status.idle": "2023-10-15T18:28:16.142069Z",
     "shell.execute_reply": "2023-10-15T18:28:16.140878Z"
    },
    "papermill": {
     "duration": 0.041848,
     "end_time": "2023-10-15T18:28:16.144217",
     "exception": false,
     "start_time": "2023-10-15T18:28:16.102369",
     "status": "completed"
    },
    "tags": []
   },
   "outputs": [
    {
     "data": {
      "text/html": [
       "<div>\n",
       "<style scoped>\n",
       "    .dataframe tbody tr th:only-of-type {\n",
       "        vertical-align: middle;\n",
       "    }\n",
       "\n",
       "    .dataframe tbody tr th {\n",
       "        vertical-align: top;\n",
       "    }\n",
       "\n",
       "    .dataframe thead th {\n",
       "        text-align: right;\n",
       "    }\n",
       "</style>\n",
       "<table border=\"1\" class=\"dataframe\">\n",
       "  <thead>\n",
       "    <tr style=\"text-align: right;\">\n",
       "      <th></th>\n",
       "      <th>count</th>\n",
       "      <th>mean</th>\n",
       "      <th>std</th>\n",
       "      <th>min</th>\n",
       "      <th>1%</th>\n",
       "      <th>50%</th>\n",
       "      <th>99%</th>\n",
       "      <th>max</th>\n",
       "    </tr>\n",
       "  </thead>\n",
       "  <tbody>\n",
       "    <tr>\n",
       "      <th>Recency_weekly</th>\n",
       "      <td>2230.0</td>\n",
       "      <td>56.977130</td>\n",
       "      <td>29.044140</td>\n",
       "      <td>0.0</td>\n",
       "      <td>5.0</td>\n",
       "      <td>57.0</td>\n",
       "      <td>107.0</td>\n",
       "      <td>113.0</td>\n",
       "    </tr>\n",
       "    <tr>\n",
       "      <th>T_weekly</th>\n",
       "      <td>2230.0</td>\n",
       "      <td>63.983857</td>\n",
       "      <td>28.873709</td>\n",
       "      <td>13.0</td>\n",
       "      <td>14.0</td>\n",
       "      <td>64.0</td>\n",
       "      <td>112.0</td>\n",
       "      <td>113.0</td>\n",
       "    </tr>\n",
       "    <tr>\n",
       "      <th>frequency</th>\n",
       "      <td>2230.0</td>\n",
       "      <td>14.910314</td>\n",
       "      <td>7.634837</td>\n",
       "      <td>2.0</td>\n",
       "      <td>4.0</td>\n",
       "      <td>15.0</td>\n",
       "      <td>32.0</td>\n",
       "      <td>40.0</td>\n",
       "    </tr>\n",
       "    <tr>\n",
       "      <th>monetary_avg</th>\n",
       "      <td>2230.0</td>\n",
       "      <td>31.548879</td>\n",
       "      <td>26.833369</td>\n",
       "      <td>2.0</td>\n",
       "      <td>3.0</td>\n",
       "      <td>23.0</td>\n",
       "      <td>99.0</td>\n",
       "      <td>99.0</td>\n",
       "    </tr>\n",
       "  </tbody>\n",
       "</table>\n",
       "</div>"
      ],
      "text/plain": [
       "                 count       mean        std   min    1%   50%    99%    max\n",
       "Recency_weekly  2230.0  56.977130  29.044140   0.0   5.0  57.0  107.0  113.0\n",
       "T_weekly        2230.0  63.983857  28.873709  13.0  14.0  64.0  112.0  113.0\n",
       "frequency       2230.0  14.910314   7.634837   2.0   4.0  15.0   32.0   40.0\n",
       "monetary_avg    2230.0  31.548879  26.833369   2.0   3.0  23.0   99.0   99.0"
      ]
     },
     "execution_count": 30,
     "metadata": {},
     "output_type": "execute_result"
    }
   ],
   "source": [
    "cltv.describe([0.01,0.99]).T"
   ]
  },
  {
   "cell_type": "code",
   "execution_count": 31,
   "id": "032ddf83",
   "metadata": {
    "execution": {
     "iopub.execute_input": "2023-10-15T18:28:16.169977Z",
     "iopub.status.busy": "2023-10-15T18:28:16.169623Z",
     "iopub.status.idle": "2023-10-15T18:28:28.941646Z",
     "shell.execute_reply": "2023-10-15T18:28:28.940340Z"
    },
    "papermill": {
     "duration": 12.788287,
     "end_time": "2023-10-15T18:28:28.944335",
     "exception": false,
     "start_time": "2023-10-15T18:28:16.156048",
     "status": "completed"
    },
    "tags": []
   },
   "outputs": [
    {
     "name": "stdout",
     "output_type": "stream",
     "text": [
      "Collecting lifetimes\r\n",
      "  Downloading Lifetimes-0.11.3-py3-none-any.whl (584 kB)\r\n",
      "\u001b[2K     \u001b[90m━━━━━━━━━━━━━━━━━━━━━━━━━━━━━━━━━━━━━━\u001b[0m \u001b[32m584.2/584.2 kB\u001b[0m \u001b[31m11.2 MB/s\u001b[0m eta \u001b[36m0:00:00\u001b[0m\r\n",
      "\u001b[?25hRequirement already satisfied: numpy>=1.10.0 in /opt/conda/lib/python3.10/site-packages (from lifetimes) (1.23.5)\r\n",
      "Requirement already satisfied: scipy>=1.0.0 in /opt/conda/lib/python3.10/site-packages (from lifetimes) (1.11.2)\r\n",
      "Requirement already satisfied: pandas>=0.24.0 in /opt/conda/lib/python3.10/site-packages (from lifetimes) (2.0.3)\r\n",
      "Collecting autograd>=1.2.0 (from lifetimes)\r\n",
      "  Downloading autograd-1.6.2-py3-none-any.whl (49 kB)\r\n",
      "\u001b[2K     \u001b[90m━━━━━━━━━━━━━━━━━━━━━━━━━━━━━━━━━━━━━━━━\u001b[0m \u001b[32m49.3/49.3 kB\u001b[0m \u001b[31m3.1 MB/s\u001b[0m eta \u001b[36m0:00:00\u001b[0m\r\n",
      "\u001b[?25hRequirement already satisfied: dill>=0.2.6 in /opt/conda/lib/python3.10/site-packages (from lifetimes) (0.3.7)\r\n",
      "Requirement already satisfied: future>=0.15.2 in /opt/conda/lib/python3.10/site-packages (from autograd>=1.2.0->lifetimes) (0.18.3)\r\n",
      "Requirement already satisfied: python-dateutil>=2.8.2 in /opt/conda/lib/python3.10/site-packages (from pandas>=0.24.0->lifetimes) (2.8.2)\r\n",
      "Requirement already satisfied: pytz>=2020.1 in /opt/conda/lib/python3.10/site-packages (from pandas>=0.24.0->lifetimes) (2023.3)\r\n",
      "Requirement already satisfied: tzdata>=2022.1 in /opt/conda/lib/python3.10/site-packages (from pandas>=0.24.0->lifetimes) (2023.3)\r\n",
      "Requirement already satisfied: six>=1.5 in /opt/conda/lib/python3.10/site-packages (from python-dateutil>=2.8.2->pandas>=0.24.0->lifetimes) (1.16.0)\r\n",
      "Installing collected packages: autograd, lifetimes\r\n",
      "Successfully installed autograd-1.6.2 lifetimes-0.11.3\r\n"
     ]
    }
   ],
   "source": [
    "!pip install lifetimes"
   ]
  },
  {
   "cell_type": "code",
   "execution_count": 32,
   "id": "eda714ac",
   "metadata": {
    "execution": {
     "iopub.execute_input": "2023-10-15T18:28:28.970556Z",
     "iopub.status.busy": "2023-10-15T18:28:28.970088Z",
     "iopub.status.idle": "2023-10-15T18:28:29.171862Z",
     "shell.execute_reply": "2023-10-15T18:28:29.170733Z"
    },
    "papermill": {
     "duration": 0.219254,
     "end_time": "2023-10-15T18:28:29.175724",
     "exception": false,
     "start_time": "2023-10-15T18:28:28.956470",
     "status": "completed"
    },
    "tags": []
   },
   "outputs": [
    {
     "data": {
      "text/plain": [
       "<lifetimes.BetaGeoFitter: fitted with 2230 subjects, a: 0.08, alpha: 5.10, b: 4.36, r: 1.68>"
      ]
     },
     "execution_count": 32,
     "metadata": {},
     "output_type": "execute_result"
    }
   ],
   "source": [
    "from lifetimes import BetaGeoFitter\n",
    "bgf = BetaGeoFitter(penalizer_coef=0.001)\n",
    "\n",
    "bgf.fit(cltv['frequency'],\n",
    "        cltv['Recency_weekly'],\n",
    "        cltv['T_weekly'])"
   ]
  },
  {
   "cell_type": "code",
   "execution_count": 33,
   "id": "c17c6b12",
   "metadata": {
    "execution": {
     "iopub.execute_input": "2023-10-15T18:28:29.250159Z",
     "iopub.status.busy": "2023-10-15T18:28:29.248761Z",
     "iopub.status.idle": "2023-10-15T18:28:29.274999Z",
     "shell.execute_reply": "2023-10-15T18:28:29.273503Z"
    },
    "papermill": {
     "duration": 0.067684,
     "end_time": "2023-10-15T18:28:29.278878",
     "exception": false,
     "start_time": "2023-10-15T18:28:29.211194",
     "status": "completed"
    },
    "tags": []
   },
   "outputs": [],
   "source": [
    "cltv[\"expected_sales_3_month\"] = bgf.predict(4* 3,\n",
    "                cltv['frequency'],\n",
    "                cltv['Recency_weekly'],\n",
    "                cltv['T_weekly'])"
   ]
  },
  {
   "cell_type": "code",
   "execution_count": 34,
   "id": "3238329f",
   "metadata": {
    "execution": {
     "iopub.execute_input": "2023-10-15T18:28:29.307692Z",
     "iopub.status.busy": "2023-10-15T18:28:29.307302Z",
     "iopub.status.idle": "2023-10-15T18:28:29.316263Z",
     "shell.execute_reply": "2023-10-15T18:28:29.315497Z"
    },
    "papermill": {
     "duration": 0.023843,
     "end_time": "2023-10-15T18:28:29.318007",
     "exception": false,
     "start_time": "2023-10-15T18:28:29.294164",
     "status": "completed"
    },
    "tags": []
   },
   "outputs": [
    {
     "data": {
      "text/plain": [
       "ID\n",
       "4619     14.505768\n",
       "6892     13.232398\n",
       "4828     12.822546\n",
       "1        11.483398\n",
       "9369     11.415210\n",
       "10846    11.133722\n",
       "1446     11.094636\n",
       "6815     11.012871\n",
       "10102    10.893713\n",
       "4399     10.844496\n",
       "Name: expected_sales_3_month, dtype: float64"
      ]
     },
     "execution_count": 34,
     "metadata": {},
     "output_type": "execute_result"
    }
   ],
   "source": [
    "cltv[\"expected_sales_3_month\"].sort_values(ascending=False).head(10)"
   ]
  },
  {
   "cell_type": "code",
   "execution_count": 35,
   "id": "eebd526c",
   "metadata": {
    "execution": {
     "iopub.execute_input": "2023-10-15T18:28:29.344244Z",
     "iopub.status.busy": "2023-10-15T18:28:29.343600Z",
     "iopub.status.idle": "2023-10-15T18:28:29.399882Z",
     "shell.execute_reply": "2023-10-15T18:28:29.398361Z"
    },
    "papermill": {
     "duration": 0.071794,
     "end_time": "2023-10-15T18:28:29.402100",
     "exception": false,
     "start_time": "2023-10-15T18:28:29.330306",
     "status": "completed"
    },
    "tags": []
   },
   "outputs": [
    {
     "data": {
      "text/plain": [
       "<lifetimes.GammaGammaFitter: fitted with 2230 subjects, p: 3.00, q: 0.84, v: 2.98>"
      ]
     },
     "execution_count": 35,
     "metadata": {},
     "output_type": "execute_result"
    }
   ],
   "source": [
    "from lifetimes import GammaGammaFitter\n",
    "ggf = GammaGammaFitter(penalizer_coef=0.01)\n",
    "ggf.fit(cltv['frequency'], cltv['monetary_avg'])"
   ]
  },
  {
   "cell_type": "code",
   "execution_count": 36,
   "id": "45d04de7",
   "metadata": {
    "execution": {
     "iopub.execute_input": "2023-10-15T18:28:29.476173Z",
     "iopub.status.busy": "2023-10-15T18:28:29.474889Z",
     "iopub.status.idle": "2023-10-15T18:28:29.486797Z",
     "shell.execute_reply": "2023-10-15T18:28:29.485297Z"
    },
    "papermill": {
     "duration": 0.054978,
     "end_time": "2023-10-15T18:28:29.491036",
     "exception": false,
     "start_time": "2023-10-15T18:28:29.436058",
     "status": "completed"
    },
    "tags": []
   },
   "outputs": [],
   "source": [
    "cltv[\"expected_average_profit\"] = ggf.conditional_expected_average_profit(cltv['frequency'],\n",
    "                                        cltv['monetary_avg'])"
   ]
  },
  {
   "cell_type": "code",
   "execution_count": 37,
   "id": "7aab78d2",
   "metadata": {
    "execution": {
     "iopub.execute_input": "2023-10-15T18:28:29.532018Z",
     "iopub.status.busy": "2023-10-15T18:28:29.531331Z",
     "iopub.status.idle": "2023-10-15T18:28:29.544322Z",
     "shell.execute_reply": "2023-10-15T18:28:29.543541Z"
    },
    "papermill": {
     "duration": 0.028451,
     "end_time": "2023-10-15T18:28:29.546275",
     "exception": false,
     "start_time": "2023-10-15T18:28:29.517824",
     "status": "completed"
    },
    "tags": []
   },
   "outputs": [
    {
     "data": {
      "text/html": [
       "<div>\n",
       "<style scoped>\n",
       "    .dataframe tbody tr th:only-of-type {\n",
       "        vertical-align: middle;\n",
       "    }\n",
       "\n",
       "    .dataframe tbody tr th {\n",
       "        vertical-align: top;\n",
       "    }\n",
       "\n",
       "    .dataframe thead th {\n",
       "        text-align: right;\n",
       "    }\n",
       "</style>\n",
       "<table border=\"1\" class=\"dataframe\">\n",
       "  <thead>\n",
       "    <tr style=\"text-align: right;\">\n",
       "      <th></th>\n",
       "      <th>Recency_weekly</th>\n",
       "      <th>T_weekly</th>\n",
       "      <th>frequency</th>\n",
       "      <th>monetary_avg</th>\n",
       "      <th>expected_sales_3_month</th>\n",
       "      <th>expected_average_profit</th>\n",
       "    </tr>\n",
       "    <tr>\n",
       "      <th>ID</th>\n",
       "      <th></th>\n",
       "      <th></th>\n",
       "      <th></th>\n",
       "      <th></th>\n",
       "      <th></th>\n",
       "      <th></th>\n",
       "    </tr>\n",
       "  </thead>\n",
       "  <tbody>\n",
       "    <tr>\n",
       "      <th>4246</th>\n",
       "      <td>42</td>\n",
       "      <td>42</td>\n",
       "      <td>2</td>\n",
       "      <td>99.0</td>\n",
       "      <td>0.916803</td>\n",
       "      <td>103.312659</td>\n",
       "    </tr>\n",
       "    <tr>\n",
       "      <th>3422</th>\n",
       "      <td>86</td>\n",
       "      <td>96</td>\n",
       "      <td>10</td>\n",
       "      <td>99.0</td>\n",
       "      <td>1.352851</td>\n",
       "      <td>99.843572</td>\n",
       "    </tr>\n",
       "    <tr>\n",
       "      <th>10479</th>\n",
       "      <td>86</td>\n",
       "      <td>95</td>\n",
       "      <td>11</td>\n",
       "      <td>99.0</td>\n",
       "      <td>1.485926</td>\n",
       "      <td>99.766501</td>\n",
       "    </tr>\n",
       "    <tr>\n",
       "      <th>7959</th>\n",
       "      <td>15</td>\n",
       "      <td>18</td>\n",
       "      <td>11</td>\n",
       "      <td>99.0</td>\n",
       "      <td>6.273400</td>\n",
       "      <td>99.766501</td>\n",
       "    </tr>\n",
       "    <tr>\n",
       "      <th>10513</th>\n",
       "      <td>79</td>\n",
       "      <td>88</td>\n",
       "      <td>12</td>\n",
       "      <td>99.0</td>\n",
       "      <td>1.718756</td>\n",
       "      <td>99.702334</td>\n",
       "    </tr>\n",
       "    <tr>\n",
       "      <th>7962</th>\n",
       "      <td>51</td>\n",
       "      <td>51</td>\n",
       "      <td>12</td>\n",
       "      <td>99.0</td>\n",
       "      <td>2.889431</td>\n",
       "      <td>99.702334</td>\n",
       "    </tr>\n",
       "    <tr>\n",
       "      <th>1173</th>\n",
       "      <td>71</td>\n",
       "      <td>81</td>\n",
       "      <td>13</td>\n",
       "      <td>99.0</td>\n",
       "      <td>1.975910</td>\n",
       "      <td>99.648080</td>\n",
       "    </tr>\n",
       "    <tr>\n",
       "      <th>9606</th>\n",
       "      <td>48</td>\n",
       "      <td>57</td>\n",
       "      <td>13</td>\n",
       "      <td>99.0</td>\n",
       "      <td>2.685186</td>\n",
       "      <td>99.648080</td>\n",
       "    </tr>\n",
       "    <tr>\n",
       "      <th>2532</th>\n",
       "      <td>17</td>\n",
       "      <td>31</td>\n",
       "      <td>13</td>\n",
       "      <td>99.0</td>\n",
       "      <td>0.630463</td>\n",
       "      <td>99.648080</td>\n",
       "    </tr>\n",
       "    <tr>\n",
       "      <th>3507</th>\n",
       "      <td>104</td>\n",
       "      <td>111</td>\n",
       "      <td>14</td>\n",
       "      <td>99.0</td>\n",
       "      <td>1.594850</td>\n",
       "      <td>99.601607</td>\n",
       "    </tr>\n",
       "  </tbody>\n",
       "</table>\n",
       "</div>"
      ],
      "text/plain": [
       "       Recency_weekly  T_weekly  frequency  monetary_avg  \\\n",
       "ID                                                         \n",
       "4246               42        42          2          99.0   \n",
       "3422               86        96         10          99.0   \n",
       "10479              86        95         11          99.0   \n",
       "7959               15        18         11          99.0   \n",
       "10513              79        88         12          99.0   \n",
       "7962               51        51         12          99.0   \n",
       "1173               71        81         13          99.0   \n",
       "9606               48        57         13          99.0   \n",
       "2532               17        31         13          99.0   \n",
       "3507              104       111         14          99.0   \n",
       "\n",
       "       expected_sales_3_month  expected_average_profit  \n",
       "ID                                                      \n",
       "4246                 0.916803               103.312659  \n",
       "3422                 1.352851                99.843572  \n",
       "10479                1.485926                99.766501  \n",
       "7959                 6.273400                99.766501  \n",
       "10513                1.718756                99.702334  \n",
       "7962                 2.889431                99.702334  \n",
       "1173                 1.975910                99.648080  \n",
       "9606                 2.685186                99.648080  \n",
       "2532                 0.630463                99.648080  \n",
       "3507                 1.594850                99.601607  "
      ]
     },
     "execution_count": 37,
     "metadata": {},
     "output_type": "execute_result"
    }
   ],
   "source": [
    "cltv.sort_values(\"expected_average_profit\", ascending=False).head(10)"
   ]
  },
  {
   "cell_type": "code",
   "execution_count": 38,
   "id": "da4d392a",
   "metadata": {
    "execution": {
     "iopub.execute_input": "2023-10-15T18:28:29.573006Z",
     "iopub.status.busy": "2023-10-15T18:28:29.572132Z",
     "iopub.status.idle": "2023-10-15T18:28:29.621340Z",
     "shell.execute_reply": "2023-10-15T18:28:29.620464Z"
    },
    "papermill": {
     "duration": 0.064892,
     "end_time": "2023-10-15T18:28:29.623546",
     "exception": false,
     "start_time": "2023-10-15T18:28:29.558654",
     "status": "completed"
    },
    "tags": []
   },
   "outputs": [],
   "source": [
    "cltv[\"clv\"] = ggf.customer_lifetime_value(bgf,\n",
    "                                      cltv['frequency'],\n",
    "                                      cltv['Recency_weekly'],\n",
    "                                      cltv['T_weekly'],\n",
    "                                      cltv['monetary_avg'],\n",
    "                                      time= 3,\n",
    "                                      freq='W', \n",
    "                                      discount_rate=0.01 )"
   ]
  },
  {
   "cell_type": "code",
   "execution_count": 39,
   "id": "0a4d0eac",
   "metadata": {
    "execution": {
     "iopub.execute_input": "2023-10-15T18:28:29.650707Z",
     "iopub.status.busy": "2023-10-15T18:28:29.649929Z",
     "iopub.status.idle": "2023-10-15T18:28:29.658715Z",
     "shell.execute_reply": "2023-10-15T18:28:29.657677Z"
    },
    "papermill": {
     "duration": 0.024762,
     "end_time": "2023-10-15T18:28:29.661234",
     "exception": false,
     "start_time": "2023-10-15T18:28:29.636472",
     "status": "completed"
    },
    "tags": []
   },
   "outputs": [
    {
     "data": {
      "text/plain": [
       "ID\n",
       "477      900.282067\n",
       "1826     822.436855\n",
       "2186     820.218176\n",
       "10133    815.453999\n",
       "9264     814.136370\n",
       "3005     810.297487\n",
       "1619     807.313043\n",
       "9888     789.050519\n",
       "4399     789.050519\n",
       "10102    779.868752\n",
       "Name: clv, dtype: float64"
      ]
     },
     "execution_count": 39,
     "metadata": {},
     "output_type": "execute_result"
    }
   ],
   "source": [
    "cltv[\"clv\"].sort_values(ascending=False).head(10)"
   ]
  },
  {
   "cell_type": "code",
   "execution_count": 40,
   "id": "cfb78bd8",
   "metadata": {
    "execution": {
     "iopub.execute_input": "2023-10-15T18:28:29.687808Z",
     "iopub.status.busy": "2023-10-15T18:28:29.687474Z",
     "iopub.status.idle": "2023-10-15T18:28:29.695783Z",
     "shell.execute_reply": "2023-10-15T18:28:29.694708Z"
    },
    "papermill": {
     "duration": 0.024389,
     "end_time": "2023-10-15T18:28:29.698131",
     "exception": false,
     "start_time": "2023-10-15T18:28:29.673742",
     "status": "completed"
    },
    "tags": []
   },
   "outputs": [],
   "source": [
    "cltv[\"cltv_segment\"] = pd.qcut(cltv[\"clv\"], 4, labels=[\"D\", \"C\", \"B\", \"A\"])"
   ]
  },
  {
   "cell_type": "code",
   "execution_count": 41,
   "id": "c0115883",
   "metadata": {
    "execution": {
     "iopub.execute_input": "2023-10-15T18:28:29.725125Z",
     "iopub.status.busy": "2023-10-15T18:28:29.724736Z",
     "iopub.status.idle": "2023-10-15T18:28:29.740215Z",
     "shell.execute_reply": "2023-10-15T18:28:29.739095Z"
    },
    "papermill": {
     "duration": 0.031734,
     "end_time": "2023-10-15T18:28:29.742468",
     "exception": false,
     "start_time": "2023-10-15T18:28:29.710734",
     "status": "completed"
    },
    "tags": []
   },
   "outputs": [
    {
     "data": {
      "text/html": [
       "<div>\n",
       "<style scoped>\n",
       "    .dataframe tbody tr th:only-of-type {\n",
       "        vertical-align: middle;\n",
       "    }\n",
       "\n",
       "    .dataframe tbody tr th {\n",
       "        vertical-align: top;\n",
       "    }\n",
       "\n",
       "    .dataframe thead th {\n",
       "        text-align: right;\n",
       "    }\n",
       "</style>\n",
       "<table border=\"1\" class=\"dataframe\">\n",
       "  <thead>\n",
       "    <tr style=\"text-align: right;\">\n",
       "      <th></th>\n",
       "      <th>Recency_weekly</th>\n",
       "      <th>frequency</th>\n",
       "      <th>monetary_avg</th>\n",
       "      <th>clv</th>\n",
       "    </tr>\n",
       "    <tr>\n",
       "      <th>cltv_segment</th>\n",
       "      <th></th>\n",
       "      <th></th>\n",
       "      <th></th>\n",
       "      <th></th>\n",
       "    </tr>\n",
       "  </thead>\n",
       "  <tbody>\n",
       "    <tr>\n",
       "      <th>D</th>\n",
       "      <td>53.596774</td>\n",
       "      <td>7.827957</td>\n",
       "      <td>11.209677</td>\n",
       "      <td>8.623476</td>\n",
       "    </tr>\n",
       "    <tr>\n",
       "      <th>C</th>\n",
       "      <td>50.590664</td>\n",
       "      <td>10.621185</td>\n",
       "      <td>15.578097</td>\n",
       "      <td>31.495705</td>\n",
       "    </tr>\n",
       "    <tr>\n",
       "      <th>B</th>\n",
       "      <td>66.582437</td>\n",
       "      <td>20.021505</td>\n",
       "      <td>34.229391</td>\n",
       "      <td>102.982914</td>\n",
       "    </tr>\n",
       "    <tr>\n",
       "      <th>A</th>\n",
       "      <td>57.127469</td>\n",
       "      <td>21.174147</td>\n",
       "      <td>65.210054</td>\n",
       "      <td>277.517852</td>\n",
       "    </tr>\n",
       "  </tbody>\n",
       "</table>\n",
       "</div>"
      ],
      "text/plain": [
       "              Recency_weekly  frequency  monetary_avg         clv\n",
       "cltv_segment                                                     \n",
       "D                  53.596774   7.827957     11.209677    8.623476\n",
       "C                  50.590664  10.621185     15.578097   31.495705\n",
       "B                  66.582437  20.021505     34.229391  102.982914\n",
       "A                  57.127469  21.174147     65.210054  277.517852"
      ]
     },
     "execution_count": 41,
     "metadata": {},
     "output_type": "execute_result"
    }
   ],
   "source": [
    "cltv.groupby(\"cltv_segment\")[[\"Recency_weekly\",\"frequency\",\"monetary_avg\",\"clv\"]].agg('mean')"
   ]
  },
  {
   "cell_type": "markdown",
   "id": "69a8b84c",
   "metadata": {
    "papermill": {
     "duration": 0.012791,
     "end_time": "2023-10-15T18:28:29.768002",
     "exception": false,
     "start_time": "2023-10-15T18:28:29.755211",
     "status": "completed"
    },
    "tags": []
   },
   "source": [
    "<div style=\"border-radius:10px; border:#D0C2F0 solid; padding: 15px; background-color: #FFF0F4; font-size:100%; text-align:left\">\n",
    "\n",
    "<h3 align=\"left\"><font color='#5E5273'>Report</font></h3>\n",
    "\n",
    "1. **Segment \"D\"** : Since customers in this segment have a low CLV, incentivizing campaigns can be organized to encourage them to return. For example, offering special discounts, promotions, or loyalty programs can motivate customers to come back to the brand.\n",
    "\n",
    "2. **Segment \"C\"** : Customers in this segment have a moderate CLV, so to increase their loyalty to the brand, special offers or privileges can be provided. For instance, improving customer experience by offering personalized product recommendations or product packaging options can be considered.\n",
    "    \n",
    "3. **Segment \"B\"** : Customers in this segment have high CLV, indicating brand loyalty and high purchasing power. Offering exclusive top-tier services to these customers can strengthen their brand loyalty. Privileges such as exclusive event invitations, premium customer services, or access to special products can be provided.\n",
    "    \n",
    "4. **Segment \"A\"** : Customers in this segment have the highest CLV. They are the most valuable assets of the brand. Strengthening their loyalty can be achieved by providing them with exclusive, personalized services and products. Additionally, paying attention to their feedback and suggestions can ensure continuous improvements in products and services.\n",
    "   "
   ]
  }
 ],
 "metadata": {
  "kernelspec": {
   "display_name": "Python 3",
   "language": "python",
   "name": "python3"
  },
  "language_info": {
   "codemirror_mode": {
    "name": "ipython",
    "version": 3
   },
   "file_extension": ".py",
   "mimetype": "text/x-python",
   "name": "python",
   "nbconvert_exporter": "python",
   "pygments_lexer": "ipython3",
   "version": "3.10.12"
  },
  "papermill": {
   "default_parameters": {},
   "duration": 22.147017,
   "end_time": "2023-10-15T18:28:30.501853",
   "environment_variables": {},
   "exception": null,
   "input_path": "__notebook__.ipynb",
   "output_path": "__notebook__.ipynb",
   "parameters": {},
   "start_time": "2023-10-15T18:28:08.354836",
   "version": "2.4.0"
  }
 },
 "nbformat": 4,
 "nbformat_minor": 5
}
