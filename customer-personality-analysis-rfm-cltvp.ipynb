{
 "cells": [
  {
   "cell_type": "markdown",
   "id": "2bb61d2e",
   "metadata": {
    "papermill": {
     "duration": 0.011966,
     "end_time": "2023-10-15T18:10:43.704746",
     "exception": false,
     "start_time": "2023-10-15T18:10:43.692780",
     "status": "completed"
    },
    "tags": []
   },
   "source": [
    "# <p style=\"background-color:lightgray; font-family:verdana; font-size:250%; text-align:center; border-radius: 15px 20px;\">🟠Libraries and Data import // First look at Data o.o/🟠</p>"
   ]
  },
  {
   "cell_type": "markdown",
   "id": "a007bbbc",
   "metadata": {
    "papermill": {
     "duration": 0.01161,
     "end_time": "2023-10-15T18:10:43.727481",
     "exception": false,
     "start_time": "2023-10-15T18:10:43.715871",
     "status": "completed"
    },
    "tags": []
   },
   "source": [
    "# <p style=\"padding:10px;background-color:orange;margin:0;color:black;font-family:newtimeroman;font-size:100%;text-align:center;border-radius: 15px 50px;overflow:hidden;font-weight:500\">RFM</p>"
   ]
  },
  {
   "cell_type": "code",
   "execution_count": 1,
   "id": "ee69580c",
   "metadata": {
    "_cell_guid": "b1076dfc-b9ad-4769-8c92-a6c4dae69d19",
    "_uuid": "8f2839f25d086af736a60e9eeb907d3b93b6e0e5",
    "execution": {
     "iopub.execute_input": "2023-10-15T18:10:43.752381Z",
     "iopub.status.busy": "2023-10-15T18:10:43.751466Z",
     "iopub.status.idle": "2023-10-15T18:10:44.279832Z",
     "shell.execute_reply": "2023-10-15T18:10:44.278626Z"
    },
    "papermill": {
     "duration": 0.543992,
     "end_time": "2023-10-15T18:10:44.282431",
     "exception": false,
     "start_time": "2023-10-15T18:10:43.738439",
     "status": "completed"
    },
    "tags": []
   },
   "outputs": [
    {
     "name": "stdout",
     "output_type": "stream",
     "text": [
      "/kaggle/input/customer-personality-analysis/marketing_campaign.csv\n"
     ]
    }
   ],
   "source": [
    "import numpy as np \n",
    "import pandas as pd \n",
    "import datetime\n",
    "import os\n",
    "for dirname, _, filenames in os.walk('/kaggle/input'):\n",
    "    for filename in filenames:\n",
    "        print(os.path.join(dirname, filename))\n"
   ]
  },
  {
   "cell_type": "code",
   "execution_count": 2,
   "id": "615cf6da",
   "metadata": {
    "execution": {
     "iopub.execute_input": "2023-10-15T18:10:44.307582Z",
     "iopub.status.busy": "2023-10-15T18:10:44.306284Z",
     "iopub.status.idle": "2023-10-15T18:10:44.347387Z",
     "shell.execute_reply": "2023-10-15T18:10:44.345786Z"
    },
    "papermill": {
     "duration": 0.05655,
     "end_time": "2023-10-15T18:10:44.350115",
     "exception": false,
     "start_time": "2023-10-15T18:10:44.293565",
     "status": "completed"
    },
    "tags": []
   },
   "outputs": [],
   "source": [
    "df = pd.read_csv(\"/kaggle/input/customer-personality-analysis/marketing_campaign.csv\",sep='\\t')"
   ]
  },
  {
   "cell_type": "code",
   "execution_count": 3,
   "id": "8c2c0607",
   "metadata": {
    "execution": {
     "iopub.execute_input": "2023-10-15T18:10:44.375288Z",
     "iopub.status.busy": "2023-10-15T18:10:44.374875Z",
     "iopub.status.idle": "2023-10-15T18:10:44.383717Z",
     "shell.execute_reply": "2023-10-15T18:10:44.382227Z"
    },
    "papermill": {
     "duration": 0.024587,
     "end_time": "2023-10-15T18:10:44.386009",
     "exception": false,
     "start_time": "2023-10-15T18:10:44.361422",
     "status": "completed"
    },
    "tags": []
   },
   "outputs": [
    {
     "data": {
      "text/plain": [
       "(2240, 29)"
      ]
     },
     "execution_count": 3,
     "metadata": {},
     "output_type": "execute_result"
    }
   ],
   "source": [
    "#dataframe's shape\n",
    "df.shape"
   ]
  },
  {
   "cell_type": "code",
   "execution_count": 4,
   "id": "e8878824",
   "metadata": {
    "execution": {
     "iopub.execute_input": "2023-10-15T18:10:44.412920Z",
     "iopub.status.busy": "2023-10-15T18:10:44.412161Z",
     "iopub.status.idle": "2023-10-15T18:10:44.453247Z",
     "shell.execute_reply": "2023-10-15T18:10:44.451319Z"
    },
    "papermill": {
     "duration": 0.058108,
     "end_time": "2023-10-15T18:10:44.455625",
     "exception": false,
     "start_time": "2023-10-15T18:10:44.397517",
     "status": "completed"
    },
    "tags": []
   },
   "outputs": [
    {
     "name": "stdout",
     "output_type": "stream",
     "text": [
      "<class 'pandas.core.frame.DataFrame'>\n",
      "RangeIndex: 2240 entries, 0 to 2239\n",
      "Data columns (total 29 columns):\n",
      " #   Column               Non-Null Count  Dtype  \n",
      "---  ------               --------------  -----  \n",
      " 0   ID                   2240 non-null   int64  \n",
      " 1   Year_Birth           2240 non-null   int64  \n",
      " 2   Education            2240 non-null   object \n",
      " 3   Marital_Status       2240 non-null   object \n",
      " 4   Income               2216 non-null   float64\n",
      " 5   Kidhome              2240 non-null   int64  \n",
      " 6   Teenhome             2240 non-null   int64  \n",
      " 7   Dt_Customer          2240 non-null   object \n",
      " 8   Recency              2240 non-null   int64  \n",
      " 9   MntWines             2240 non-null   int64  \n",
      " 10  MntFruits            2240 non-null   int64  \n",
      " 11  MntMeatProducts      2240 non-null   int64  \n",
      " 12  MntFishProducts      2240 non-null   int64  \n",
      " 13  MntSweetProducts     2240 non-null   int64  \n",
      " 14  MntGoldProds         2240 non-null   int64  \n",
      " 15  NumDealsPurchases    2240 non-null   int64  \n",
      " 16  NumWebPurchases      2240 non-null   int64  \n",
      " 17  NumCatalogPurchases  2240 non-null   int64  \n",
      " 18  NumStorePurchases    2240 non-null   int64  \n",
      " 19  NumWebVisitsMonth    2240 non-null   int64  \n",
      " 20  AcceptedCmp3         2240 non-null   int64  \n",
      " 21  AcceptedCmp4         2240 non-null   int64  \n",
      " 22  AcceptedCmp5         2240 non-null   int64  \n",
      " 23  AcceptedCmp1         2240 non-null   int64  \n",
      " 24  AcceptedCmp2         2240 non-null   int64  \n",
      " 25  Complain             2240 non-null   int64  \n",
      " 26  Z_CostContact        2240 non-null   int64  \n",
      " 27  Z_Revenue            2240 non-null   int64  \n",
      " 28  Response             2240 non-null   int64  \n",
      "dtypes: float64(1), int64(25), object(3)\n",
      "memory usage: 507.6+ KB\n"
     ]
    }
   ],
   "source": [
    "#We can see that there is missing values in 'Income'\n",
    "df.info()"
   ]
  },
  {
   "cell_type": "code",
   "execution_count": 5,
   "id": "c68700fe",
   "metadata": {
    "execution": {
     "iopub.execute_input": "2023-10-15T18:10:44.481010Z",
     "iopub.status.busy": "2023-10-15T18:10:44.480598Z",
     "iopub.status.idle": "2023-10-15T18:10:44.503757Z",
     "shell.execute_reply": "2023-10-15T18:10:44.502305Z"
    },
    "papermill": {
     "duration": 0.039235,
     "end_time": "2023-10-15T18:10:44.506200",
     "exception": false,
     "start_time": "2023-10-15T18:10:44.466965",
     "status": "completed"
    },
    "tags": []
   },
   "outputs": [
    {
     "data": {
      "text/html": [
       "<div>\n",
       "<style scoped>\n",
       "    .dataframe tbody tr th:only-of-type {\n",
       "        vertical-align: middle;\n",
       "    }\n",
       "\n",
       "    .dataframe tbody tr th {\n",
       "        vertical-align: top;\n",
       "    }\n",
       "\n",
       "    .dataframe thead th {\n",
       "        text-align: right;\n",
       "    }\n",
       "</style>\n",
       "<table border=\"1\" class=\"dataframe\">\n",
       "  <thead>\n",
       "    <tr style=\"text-align: right;\">\n",
       "      <th></th>\n",
       "      <th>0</th>\n",
       "      <th>1</th>\n",
       "      <th>2</th>\n",
       "      <th>3</th>\n",
       "      <th>4</th>\n",
       "    </tr>\n",
       "  </thead>\n",
       "  <tbody>\n",
       "    <tr>\n",
       "      <th>ID</th>\n",
       "      <td>5524</td>\n",
       "      <td>2174</td>\n",
       "      <td>4141</td>\n",
       "      <td>6182</td>\n",
       "      <td>5324</td>\n",
       "    </tr>\n",
       "    <tr>\n",
       "      <th>Year_Birth</th>\n",
       "      <td>1957</td>\n",
       "      <td>1954</td>\n",
       "      <td>1965</td>\n",
       "      <td>1984</td>\n",
       "      <td>1981</td>\n",
       "    </tr>\n",
       "    <tr>\n",
       "      <th>Education</th>\n",
       "      <td>Graduation</td>\n",
       "      <td>Graduation</td>\n",
       "      <td>Graduation</td>\n",
       "      <td>Graduation</td>\n",
       "      <td>PhD</td>\n",
       "    </tr>\n",
       "    <tr>\n",
       "      <th>Marital_Status</th>\n",
       "      <td>Single</td>\n",
       "      <td>Single</td>\n",
       "      <td>Together</td>\n",
       "      <td>Together</td>\n",
       "      <td>Married</td>\n",
       "    </tr>\n",
       "    <tr>\n",
       "      <th>Income</th>\n",
       "      <td>58138.0</td>\n",
       "      <td>46344.0</td>\n",
       "      <td>71613.0</td>\n",
       "      <td>26646.0</td>\n",
       "      <td>58293.0</td>\n",
       "    </tr>\n",
       "    <tr>\n",
       "      <th>Kidhome</th>\n",
       "      <td>0</td>\n",
       "      <td>1</td>\n",
       "      <td>0</td>\n",
       "      <td>1</td>\n",
       "      <td>1</td>\n",
       "    </tr>\n",
       "    <tr>\n",
       "      <th>Teenhome</th>\n",
       "      <td>0</td>\n",
       "      <td>1</td>\n",
       "      <td>0</td>\n",
       "      <td>0</td>\n",
       "      <td>0</td>\n",
       "    </tr>\n",
       "    <tr>\n",
       "      <th>Dt_Customer</th>\n",
       "      <td>04-09-2012</td>\n",
       "      <td>08-03-2014</td>\n",
       "      <td>21-08-2013</td>\n",
       "      <td>10-02-2014</td>\n",
       "      <td>19-01-2014</td>\n",
       "    </tr>\n",
       "    <tr>\n",
       "      <th>Recency</th>\n",
       "      <td>58</td>\n",
       "      <td>38</td>\n",
       "      <td>26</td>\n",
       "      <td>26</td>\n",
       "      <td>94</td>\n",
       "    </tr>\n",
       "    <tr>\n",
       "      <th>MntWines</th>\n",
       "      <td>635</td>\n",
       "      <td>11</td>\n",
       "      <td>426</td>\n",
       "      <td>11</td>\n",
       "      <td>173</td>\n",
       "    </tr>\n",
       "    <tr>\n",
       "      <th>MntFruits</th>\n",
       "      <td>88</td>\n",
       "      <td>1</td>\n",
       "      <td>49</td>\n",
       "      <td>4</td>\n",
       "      <td>43</td>\n",
       "    </tr>\n",
       "    <tr>\n",
       "      <th>MntMeatProducts</th>\n",
       "      <td>546</td>\n",
       "      <td>6</td>\n",
       "      <td>127</td>\n",
       "      <td>20</td>\n",
       "      <td>118</td>\n",
       "    </tr>\n",
       "    <tr>\n",
       "      <th>MntFishProducts</th>\n",
       "      <td>172</td>\n",
       "      <td>2</td>\n",
       "      <td>111</td>\n",
       "      <td>10</td>\n",
       "      <td>46</td>\n",
       "    </tr>\n",
       "    <tr>\n",
       "      <th>MntSweetProducts</th>\n",
       "      <td>88</td>\n",
       "      <td>1</td>\n",
       "      <td>21</td>\n",
       "      <td>3</td>\n",
       "      <td>27</td>\n",
       "    </tr>\n",
       "    <tr>\n",
       "      <th>MntGoldProds</th>\n",
       "      <td>88</td>\n",
       "      <td>6</td>\n",
       "      <td>42</td>\n",
       "      <td>5</td>\n",
       "      <td>15</td>\n",
       "    </tr>\n",
       "    <tr>\n",
       "      <th>NumDealsPurchases</th>\n",
       "      <td>3</td>\n",
       "      <td>2</td>\n",
       "      <td>1</td>\n",
       "      <td>2</td>\n",
       "      <td>5</td>\n",
       "    </tr>\n",
       "    <tr>\n",
       "      <th>NumWebPurchases</th>\n",
       "      <td>8</td>\n",
       "      <td>1</td>\n",
       "      <td>8</td>\n",
       "      <td>2</td>\n",
       "      <td>5</td>\n",
       "    </tr>\n",
       "    <tr>\n",
       "      <th>NumCatalogPurchases</th>\n",
       "      <td>10</td>\n",
       "      <td>1</td>\n",
       "      <td>2</td>\n",
       "      <td>0</td>\n",
       "      <td>3</td>\n",
       "    </tr>\n",
       "    <tr>\n",
       "      <th>NumStorePurchases</th>\n",
       "      <td>4</td>\n",
       "      <td>2</td>\n",
       "      <td>10</td>\n",
       "      <td>4</td>\n",
       "      <td>6</td>\n",
       "    </tr>\n",
       "    <tr>\n",
       "      <th>NumWebVisitsMonth</th>\n",
       "      <td>7</td>\n",
       "      <td>5</td>\n",
       "      <td>4</td>\n",
       "      <td>6</td>\n",
       "      <td>5</td>\n",
       "    </tr>\n",
       "    <tr>\n",
       "      <th>AcceptedCmp3</th>\n",
       "      <td>0</td>\n",
       "      <td>0</td>\n",
       "      <td>0</td>\n",
       "      <td>0</td>\n",
       "      <td>0</td>\n",
       "    </tr>\n",
       "    <tr>\n",
       "      <th>AcceptedCmp4</th>\n",
       "      <td>0</td>\n",
       "      <td>0</td>\n",
       "      <td>0</td>\n",
       "      <td>0</td>\n",
       "      <td>0</td>\n",
       "    </tr>\n",
       "    <tr>\n",
       "      <th>AcceptedCmp5</th>\n",
       "      <td>0</td>\n",
       "      <td>0</td>\n",
       "      <td>0</td>\n",
       "      <td>0</td>\n",
       "      <td>0</td>\n",
       "    </tr>\n",
       "    <tr>\n",
       "      <th>AcceptedCmp1</th>\n",
       "      <td>0</td>\n",
       "      <td>0</td>\n",
       "      <td>0</td>\n",
       "      <td>0</td>\n",
       "      <td>0</td>\n",
       "    </tr>\n",
       "    <tr>\n",
       "      <th>AcceptedCmp2</th>\n",
       "      <td>0</td>\n",
       "      <td>0</td>\n",
       "      <td>0</td>\n",
       "      <td>0</td>\n",
       "      <td>0</td>\n",
       "    </tr>\n",
       "    <tr>\n",
       "      <th>Complain</th>\n",
       "      <td>0</td>\n",
       "      <td>0</td>\n",
       "      <td>0</td>\n",
       "      <td>0</td>\n",
       "      <td>0</td>\n",
       "    </tr>\n",
       "    <tr>\n",
       "      <th>Z_CostContact</th>\n",
       "      <td>3</td>\n",
       "      <td>3</td>\n",
       "      <td>3</td>\n",
       "      <td>3</td>\n",
       "      <td>3</td>\n",
       "    </tr>\n",
       "    <tr>\n",
       "      <th>Z_Revenue</th>\n",
       "      <td>11</td>\n",
       "      <td>11</td>\n",
       "      <td>11</td>\n",
       "      <td>11</td>\n",
       "      <td>11</td>\n",
       "    </tr>\n",
       "    <tr>\n",
       "      <th>Response</th>\n",
       "      <td>1</td>\n",
       "      <td>0</td>\n",
       "      <td>0</td>\n",
       "      <td>0</td>\n",
       "      <td>0</td>\n",
       "    </tr>\n",
       "  </tbody>\n",
       "</table>\n",
       "</div>"
      ],
      "text/plain": [
       "                              0           1           2           3  \\\n",
       "ID                         5524        2174        4141        6182   \n",
       "Year_Birth                 1957        1954        1965        1984   \n",
       "Education            Graduation  Graduation  Graduation  Graduation   \n",
       "Marital_Status           Single      Single    Together    Together   \n",
       "Income                  58138.0     46344.0     71613.0     26646.0   \n",
       "Kidhome                       0           1           0           1   \n",
       "Teenhome                      0           1           0           0   \n",
       "Dt_Customer          04-09-2012  08-03-2014  21-08-2013  10-02-2014   \n",
       "Recency                      58          38          26          26   \n",
       "MntWines                    635          11         426          11   \n",
       "MntFruits                    88           1          49           4   \n",
       "MntMeatProducts             546           6         127          20   \n",
       "MntFishProducts             172           2         111          10   \n",
       "MntSweetProducts             88           1          21           3   \n",
       "MntGoldProds                 88           6          42           5   \n",
       "NumDealsPurchases             3           2           1           2   \n",
       "NumWebPurchases               8           1           8           2   \n",
       "NumCatalogPurchases          10           1           2           0   \n",
       "NumStorePurchases             4           2          10           4   \n",
       "NumWebVisitsMonth             7           5           4           6   \n",
       "AcceptedCmp3                  0           0           0           0   \n",
       "AcceptedCmp4                  0           0           0           0   \n",
       "AcceptedCmp5                  0           0           0           0   \n",
       "AcceptedCmp1                  0           0           0           0   \n",
       "AcceptedCmp2                  0           0           0           0   \n",
       "Complain                      0           0           0           0   \n",
       "Z_CostContact                 3           3           3           3   \n",
       "Z_Revenue                    11          11          11          11   \n",
       "Response                      1           0           0           0   \n",
       "\n",
       "                              4  \n",
       "ID                         5324  \n",
       "Year_Birth                 1981  \n",
       "Education                   PhD  \n",
       "Marital_Status          Married  \n",
       "Income                  58293.0  \n",
       "Kidhome                       1  \n",
       "Teenhome                      0  \n",
       "Dt_Customer          19-01-2014  \n",
       "Recency                      94  \n",
       "MntWines                    173  \n",
       "MntFruits                    43  \n",
       "MntMeatProducts             118  \n",
       "MntFishProducts              46  \n",
       "MntSweetProducts             27  \n",
       "MntGoldProds                 15  \n",
       "NumDealsPurchases             5  \n",
       "NumWebPurchases               5  \n",
       "NumCatalogPurchases           3  \n",
       "NumStorePurchases             6  \n",
       "NumWebVisitsMonth             5  \n",
       "AcceptedCmp3                  0  \n",
       "AcceptedCmp4                  0  \n",
       "AcceptedCmp5                  0  \n",
       "AcceptedCmp1                  0  \n",
       "AcceptedCmp2                  0  \n",
       "Complain                      0  \n",
       "Z_CostContact                 3  \n",
       "Z_Revenue                    11  \n",
       "Response                      0  "
      ]
     },
     "execution_count": 5,
     "metadata": {},
     "output_type": "execute_result"
    }
   ],
   "source": [
    "#checking first 5 values to understand data\n",
    "df.head().T"
   ]
  },
  {
   "cell_type": "markdown",
   "id": "1e994113",
   "metadata": {
    "papermill": {
     "duration": 0.011841,
     "end_time": "2023-10-15T18:10:44.529368",
     "exception": false,
     "start_time": "2023-10-15T18:10:44.517527",
     "status": "completed"
    },
    "tags": []
   },
   "source": [
    "<div style=\"border-radius:10px; border:#DEB887 solid; padding: 15px; background-color: #FFFAF0; font-size:100%; text-align:left\">\n",
    "\n",
    "<h3 align=\"left\"><font color='#DEB887'>💡 Notes:</font></h3>\n",
    "\n",
    "\n",
    "1. **ID** : Customer's unique identifier\n",
    "1. **Year_Birth** : Customer's birth year\n",
    "1. **Education** : Customer's education level\n",
    "1. **Marital_Status** : Customer's marital status\n",
    "1. **Income** : Customer's yearly household income\n",
    "1. **Kidhome** : Number of children in customer's household\n",
    "1. **Teenhome** : Number of teenagers in customer's household\n",
    "1. **Dt_Customer** : Date of customer's enrollment with the company\n",
    "1. **Recency** : Number of days since customer's last purchase\n",
    "1. **Complain** : 1 if the customer complained in the last 2 years, 0 otherwise\n",
    "1. **MntWines** : Amount spent on wine in last 2 years\n",
    "1. **MntFruits** : Amount spent on fruits in last 2 years\n",
    "1. **MntMeatProducts** : Amount spent on meat in last 2 years\n",
    "1. **MntFishProducts** : Amount spent on fish in last 2 years\n",
    "1. **MntSweetProducts** : Amount spent on sweets in last 2 years\n",
    "1. **MntGoldProds** : Amount spent on gold in last 2 years\n",
    "1. **NumDealsPurchases** : Number of purchases made with a discount\n",
    "1. **AcceptedCmp1** : 1 if customer accepted the offer in the 1st campaign, 0 otherwise\n",
    "1. **AcceptedCmp2** : 1 if customer accepted the offer in the 2nd campaign, 0 otherwise\n",
    "1. **AcceptedCmp3** : 1 if customer accepted the offer in the 3rd campaign, 0 otherwise\n",
    "1. **AcceptedCmp4** : 1 if customer accepted the offer in the 4th campaign, 0 otherwise\n",
    "1. **AcceptedCmp5** : 1 if customer accepted the offer in the 5th campaign, 0 otherwise\n",
    "1. **Response** : 1 if customer accepted the offer in the last campaign, 0 otherwise\n",
    "1. **NumWebPurchases** : Number of purchases made through the company’s website\n",
    "1. **NumCatalogPurchases** : Number of purchases made using a catalogue\n",
    "1. **NumStorePurchases** : Number of purchases made directly in stores\n",
    "1. **NumWebVisitsMonth** : Number of visits to company’s website in the last month"
   ]
  },
  {
   "cell_type": "code",
   "execution_count": 6,
   "id": "8e8dacd5",
   "metadata": {
    "execution": {
     "iopub.execute_input": "2023-10-15T18:10:44.554618Z",
     "iopub.status.busy": "2023-10-15T18:10:44.554115Z",
     "iopub.status.idle": "2023-10-15T18:10:44.560648Z",
     "shell.execute_reply": "2023-10-15T18:10:44.559331Z"
    },
    "papermill": {
     "duration": 0.022262,
     "end_time": "2023-10-15T18:10:44.562952",
     "exception": false,
     "start_time": "2023-10-15T18:10:44.540690",
     "status": "completed"
    },
    "tags": []
   },
   "outputs": [],
   "source": [
    "#making last purchase year\n",
    "df[\"last_purch_age\"] = df[\"Recency\"] - df[\"Year_Birth\"]"
   ]
  },
  {
   "cell_type": "code",
   "execution_count": 7,
   "id": "2d26140b",
   "metadata": {
    "execution": {
     "iopub.execute_input": "2023-10-15T18:10:44.589758Z",
     "iopub.status.busy": "2023-10-15T18:10:44.589373Z",
     "iopub.status.idle": "2023-10-15T18:10:44.605506Z",
     "shell.execute_reply": "2023-10-15T18:10:44.604307Z"
    },
    "papermill": {
     "duration": 0.033517,
     "end_time": "2023-10-15T18:10:44.608275",
     "exception": false,
     "start_time": "2023-10-15T18:10:44.574758",
     "status": "completed"
    },
    "tags": []
   },
   "outputs": [],
   "source": [
    "#dt customer was object, we changed it to datetime\n",
    "df[\"Dt_Customer\"] = pd.to_datetime(df[\"Dt_Customer\"], format='%d-%m-%Y')"
   ]
  },
  {
   "cell_type": "code",
   "execution_count": 8,
   "id": "a5d7880c",
   "metadata": {
    "execution": {
     "iopub.execute_input": "2023-10-15T18:10:44.635427Z",
     "iopub.status.busy": "2023-10-15T18:10:44.634997Z",
     "iopub.status.idle": "2023-10-15T18:10:44.642487Z",
     "shell.execute_reply": "2023-10-15T18:10:44.641151Z"
    },
    "papermill": {
     "duration": 0.024909,
     "end_time": "2023-10-15T18:10:44.644862",
     "exception": false,
     "start_time": "2023-10-15T18:10:44.619953",
     "status": "completed"
    },
    "tags": []
   },
   "outputs": [],
   "source": [
    "#gathered all spent columns in one \n",
    "df[\"Monetary\"] = df[\"MntWines\"]+ df[\"MntFruits\"]+ df[\"MntMeatProducts\"]+ df[\"MntFishProducts\"]+ df[\"MntSweetProducts\"]+ df[\"MntGoldProds\"]"
   ]
  },
  {
   "cell_type": "code",
   "execution_count": 9,
   "id": "5d8be37a",
   "metadata": {
    "execution": {
     "iopub.execute_input": "2023-10-15T18:10:44.669847Z",
     "iopub.status.busy": "2023-10-15T18:10:44.669421Z",
     "iopub.status.idle": "2023-10-15T18:10:44.677203Z",
     "shell.execute_reply": "2023-10-15T18:10:44.675977Z"
    },
    "papermill": {
     "duration": 0.023024,
     "end_time": "2023-10-15T18:10:44.679536",
     "exception": false,
     "start_time": "2023-10-15T18:10:44.656512",
     "status": "completed"
    },
    "tags": []
   },
   "outputs": [],
   "source": [
    "#gathered all kind of childrens in one \n",
    "df[\"Children\"]=df[\"Kidhome\"]+df[\"Teenhome\"]"
   ]
  },
  {
   "cell_type": "code",
   "execution_count": 10,
   "id": "d633ceca",
   "metadata": {
    "execution": {
     "iopub.execute_input": "2023-10-15T18:10:44.785542Z",
     "iopub.status.busy": "2023-10-15T18:10:44.785082Z",
     "iopub.status.idle": "2023-10-15T18:10:44.873632Z",
     "shell.execute_reply": "2023-10-15T18:10:44.872361Z"
    },
    "papermill": {
     "duration": 0.108718,
     "end_time": "2023-10-15T18:10:44.876952",
     "exception": false,
     "start_time": "2023-10-15T18:10:44.768234",
     "status": "completed"
    },
    "tags": []
   },
   "outputs": [
    {
     "data": {
      "text/html": [
       "<div>\n",
       "<style scoped>\n",
       "    .dataframe tbody tr th:only-of-type {\n",
       "        vertical-align: middle;\n",
       "    }\n",
       "\n",
       "    .dataframe tbody tr th {\n",
       "        vertical-align: top;\n",
       "    }\n",
       "\n",
       "    .dataframe thead th {\n",
       "        text-align: right;\n",
       "    }\n",
       "</style>\n",
       "<table border=\"1\" class=\"dataframe\">\n",
       "  <thead>\n",
       "    <tr style=\"text-align: right;\">\n",
       "      <th></th>\n",
       "      <th>count</th>\n",
       "      <th>mean</th>\n",
       "      <th>min</th>\n",
       "      <th>25%</th>\n",
       "      <th>50%</th>\n",
       "      <th>75%</th>\n",
       "      <th>max</th>\n",
       "      <th>std</th>\n",
       "    </tr>\n",
       "  </thead>\n",
       "  <tbody>\n",
       "    <tr>\n",
       "      <th>ID</th>\n",
       "      <td>2240.0</td>\n",
       "      <td>5592.159821</td>\n",
       "      <td>0.0</td>\n",
       "      <td>2828.25</td>\n",
       "      <td>5458.5</td>\n",
       "      <td>8427.75</td>\n",
       "      <td>11191.0</td>\n",
       "      <td>3246.662198</td>\n",
       "    </tr>\n",
       "    <tr>\n",
       "      <th>Year_Birth</th>\n",
       "      <td>2240.0</td>\n",
       "      <td>1968.805804</td>\n",
       "      <td>1893.0</td>\n",
       "      <td>1959.0</td>\n",
       "      <td>1970.0</td>\n",
       "      <td>1977.0</td>\n",
       "      <td>1996.0</td>\n",
       "      <td>11.984069</td>\n",
       "    </tr>\n",
       "    <tr>\n",
       "      <th>Income</th>\n",
       "      <td>2216.0</td>\n",
       "      <td>52247.251354</td>\n",
       "      <td>1730.0</td>\n",
       "      <td>35303.0</td>\n",
       "      <td>51381.5</td>\n",
       "      <td>68522.0</td>\n",
       "      <td>666666.0</td>\n",
       "      <td>25173.076661</td>\n",
       "    </tr>\n",
       "    <tr>\n",
       "      <th>Kidhome</th>\n",
       "      <td>2240.0</td>\n",
       "      <td>0.444196</td>\n",
       "      <td>0.0</td>\n",
       "      <td>0.0</td>\n",
       "      <td>0.0</td>\n",
       "      <td>1.0</td>\n",
       "      <td>2.0</td>\n",
       "      <td>0.538398</td>\n",
       "    </tr>\n",
       "    <tr>\n",
       "      <th>Teenhome</th>\n",
       "      <td>2240.0</td>\n",
       "      <td>0.50625</td>\n",
       "      <td>0.0</td>\n",
       "      <td>0.0</td>\n",
       "      <td>0.0</td>\n",
       "      <td>1.0</td>\n",
       "      <td>2.0</td>\n",
       "      <td>0.544538</td>\n",
       "    </tr>\n",
       "    <tr>\n",
       "      <th>Dt_Customer</th>\n",
       "      <td>2240</td>\n",
       "      <td>2013-07-10 10:01:42.857142784</td>\n",
       "      <td>2012-07-30 00:00:00</td>\n",
       "      <td>2013-01-16 00:00:00</td>\n",
       "      <td>2013-07-08 12:00:00</td>\n",
       "      <td>2013-12-30 06:00:00</td>\n",
       "      <td>2014-06-29 00:00:00</td>\n",
       "      <td>NaN</td>\n",
       "    </tr>\n",
       "    <tr>\n",
       "      <th>Recency</th>\n",
       "      <td>2240.0</td>\n",
       "      <td>49.109375</td>\n",
       "      <td>0.0</td>\n",
       "      <td>24.0</td>\n",
       "      <td>49.0</td>\n",
       "      <td>74.0</td>\n",
       "      <td>99.0</td>\n",
       "      <td>28.962453</td>\n",
       "    </tr>\n",
       "    <tr>\n",
       "      <th>MntWines</th>\n",
       "      <td>2240.0</td>\n",
       "      <td>303.935714</td>\n",
       "      <td>0.0</td>\n",
       "      <td>23.75</td>\n",
       "      <td>173.5</td>\n",
       "      <td>504.25</td>\n",
       "      <td>1493.0</td>\n",
       "      <td>336.597393</td>\n",
       "    </tr>\n",
       "    <tr>\n",
       "      <th>MntFruits</th>\n",
       "      <td>2240.0</td>\n",
       "      <td>26.302232</td>\n",
       "      <td>0.0</td>\n",
       "      <td>1.0</td>\n",
       "      <td>8.0</td>\n",
       "      <td>33.0</td>\n",
       "      <td>199.0</td>\n",
       "      <td>39.773434</td>\n",
       "    </tr>\n",
       "    <tr>\n",
       "      <th>MntMeatProducts</th>\n",
       "      <td>2240.0</td>\n",
       "      <td>166.95</td>\n",
       "      <td>0.0</td>\n",
       "      <td>16.0</td>\n",
       "      <td>67.0</td>\n",
       "      <td>232.0</td>\n",
       "      <td>1725.0</td>\n",
       "      <td>225.715373</td>\n",
       "    </tr>\n",
       "    <tr>\n",
       "      <th>MntFishProducts</th>\n",
       "      <td>2240.0</td>\n",
       "      <td>37.525446</td>\n",
       "      <td>0.0</td>\n",
       "      <td>3.0</td>\n",
       "      <td>12.0</td>\n",
       "      <td>50.0</td>\n",
       "      <td>259.0</td>\n",
       "      <td>54.628979</td>\n",
       "    </tr>\n",
       "    <tr>\n",
       "      <th>MntSweetProducts</th>\n",
       "      <td>2240.0</td>\n",
       "      <td>27.062946</td>\n",
       "      <td>0.0</td>\n",
       "      <td>1.0</td>\n",
       "      <td>8.0</td>\n",
       "      <td>33.0</td>\n",
       "      <td>263.0</td>\n",
       "      <td>41.280498</td>\n",
       "    </tr>\n",
       "    <tr>\n",
       "      <th>MntGoldProds</th>\n",
       "      <td>2240.0</td>\n",
       "      <td>44.021875</td>\n",
       "      <td>0.0</td>\n",
       "      <td>9.0</td>\n",
       "      <td>24.0</td>\n",
       "      <td>56.0</td>\n",
       "      <td>362.0</td>\n",
       "      <td>52.167439</td>\n",
       "    </tr>\n",
       "    <tr>\n",
       "      <th>NumDealsPurchases</th>\n",
       "      <td>2240.0</td>\n",
       "      <td>2.325</td>\n",
       "      <td>0.0</td>\n",
       "      <td>1.0</td>\n",
       "      <td>2.0</td>\n",
       "      <td>3.0</td>\n",
       "      <td>15.0</td>\n",
       "      <td>1.932238</td>\n",
       "    </tr>\n",
       "    <tr>\n",
       "      <th>NumWebPurchases</th>\n",
       "      <td>2240.0</td>\n",
       "      <td>4.084821</td>\n",
       "      <td>0.0</td>\n",
       "      <td>2.0</td>\n",
       "      <td>4.0</td>\n",
       "      <td>6.0</td>\n",
       "      <td>27.0</td>\n",
       "      <td>2.778714</td>\n",
       "    </tr>\n",
       "    <tr>\n",
       "      <th>NumCatalogPurchases</th>\n",
       "      <td>2240.0</td>\n",
       "      <td>2.662054</td>\n",
       "      <td>0.0</td>\n",
       "      <td>0.0</td>\n",
       "      <td>2.0</td>\n",
       "      <td>4.0</td>\n",
       "      <td>28.0</td>\n",
       "      <td>2.923101</td>\n",
       "    </tr>\n",
       "    <tr>\n",
       "      <th>NumStorePurchases</th>\n",
       "      <td>2240.0</td>\n",
       "      <td>5.790179</td>\n",
       "      <td>0.0</td>\n",
       "      <td>3.0</td>\n",
       "      <td>5.0</td>\n",
       "      <td>8.0</td>\n",
       "      <td>13.0</td>\n",
       "      <td>3.250958</td>\n",
       "    </tr>\n",
       "    <tr>\n",
       "      <th>NumWebVisitsMonth</th>\n",
       "      <td>2240.0</td>\n",
       "      <td>5.316518</td>\n",
       "      <td>0.0</td>\n",
       "      <td>3.0</td>\n",
       "      <td>6.0</td>\n",
       "      <td>7.0</td>\n",
       "      <td>20.0</td>\n",
       "      <td>2.426645</td>\n",
       "    </tr>\n",
       "    <tr>\n",
       "      <th>AcceptedCmp3</th>\n",
       "      <td>2240.0</td>\n",
       "      <td>0.072768</td>\n",
       "      <td>0.0</td>\n",
       "      <td>0.0</td>\n",
       "      <td>0.0</td>\n",
       "      <td>0.0</td>\n",
       "      <td>1.0</td>\n",
       "      <td>0.259813</td>\n",
       "    </tr>\n",
       "    <tr>\n",
       "      <th>AcceptedCmp4</th>\n",
       "      <td>2240.0</td>\n",
       "      <td>0.074554</td>\n",
       "      <td>0.0</td>\n",
       "      <td>0.0</td>\n",
       "      <td>0.0</td>\n",
       "      <td>0.0</td>\n",
       "      <td>1.0</td>\n",
       "      <td>0.262728</td>\n",
       "    </tr>\n",
       "    <tr>\n",
       "      <th>AcceptedCmp5</th>\n",
       "      <td>2240.0</td>\n",
       "      <td>0.072768</td>\n",
       "      <td>0.0</td>\n",
       "      <td>0.0</td>\n",
       "      <td>0.0</td>\n",
       "      <td>0.0</td>\n",
       "      <td>1.0</td>\n",
       "      <td>0.259813</td>\n",
       "    </tr>\n",
       "    <tr>\n",
       "      <th>AcceptedCmp1</th>\n",
       "      <td>2240.0</td>\n",
       "      <td>0.064286</td>\n",
       "      <td>0.0</td>\n",
       "      <td>0.0</td>\n",
       "      <td>0.0</td>\n",
       "      <td>0.0</td>\n",
       "      <td>1.0</td>\n",
       "      <td>0.245316</td>\n",
       "    </tr>\n",
       "    <tr>\n",
       "      <th>AcceptedCmp2</th>\n",
       "      <td>2240.0</td>\n",
       "      <td>0.013393</td>\n",
       "      <td>0.0</td>\n",
       "      <td>0.0</td>\n",
       "      <td>0.0</td>\n",
       "      <td>0.0</td>\n",
       "      <td>1.0</td>\n",
       "      <td>0.114976</td>\n",
       "    </tr>\n",
       "    <tr>\n",
       "      <th>Complain</th>\n",
       "      <td>2240.0</td>\n",
       "      <td>0.009375</td>\n",
       "      <td>0.0</td>\n",
       "      <td>0.0</td>\n",
       "      <td>0.0</td>\n",
       "      <td>0.0</td>\n",
       "      <td>1.0</td>\n",
       "      <td>0.096391</td>\n",
       "    </tr>\n",
       "    <tr>\n",
       "      <th>Z_CostContact</th>\n",
       "      <td>2240.0</td>\n",
       "      <td>3.0</td>\n",
       "      <td>3.0</td>\n",
       "      <td>3.0</td>\n",
       "      <td>3.0</td>\n",
       "      <td>3.0</td>\n",
       "      <td>3.0</td>\n",
       "      <td>0.0</td>\n",
       "    </tr>\n",
       "    <tr>\n",
       "      <th>Z_Revenue</th>\n",
       "      <td>2240.0</td>\n",
       "      <td>11.0</td>\n",
       "      <td>11.0</td>\n",
       "      <td>11.0</td>\n",
       "      <td>11.0</td>\n",
       "      <td>11.0</td>\n",
       "      <td>11.0</td>\n",
       "      <td>0.0</td>\n",
       "    </tr>\n",
       "    <tr>\n",
       "      <th>Response</th>\n",
       "      <td>2240.0</td>\n",
       "      <td>0.149107</td>\n",
       "      <td>0.0</td>\n",
       "      <td>0.0</td>\n",
       "      <td>0.0</td>\n",
       "      <td>0.0</td>\n",
       "      <td>1.0</td>\n",
       "      <td>0.356274</td>\n",
       "    </tr>\n",
       "    <tr>\n",
       "      <th>last_purch_age</th>\n",
       "      <td>2240.0</td>\n",
       "      <td>-1919.696429</td>\n",
       "      <td>-1989.0</td>\n",
       "      <td>-1945.0</td>\n",
       "      <td>-1920.0</td>\n",
       "      <td>-1894.0</td>\n",
       "      <td>-1801.0</td>\n",
       "      <td>31.563201</td>\n",
       "    </tr>\n",
       "    <tr>\n",
       "      <th>Monetary</th>\n",
       "      <td>2240.0</td>\n",
       "      <td>605.798214</td>\n",
       "      <td>5.0</td>\n",
       "      <td>68.75</td>\n",
       "      <td>396.0</td>\n",
       "      <td>1045.5</td>\n",
       "      <td>2525.0</td>\n",
       "      <td>602.249288</td>\n",
       "    </tr>\n",
       "    <tr>\n",
       "      <th>Children</th>\n",
       "      <td>2240.0</td>\n",
       "      <td>0.950446</td>\n",
       "      <td>0.0</td>\n",
       "      <td>0.0</td>\n",
       "      <td>1.0</td>\n",
       "      <td>1.0</td>\n",
       "      <td>3.0</td>\n",
       "      <td>0.751803</td>\n",
       "    </tr>\n",
       "  </tbody>\n",
       "</table>\n",
       "</div>"
      ],
      "text/plain": [
       "                      count                           mean  \\\n",
       "ID                   2240.0                    5592.159821   \n",
       "Year_Birth           2240.0                    1968.805804   \n",
       "Income               2216.0                   52247.251354   \n",
       "Kidhome              2240.0                       0.444196   \n",
       "Teenhome             2240.0                        0.50625   \n",
       "Dt_Customer            2240  2013-07-10 10:01:42.857142784   \n",
       "Recency              2240.0                      49.109375   \n",
       "MntWines             2240.0                     303.935714   \n",
       "MntFruits            2240.0                      26.302232   \n",
       "MntMeatProducts      2240.0                         166.95   \n",
       "MntFishProducts      2240.0                      37.525446   \n",
       "MntSweetProducts     2240.0                      27.062946   \n",
       "MntGoldProds         2240.0                      44.021875   \n",
       "NumDealsPurchases    2240.0                          2.325   \n",
       "NumWebPurchases      2240.0                       4.084821   \n",
       "NumCatalogPurchases  2240.0                       2.662054   \n",
       "NumStorePurchases    2240.0                       5.790179   \n",
       "NumWebVisitsMonth    2240.0                       5.316518   \n",
       "AcceptedCmp3         2240.0                       0.072768   \n",
       "AcceptedCmp4         2240.0                       0.074554   \n",
       "AcceptedCmp5         2240.0                       0.072768   \n",
       "AcceptedCmp1         2240.0                       0.064286   \n",
       "AcceptedCmp2         2240.0                       0.013393   \n",
       "Complain             2240.0                       0.009375   \n",
       "Z_CostContact        2240.0                            3.0   \n",
       "Z_Revenue            2240.0                           11.0   \n",
       "Response             2240.0                       0.149107   \n",
       "last_purch_age       2240.0                   -1919.696429   \n",
       "Monetary             2240.0                     605.798214   \n",
       "Children             2240.0                       0.950446   \n",
       "\n",
       "                                     min                  25%  \\\n",
       "ID                                   0.0              2828.25   \n",
       "Year_Birth                        1893.0               1959.0   \n",
       "Income                            1730.0              35303.0   \n",
       "Kidhome                              0.0                  0.0   \n",
       "Teenhome                             0.0                  0.0   \n",
       "Dt_Customer          2012-07-30 00:00:00  2013-01-16 00:00:00   \n",
       "Recency                              0.0                 24.0   \n",
       "MntWines                             0.0                23.75   \n",
       "MntFruits                            0.0                  1.0   \n",
       "MntMeatProducts                      0.0                 16.0   \n",
       "MntFishProducts                      0.0                  3.0   \n",
       "MntSweetProducts                     0.0                  1.0   \n",
       "MntGoldProds                         0.0                  9.0   \n",
       "NumDealsPurchases                    0.0                  1.0   \n",
       "NumWebPurchases                      0.0                  2.0   \n",
       "NumCatalogPurchases                  0.0                  0.0   \n",
       "NumStorePurchases                    0.0                  3.0   \n",
       "NumWebVisitsMonth                    0.0                  3.0   \n",
       "AcceptedCmp3                         0.0                  0.0   \n",
       "AcceptedCmp4                         0.0                  0.0   \n",
       "AcceptedCmp5                         0.0                  0.0   \n",
       "AcceptedCmp1                         0.0                  0.0   \n",
       "AcceptedCmp2                         0.0                  0.0   \n",
       "Complain                             0.0                  0.0   \n",
       "Z_CostContact                        3.0                  3.0   \n",
       "Z_Revenue                           11.0                 11.0   \n",
       "Response                             0.0                  0.0   \n",
       "last_purch_age                   -1989.0              -1945.0   \n",
       "Monetary                             5.0                68.75   \n",
       "Children                             0.0                  0.0   \n",
       "\n",
       "                                     50%                  75%  \\\n",
       "ID                                5458.5              8427.75   \n",
       "Year_Birth                        1970.0               1977.0   \n",
       "Income                           51381.5              68522.0   \n",
       "Kidhome                              0.0                  1.0   \n",
       "Teenhome                             0.0                  1.0   \n",
       "Dt_Customer          2013-07-08 12:00:00  2013-12-30 06:00:00   \n",
       "Recency                             49.0                 74.0   \n",
       "MntWines                           173.5               504.25   \n",
       "MntFruits                            8.0                 33.0   \n",
       "MntMeatProducts                     67.0                232.0   \n",
       "MntFishProducts                     12.0                 50.0   \n",
       "MntSweetProducts                     8.0                 33.0   \n",
       "MntGoldProds                        24.0                 56.0   \n",
       "NumDealsPurchases                    2.0                  3.0   \n",
       "NumWebPurchases                      4.0                  6.0   \n",
       "NumCatalogPurchases                  2.0                  4.0   \n",
       "NumStorePurchases                    5.0                  8.0   \n",
       "NumWebVisitsMonth                    6.0                  7.0   \n",
       "AcceptedCmp3                         0.0                  0.0   \n",
       "AcceptedCmp4                         0.0                  0.0   \n",
       "AcceptedCmp5                         0.0                  0.0   \n",
       "AcceptedCmp1                         0.0                  0.0   \n",
       "AcceptedCmp2                         0.0                  0.0   \n",
       "Complain                             0.0                  0.0   \n",
       "Z_CostContact                        3.0                  3.0   \n",
       "Z_Revenue                           11.0                 11.0   \n",
       "Response                             0.0                  0.0   \n",
       "last_purch_age                   -1920.0              -1894.0   \n",
       "Monetary                           396.0               1045.5   \n",
       "Children                             1.0                  1.0   \n",
       "\n",
       "                                     max           std  \n",
       "ID                               11191.0   3246.662198  \n",
       "Year_Birth                        1996.0     11.984069  \n",
       "Income                          666666.0  25173.076661  \n",
       "Kidhome                              2.0      0.538398  \n",
       "Teenhome                             2.0      0.544538  \n",
       "Dt_Customer          2014-06-29 00:00:00           NaN  \n",
       "Recency                             99.0     28.962453  \n",
       "MntWines                          1493.0    336.597393  \n",
       "MntFruits                          199.0     39.773434  \n",
       "MntMeatProducts                   1725.0    225.715373  \n",
       "MntFishProducts                    259.0     54.628979  \n",
       "MntSweetProducts                   263.0     41.280498  \n",
       "MntGoldProds                       362.0     52.167439  \n",
       "NumDealsPurchases                   15.0      1.932238  \n",
       "NumWebPurchases                     27.0      2.778714  \n",
       "NumCatalogPurchases                 28.0      2.923101  \n",
       "NumStorePurchases                   13.0      3.250958  \n",
       "NumWebVisitsMonth                   20.0      2.426645  \n",
       "AcceptedCmp3                         1.0      0.259813  \n",
       "AcceptedCmp4                         1.0      0.262728  \n",
       "AcceptedCmp5                         1.0      0.259813  \n",
       "AcceptedCmp1                         1.0      0.245316  \n",
       "AcceptedCmp2                         1.0      0.114976  \n",
       "Complain                             1.0      0.096391  \n",
       "Z_CostContact                        3.0           0.0  \n",
       "Z_Revenue                           11.0           0.0  \n",
       "Response                             1.0      0.356274  \n",
       "last_purch_age                   -1801.0     31.563201  \n",
       "Monetary                          2525.0    602.249288  \n",
       "Children                             3.0      0.751803  "
      ]
     },
     "execution_count": 10,
     "metadata": {},
     "output_type": "execute_result"
    }
   ],
   "source": [
    "df.describe().T"
   ]
  },
  {
   "cell_type": "code",
   "execution_count": 11,
   "id": "e6c8bd1d",
   "metadata": {
    "execution": {
     "iopub.execute_input": "2023-10-15T18:10:44.904622Z",
     "iopub.status.busy": "2023-10-15T18:10:44.904191Z",
     "iopub.status.idle": "2023-10-15T18:10:44.912686Z",
     "shell.execute_reply": "2023-10-15T18:10:44.910827Z"
    },
    "papermill": {
     "duration": 0.02629,
     "end_time": "2023-10-15T18:10:44.915816",
     "exception": false,
     "start_time": "2023-10-15T18:10:44.889526",
     "status": "completed"
    },
    "tags": []
   },
   "outputs": [],
   "source": [
    "df[\"Frequency\"] = df[\"NumDealsPurchases\"] + df[\"NumWebPurchases\"] + df[\"NumCatalogPurchases\"] + df[\"NumStorePurchases\"]"
   ]
  },
  {
   "cell_type": "code",
   "execution_count": 12,
   "id": "0d5c06b4",
   "metadata": {
    "execution": {
     "iopub.execute_input": "2023-10-15T18:10:44.943038Z",
     "iopub.status.busy": "2023-10-15T18:10:44.942669Z",
     "iopub.status.idle": "2023-10-15T18:10:44.954239Z",
     "shell.execute_reply": "2023-10-15T18:10:44.953408Z"
    },
    "papermill": {
     "duration": 0.028192,
     "end_time": "2023-10-15T18:10:44.956348",
     "exception": false,
     "start_time": "2023-10-15T18:10:44.928156",
     "status": "completed"
    },
    "tags": []
   },
   "outputs": [
    {
     "data": {
      "text/html": [
       "<div>\n",
       "<style scoped>\n",
       "    .dataframe tbody tr th:only-of-type {\n",
       "        vertical-align: middle;\n",
       "    }\n",
       "\n",
       "    .dataframe tbody tr th {\n",
       "        vertical-align: top;\n",
       "    }\n",
       "\n",
       "    .dataframe thead th {\n",
       "        text-align: right;\n",
       "    }\n",
       "</style>\n",
       "<table border=\"1\" class=\"dataframe\">\n",
       "  <thead>\n",
       "    <tr style=\"text-align: right;\">\n",
       "      <th></th>\n",
       "      <th>ID</th>\n",
       "      <th>Recency</th>\n",
       "      <th>Frequency</th>\n",
       "      <th>Monetary</th>\n",
       "    </tr>\n",
       "  </thead>\n",
       "  <tbody>\n",
       "    <tr>\n",
       "      <th>0</th>\n",
       "      <td>5524</td>\n",
       "      <td>58</td>\n",
       "      <td>25</td>\n",
       "      <td>1617</td>\n",
       "    </tr>\n",
       "    <tr>\n",
       "      <th>1</th>\n",
       "      <td>2174</td>\n",
       "      <td>38</td>\n",
       "      <td>6</td>\n",
       "      <td>27</td>\n",
       "    </tr>\n",
       "    <tr>\n",
       "      <th>2</th>\n",
       "      <td>4141</td>\n",
       "      <td>26</td>\n",
       "      <td>21</td>\n",
       "      <td>776</td>\n",
       "    </tr>\n",
       "    <tr>\n",
       "      <th>3</th>\n",
       "      <td>6182</td>\n",
       "      <td>26</td>\n",
       "      <td>8</td>\n",
       "      <td>53</td>\n",
       "    </tr>\n",
       "    <tr>\n",
       "      <th>4</th>\n",
       "      <td>5324</td>\n",
       "      <td>94</td>\n",
       "      <td>19</td>\n",
       "      <td>422</td>\n",
       "    </tr>\n",
       "  </tbody>\n",
       "</table>\n",
       "</div>"
      ],
      "text/plain": [
       "     ID  Recency  Frequency  Monetary\n",
       "0  5524       58         25      1617\n",
       "1  2174       38          6        27\n",
       "2  4141       26         21       776\n",
       "3  6182       26          8        53\n",
       "4  5324       94         19       422"
      ]
     },
     "execution_count": 12,
     "metadata": {},
     "output_type": "execute_result"
    }
   ],
   "source": [
    "rfm = df[[\"ID\", \"Recency\",\"Frequency\",\"Monetary\" ]]\n",
    "rfm.head()"
   ]
  },
  {
   "cell_type": "code",
   "execution_count": 13,
   "id": "73bfdef5",
   "metadata": {
    "execution": {
     "iopub.execute_input": "2023-10-15T18:10:44.987636Z",
     "iopub.status.busy": "2023-10-15T18:10:44.986482Z",
     "iopub.status.idle": "2023-10-15T18:10:44.996406Z",
     "shell.execute_reply": "2023-10-15T18:10:44.994852Z"
    },
    "papermill": {
     "duration": 0.029577,
     "end_time": "2023-10-15T18:10:44.999506",
     "exception": false,
     "start_time": "2023-10-15T18:10:44.969929",
     "status": "completed"
    },
    "tags": []
   },
   "outputs": [],
   "source": [
    "rfm = rfm[rfm[\"Frequency\"] > 0]\n",
    "rfm = rfm[rfm[\"Recency\"] > 0]"
   ]
  },
  {
   "cell_type": "code",
   "execution_count": 14,
   "id": "a2479bb8",
   "metadata": {
    "execution": {
     "iopub.execute_input": "2023-10-15T18:10:45.028040Z",
     "iopub.status.busy": "2023-10-15T18:10:45.027565Z",
     "iopub.status.idle": "2023-10-15T18:10:45.039638Z",
     "shell.execute_reply": "2023-10-15T18:10:45.038660Z"
    },
    "papermill": {
     "duration": 0.029202,
     "end_time": "2023-10-15T18:10:45.041813",
     "exception": false,
     "start_time": "2023-10-15T18:10:45.012611",
     "status": "completed"
    },
    "tags": []
   },
   "outputs": [],
   "source": [
    "rfm[\"recency_score\"] = pd.qcut(rfm['Recency'],5, labels=[5,4,3,2,1])"
   ]
  },
  {
   "cell_type": "code",
   "execution_count": 15,
   "id": "96ba81eb",
   "metadata": {
    "execution": {
     "iopub.execute_input": "2023-10-15T18:10:45.070018Z",
     "iopub.status.busy": "2023-10-15T18:10:45.068694Z",
     "iopub.status.idle": "2023-10-15T18:10:45.077388Z",
     "shell.execute_reply": "2023-10-15T18:10:45.076327Z"
    },
    "papermill": {
     "duration": 0.025776,
     "end_time": "2023-10-15T18:10:45.080006",
     "exception": false,
     "start_time": "2023-10-15T18:10:45.054230",
     "status": "completed"
    },
    "tags": []
   },
   "outputs": [],
   "source": [
    "rfm[\"monetary_score\"] = pd.qcut(rfm['Monetary'],5,labels= [1,2,3,4,5])"
   ]
  },
  {
   "cell_type": "code",
   "execution_count": 16,
   "id": "8de54edd",
   "metadata": {
    "execution": {
     "iopub.execute_input": "2023-10-15T18:10:45.111524Z",
     "iopub.status.busy": "2023-10-15T18:10:45.110337Z",
     "iopub.status.idle": "2023-10-15T18:10:45.126089Z",
     "shell.execute_reply": "2023-10-15T18:10:45.124564Z"
    },
    "papermill": {
     "duration": 0.033099,
     "end_time": "2023-10-15T18:10:45.128980",
     "exception": false,
     "start_time": "2023-10-15T18:10:45.095881",
     "status": "completed"
    },
    "tags": []
   },
   "outputs": [],
   "source": [
    "rfm[\"frequency_score\"]= pd.qcut(rfm['Frequency'].rank(method=\"first\"), 5, labels=[1,2,3,4,5])"
   ]
  },
  {
   "cell_type": "code",
   "execution_count": 17,
   "id": "0d04e8a2",
   "metadata": {
    "execution": {
     "iopub.execute_input": "2023-10-15T18:10:45.157174Z",
     "iopub.status.busy": "2023-10-15T18:10:45.156308Z",
     "iopub.status.idle": "2023-10-15T18:10:45.167426Z",
     "shell.execute_reply": "2023-10-15T18:10:45.166150Z"
    },
    "papermill": {
     "duration": 0.029124,
     "end_time": "2023-10-15T18:10:45.170278",
     "exception": false,
     "start_time": "2023-10-15T18:10:45.141154",
     "status": "completed"
    },
    "tags": []
   },
   "outputs": [],
   "source": [
    "rfm[\"RF_SCORE\"] = (rfm['recency_score'].astype(str) +\n",
    "                    rfm['frequency_score'].astype(str))"
   ]
  },
  {
   "cell_type": "code",
   "execution_count": 18,
   "id": "8e2a9325",
   "metadata": {
    "execution": {
     "iopub.execute_input": "2023-10-15T18:10:45.200511Z",
     "iopub.status.busy": "2023-10-15T18:10:45.200088Z",
     "iopub.status.idle": "2023-10-15T18:10:45.205834Z",
     "shell.execute_reply": "2023-10-15T18:10:45.204425Z"
    },
    "papermill": {
     "duration": 0.023327,
     "end_time": "2023-10-15T18:10:45.208498",
     "exception": false,
     "start_time": "2023-10-15T18:10:45.185171",
     "status": "completed"
    },
    "tags": []
   },
   "outputs": [],
   "source": [
    "seg_map = {\n",
    "    r'[1-2][1-2]': 'hibernating',\n",
    "    r'[1-2][3-4]': 'at_risk',\n",
    "    r'[1-2]5': 'cant_loose',\n",
    "    r'3[1-2]': 'about_to_sleep',\n",
    "    r'33': 'need_attention',\n",
    "    r'[3-4][4-5]': 'loyal_customers',\n",
    "    r'41': 'promising',\n",
    "    r'51': 'new_customers',\n",
    "    r'[4-5][2-3]': 'potential_loyalist',\n",
    "    r'5[4-5]': 'champions',\n",
    "}"
   ]
  },
  {
   "cell_type": "code",
   "execution_count": 19,
   "id": "e9f06008",
   "metadata": {
    "execution": {
     "iopub.execute_input": "2023-10-15T18:10:45.238588Z",
     "iopub.status.busy": "2023-10-15T18:10:45.238185Z",
     "iopub.status.idle": "2023-10-15T18:10:45.278077Z",
     "shell.execute_reply": "2023-10-15T18:10:45.276526Z"
    },
    "papermill": {
     "duration": 0.057855,
     "end_time": "2023-10-15T18:10:45.281357",
     "exception": false,
     "start_time": "2023-10-15T18:10:45.223502",
     "status": "completed"
    },
    "tags": []
   },
   "outputs": [],
   "source": [
    "rfm['segment'] = rfm['RF_SCORE'].replace(seg_map, regex=True)\n"
   ]
  },
  {
   "cell_type": "code",
   "execution_count": 20,
   "id": "8d5483ad",
   "metadata": {
    "execution": {
     "iopub.execute_input": "2023-10-15T18:10:45.307961Z",
     "iopub.status.busy": "2023-10-15T18:10:45.307570Z",
     "iopub.status.idle": "2023-10-15T18:10:45.335484Z",
     "shell.execute_reply": "2023-10-15T18:10:45.334266Z"
    },
    "papermill": {
     "duration": 0.044411,
     "end_time": "2023-10-15T18:10:45.338043",
     "exception": false,
     "start_time": "2023-10-15T18:10:45.293632",
     "status": "completed"
    },
    "tags": []
   },
   "outputs": [
    {
     "data": {
      "text/html": [
       "<div>\n",
       "<style scoped>\n",
       "    .dataframe tbody tr th:only-of-type {\n",
       "        vertical-align: middle;\n",
       "    }\n",
       "\n",
       "    .dataframe tbody tr th {\n",
       "        vertical-align: top;\n",
       "    }\n",
       "\n",
       "    .dataframe thead tr th {\n",
       "        text-align: left;\n",
       "    }\n",
       "\n",
       "    .dataframe thead tr:last-of-type th {\n",
       "        text-align: right;\n",
       "    }\n",
       "</style>\n",
       "<table border=\"1\" class=\"dataframe\">\n",
       "  <thead>\n",
       "    <tr>\n",
       "      <th></th>\n",
       "      <th colspan=\"2\" halign=\"left\">Recency</th>\n",
       "      <th colspan=\"2\" halign=\"left\">Frequency</th>\n",
       "      <th colspan=\"2\" halign=\"left\">Monetary</th>\n",
       "    </tr>\n",
       "    <tr>\n",
       "      <th></th>\n",
       "      <th>mean</th>\n",
       "      <th>count</th>\n",
       "      <th>mean</th>\n",
       "      <th>count</th>\n",
       "      <th>mean</th>\n",
       "      <th>count</th>\n",
       "    </tr>\n",
       "    <tr>\n",
       "      <th>segment</th>\n",
       "      <th></th>\n",
       "      <th></th>\n",
       "      <th></th>\n",
       "      <th></th>\n",
       "      <th></th>\n",
       "      <th></th>\n",
       "    </tr>\n",
       "  </thead>\n",
       "  <tbody>\n",
       "    <tr>\n",
       "      <th>about_to_sleep</th>\n",
       "      <td>50.119048</td>\n",
       "      <td>168</td>\n",
       "      <td>6.934524</td>\n",
       "      <td>168</td>\n",
       "      <td>79.160714</td>\n",
       "      <td>168</td>\n",
       "    </tr>\n",
       "    <tr>\n",
       "      <th>at_risk</th>\n",
       "      <td>78.667560</td>\n",
       "      <td>373</td>\n",
       "      <td>17.380697</td>\n",
       "      <td>373</td>\n",
       "      <td>868.423592</td>\n",
       "      <td>373</td>\n",
       "    </tr>\n",
       "    <tr>\n",
       "      <th>cant_loose</th>\n",
       "      <td>79.819277</td>\n",
       "      <td>166</td>\n",
       "      <td>25.813253</td>\n",
       "      <td>166</td>\n",
       "      <td>1212.903614</td>\n",
       "      <td>166</td>\n",
       "    </tr>\n",
       "    <tr>\n",
       "      <th>champions</th>\n",
       "      <td>10.018072</td>\n",
       "      <td>166</td>\n",
       "      <td>22.885542</td>\n",
       "      <td>166</td>\n",
       "      <td>1094.150602</td>\n",
       "      <td>166</td>\n",
       "    </tr>\n",
       "    <tr>\n",
       "      <th>hibernating</th>\n",
       "      <td>80.145773</td>\n",
       "      <td>343</td>\n",
       "      <td>7.072886</td>\n",
       "      <td>343</td>\n",
       "      <td>84.306122</td>\n",
       "      <td>343</td>\n",
       "    </tr>\n",
       "    <tr>\n",
       "      <th>loyal_customers</th>\n",
       "      <td>40.297753</td>\n",
       "      <td>356</td>\n",
       "      <td>23.011236</td>\n",
       "      <td>356</td>\n",
       "      <td>1109.446629</td>\n",
       "      <td>356</td>\n",
       "    </tr>\n",
       "    <tr>\n",
       "      <th>need_attention</th>\n",
       "      <td>50.552632</td>\n",
       "      <td>76</td>\n",
       "      <td>14.750000</td>\n",
       "      <td>76</td>\n",
       "      <td>579.802632</td>\n",
       "      <td>76</td>\n",
       "    </tr>\n",
       "    <tr>\n",
       "      <th>new_customers</th>\n",
       "      <td>10.362637</td>\n",
       "      <td>91</td>\n",
       "      <td>4.945055</td>\n",
       "      <td>91</td>\n",
       "      <td>42.054945</td>\n",
       "      <td>91</td>\n",
       "    </tr>\n",
       "    <tr>\n",
       "      <th>potential_loyalist</th>\n",
       "      <td>20.114667</td>\n",
       "      <td>375</td>\n",
       "      <td>11.930667</td>\n",
       "      <td>375</td>\n",
       "      <td>397.520000</td>\n",
       "      <td>375</td>\n",
       "    </tr>\n",
       "    <tr>\n",
       "      <th>promising</th>\n",
       "      <td>31.095745</td>\n",
       "      <td>94</td>\n",
       "      <td>5.042553</td>\n",
       "      <td>94</td>\n",
       "      <td>35.404255</td>\n",
       "      <td>94</td>\n",
       "    </tr>\n",
       "  </tbody>\n",
       "</table>\n",
       "</div>"
      ],
      "text/plain": [
       "                      Recency        Frequency           Monetary      \n",
       "                         mean count       mean count         mean count\n",
       "segment                                                                \n",
       "about_to_sleep      50.119048   168   6.934524   168    79.160714   168\n",
       "at_risk             78.667560   373  17.380697   373   868.423592   373\n",
       "cant_loose          79.819277   166  25.813253   166  1212.903614   166\n",
       "champions           10.018072   166  22.885542   166  1094.150602   166\n",
       "hibernating         80.145773   343   7.072886   343    84.306122   343\n",
       "loyal_customers     40.297753   356  23.011236   356  1109.446629   356\n",
       "need_attention      50.552632    76  14.750000    76   579.802632    76\n",
       "new_customers       10.362637    91   4.945055    91    42.054945    91\n",
       "potential_loyalist  20.114667   375  11.930667   375   397.520000   375\n",
       "promising           31.095745    94   5.042553    94    35.404255    94"
      ]
     },
     "execution_count": 20,
     "metadata": {},
     "output_type": "execute_result"
    }
   ],
   "source": [
    "rfm[[\"segment\",\"Recency\",\"Frequency\",\"Monetary\"]]. groupby(\"segment\").agg([\"mean\",\"count\"])"
   ]
  },
  {
   "cell_type": "code",
   "execution_count": 21,
   "id": "2db84751",
   "metadata": {
    "execution": {
     "iopub.execute_input": "2023-10-15T18:10:45.366751Z",
     "iopub.status.busy": "2023-10-15T18:10:45.365678Z",
     "iopub.status.idle": "2023-10-15T18:10:45.384046Z",
     "shell.execute_reply": "2023-10-15T18:10:45.383102Z"
    },
    "papermill": {
     "duration": 0.03507,
     "end_time": "2023-10-15T18:10:45.386254",
     "exception": false,
     "start_time": "2023-10-15T18:10:45.351184",
     "status": "completed"
    },
    "tags": []
   },
   "outputs": [
    {
     "data": {
      "text/html": [
       "<div>\n",
       "<style scoped>\n",
       "    .dataframe tbody tr th:only-of-type {\n",
       "        vertical-align: middle;\n",
       "    }\n",
       "\n",
       "    .dataframe tbody tr th {\n",
       "        vertical-align: top;\n",
       "    }\n",
       "\n",
       "    .dataframe thead tr th {\n",
       "        text-align: left;\n",
       "    }\n",
       "\n",
       "    .dataframe thead tr:last-of-type th {\n",
       "        text-align: right;\n",
       "    }\n",
       "</style>\n",
       "<table border=\"1\" class=\"dataframe\">\n",
       "  <thead>\n",
       "    <tr>\n",
       "      <th></th>\n",
       "      <th>RF_SCORE</th>\n",
       "    </tr>\n",
       "    <tr>\n",
       "      <th></th>\n",
       "      <th>count</th>\n",
       "    </tr>\n",
       "    <tr>\n",
       "      <th>segment</th>\n",
       "      <th></th>\n",
       "    </tr>\n",
       "  </thead>\n",
       "  <tbody>\n",
       "    <tr>\n",
       "      <th>about_to_sleep</th>\n",
       "      <td>168</td>\n",
       "    </tr>\n",
       "    <tr>\n",
       "      <th>at_risk</th>\n",
       "      <td>373</td>\n",
       "    </tr>\n",
       "    <tr>\n",
       "      <th>cant_loose</th>\n",
       "      <td>166</td>\n",
       "    </tr>\n",
       "    <tr>\n",
       "      <th>champions</th>\n",
       "      <td>166</td>\n",
       "    </tr>\n",
       "    <tr>\n",
       "      <th>hibernating</th>\n",
       "      <td>343</td>\n",
       "    </tr>\n",
       "    <tr>\n",
       "      <th>loyal_customers</th>\n",
       "      <td>356</td>\n",
       "    </tr>\n",
       "    <tr>\n",
       "      <th>need_attention</th>\n",
       "      <td>76</td>\n",
       "    </tr>\n",
       "    <tr>\n",
       "      <th>new_customers</th>\n",
       "      <td>91</td>\n",
       "    </tr>\n",
       "    <tr>\n",
       "      <th>potential_loyalist</th>\n",
       "      <td>375</td>\n",
       "    </tr>\n",
       "    <tr>\n",
       "      <th>promising</th>\n",
       "      <td>94</td>\n",
       "    </tr>\n",
       "  </tbody>\n",
       "</table>\n",
       "</div>"
      ],
      "text/plain": [
       "                   RF_SCORE\n",
       "                      count\n",
       "segment                    \n",
       "about_to_sleep          168\n",
       "at_risk                 373\n",
       "cant_loose              166\n",
       "champions               166\n",
       "hibernating             343\n",
       "loyal_customers         356\n",
       "need_attention           76\n",
       "new_customers            91\n",
       "potential_loyalist      375\n",
       "promising                94"
      ]
     },
     "execution_count": 21,
     "metadata": {},
     "output_type": "execute_result"
    }
   ],
   "source": [
    "rfm[[\"segment\",\"RF_SCORE\"]]. groupby(\"segment\").agg([\"count\"])"
   ]
  },
  {
   "cell_type": "markdown",
   "id": "4f813ee6",
   "metadata": {
    "papermill": {
     "duration": 0.013562,
     "end_time": "2023-10-15T18:10:45.412615",
     "exception": false,
     "start_time": "2023-10-15T18:10:45.399053",
     "status": "completed"
    },
    "tags": []
   },
   "source": [
    "<div style=\"border-radius:10px; border:#DEB887 solid; padding: 15px; background-color: #FFFAF0; font-size:100%; text-align:left\">\n",
    "\n",
    "<h3 align=\"left\"><font color='#DEB887'>💡 Notes:</font></h3>\n",
    "    \n",
    "1. **About_to_sleep** : Encourage customers in this segment to re-engage by implementing stimulating campaigns. Special offers, discounts, or loyalty programs could be utilized to regain their interest.\n",
    "2. **At_risk** : Since customers in this segment are at risk of attrition, special offers or discounts can be provided to win them back. Additionally, personalized services can be offered to enhance customer satisfaction.\n",
    "3.**Cant_loose** : Customers in this segment may have demonstrated loyalty. Thus, you can strengthen their loyalty by offering loyalty programs or special privileges to reward them for their commitment.\n",
    "4. **Champions** : Customer loyalty is high in this segment. Retain their loyalty by offering special deals or loyalty programs. Additionally, consider their feedback to improve your products or services.\n",
    "5. **Hibernating** : Implement stimulating campaigns to regain the interest of customers in this segment. Strategies such as sending personalized offers or reminders could be utilized.\n",
    "6. **Loyal_customers** : Customers in this segment exhibit high loyalty. Offer them exclusive deals or privileges to strengthen their commitment. Additionally, gather their recommendations and feedback to enhance service quality.\n",
    "7. **Need_attention** : Attract the attention of customers in this segment by providing personalized offers or services. Ensuring excellent customer support is vital to enhance customer satisfaction.\n",
    "8. **New_customers** : Welcome these customers with welcome offers or discounts to establish their loyalty. Additionally, gather their feedback to improve your products or services.\n",
    "9. **Potential_loyalist** : Offer personalized deals or exclusive privileges to enhance the loyalty of customers in this segment. Regular interaction is crucial to increase brand awareness.\n",
    "\n",
    "10. **Promising** : Attract the interest of customers in this segment by implementing special offers or campaigns. Providing a good customer experience is essential to enhance customer satisfaction."
   ]
  },
  {
   "attachments": {
    "5f70c0ca-9841-4e47-8882-a37c74a8d85a.png": {
     "image/png": "[encoded data removed]"
    }
   },
   "cell_type": "markdown",
   "id": "9e287a4d",
   "metadata": {
    "papermill": {
     "duration": 0.014337,
     "end_time": "2023-10-15T18:10:45.441200",
     "exception": false,
     "start_time": "2023-10-15T18:10:45.426863",
     "status": "completed"
    },
    "tags": []
   },
   "source": [
    "### <p style=\"font-family:JetBrains Mono; font-weight:bold; letter-spacing: 2px; color:#8581B8; font-size:140%; text-align:center;padding: 0px; border-bottom: 3px solid\">RF Table</p>\n",
    "# **<center> <img src=https://i.imgur.com/MYgXofm.png> <img> </center>**"
   ]
  },
  {
   "cell_type": "markdown",
   "id": "40769bd3",
   "metadata": {
    "papermill": {
     "duration": 0.012508,
     "end_time": "2023-10-15T18:10:45.467647",
     "exception": false,
     "start_time": "2023-10-15T18:10:45.455139",
     "status": "completed"
    },
    "tags": []
   },
   "source": [
    "# <p style=\"padding:10px;background-color:orange;margin:0;color:black;font-family:newtimeroman;font-size:100%;text-align:center;border-radius: 15px 50px;overflow:hidden;font-weight:500\">Cltv Prediction</p>"
   ]
  },
  {
   "cell_type": "code",
   "execution_count": 22,
   "id": "1f6ab5ab",
   "metadata": {
    "execution": {
     "iopub.execute_input": "2023-10-15T18:10:45.497468Z",
     "iopub.status.busy": "2023-10-15T18:10:45.496752Z",
     "iopub.status.idle": "2023-10-15T18:10:45.503949Z",
     "shell.execute_reply": "2023-10-15T18:10:45.502682Z"
    },
    "papermill": {
     "duration": 0.025146,
     "end_time": "2023-10-15T18:10:45.506532",
     "exception": false,
     "start_time": "2023-10-15T18:10:45.481386",
     "status": "completed"
    },
    "tags": []
   },
   "outputs": [],
   "source": [
    "df_ = df.copy()"
   ]
  },
  {
   "cell_type": "code",
   "execution_count": 23,
   "id": "af70d3d8",
   "metadata": {
    "execution": {
     "iopub.execute_input": "2023-10-15T18:10:45.535626Z",
     "iopub.status.busy": "2023-10-15T18:10:45.534858Z",
     "iopub.status.idle": "2023-10-15T18:10:45.541092Z",
     "shell.execute_reply": "2023-10-15T18:10:45.539849Z"
    },
    "papermill": {
     "duration": 0.02368,
     "end_time": "2023-10-15T18:10:45.543564",
     "exception": false,
     "start_time": "2023-10-15T18:10:45.519884",
     "status": "completed"
    },
    "tags": []
   },
   "outputs": [],
   "source": [
    "def outlier_thresholds(dataframe,variable):\n",
    "    quartile1 = dataframe[variable].quantile(0.25)\n",
    "    quartile3 = dataframe[variable].quantile(0.75)\n",
    "    interquantile_range = quartile3 - quartile1\n",
    "    up_limit = quartile3 +1.5 * interquantile_range\n",
    "    low_limit= quartile1 - 1.5 * interquantile_range\n",
    "    return round(low_limit), round(up_limit)"
   ]
  },
  {
   "cell_type": "code",
   "execution_count": 24,
   "id": "c177c9cb",
   "metadata": {
    "execution": {
     "iopub.execute_input": "2023-10-15T18:10:45.575428Z",
     "iopub.status.busy": "2023-10-15T18:10:45.575007Z",
     "iopub.status.idle": "2023-10-15T18:10:45.580811Z",
     "shell.execute_reply": "2023-10-15T18:10:45.579839Z"
    },
    "papermill": {
     "duration": 0.024151,
     "end_time": "2023-10-15T18:10:45.583228",
     "exception": false,
     "start_time": "2023-10-15T18:10:45.559077",
     "status": "completed"
    },
    "tags": []
   },
   "outputs": [],
   "source": [
    "def replace_with_thresholds(dataframe, variable):\n",
    "    low_limit, up_limit = outlier_thresholds(dataframe,variable)\n",
    "    dataframe.loc[(dataframe[variable] < low_limit), variable] = low_limit\n",
    "    dataframe.loc[(dataframe[variable] > up_limit), variable]  = up_limit"
   ]
  },
  {
   "cell_type": "code",
   "execution_count": 25,
   "id": "1106cc59",
   "metadata": {
    "execution": {
     "iopub.execute_input": "2023-10-15T18:10:45.612374Z",
     "iopub.status.busy": "2023-10-15T18:10:45.611818Z",
     "iopub.status.idle": "2023-10-15T18:10:45.621287Z",
     "shell.execute_reply": "2023-10-15T18:10:45.619896Z"
    },
    "papermill": {
     "duration": 0.027325,
     "end_time": "2023-10-15T18:10:45.624153",
     "exception": false,
     "start_time": "2023-10-15T18:10:45.596828",
     "status": "completed"
    },
    "tags": []
   },
   "outputs": [],
   "source": [
    "#taking outliers on frequency\n",
    "replace_with_thresholds(df_,\"Frequency\")"
   ]
  },
  {
   "cell_type": "code",
   "execution_count": 26,
   "id": "61c9f861",
   "metadata": {
    "execution": {
     "iopub.execute_input": "2023-10-15T18:10:45.654392Z",
     "iopub.status.busy": "2023-10-15T18:10:45.652938Z",
     "iopub.status.idle": "2023-10-15T18:10:45.667346Z",
     "shell.execute_reply": "2023-10-15T18:10:45.666058Z"
    },
    "papermill": {
     "duration": 0.032827,
     "end_time": "2023-10-15T18:10:45.670342",
     "exception": false,
     "start_time": "2023-10-15T18:10:45.637515",
     "status": "completed"
    },
    "tags": []
   },
   "outputs": [],
   "source": [
    "#making last_order_date colunm as a datetime \n",
    "import datetime as dt \n",
    "df_[\"last_order_date\"] = pd.to_datetime(-df[\"Recency\"],unit= \"D\", origin=dt.datetime(2014,10,4))"
   ]
  },
  {
   "cell_type": "code",
   "execution_count": 27,
   "id": "790d5638",
   "metadata": {
    "execution": {
     "iopub.execute_input": "2023-10-15T18:10:45.700918Z",
     "iopub.status.busy": "2023-10-15T18:10:45.700544Z",
     "iopub.status.idle": "2023-10-15T18:10:45.714236Z",
     "shell.execute_reply": "2023-10-15T18:10:45.712995Z"
    },
    "papermill": {
     "duration": 0.032091,
     "end_time": "2023-10-15T18:10:45.717131",
     "exception": false,
     "start_time": "2023-10-15T18:10:45.685040",
     "status": "completed"
    },
    "tags": []
   },
   "outputs": [],
   "source": [
    "#building cltv dataframe\n",
    "cltv = pd.DataFrame()\n",
    "cltv[\"Recency_weekly\"] = (df_[\"last_order_date\"] - df_[\"Dt_Customer\"]).dt.days // 7\n",
    "cltv[\"T_weekly\"] = (dt.datetime(2014,10, 4) - df_[\"Dt_Customer\"]).dt.days // 7\n",
    "cltv[\"frequency\"] = df_[\"Frequency\"]\n",
    "cltv[\"monetary_avg\"] = df_[\"Monetary\"] // df_[\"Frequency\"]\n",
    "cltv.index = df_[\"ID\"]"
   ]
  },
  {
   "cell_type": "code",
   "execution_count": 28,
   "id": "8d1850fd",
   "metadata": {
    "execution": {
     "iopub.execute_input": "2023-10-15T18:10:45.747184Z",
     "iopub.status.busy": "2023-10-15T18:10:45.746859Z",
     "iopub.status.idle": "2023-10-15T18:10:45.754402Z",
     "shell.execute_reply": "2023-10-15T18:10:45.753561Z"
    },
    "papermill": {
     "duration": 0.026112,
     "end_time": "2023-10-15T18:10:45.756934",
     "exception": false,
     "start_time": "2023-10-15T18:10:45.730822",
     "status": "completed"
    },
    "tags": []
   },
   "outputs": [],
   "source": [
    "#taking outliers on monetary avb\n",
    "replace_with_thresholds(cltv,\"monetary_avg\")"
   ]
  },
  {
   "cell_type": "code",
   "execution_count": 29,
   "id": "8149d65d",
   "metadata": {
    "execution": {
     "iopub.execute_input": "2023-10-15T18:10:45.790112Z",
     "iopub.status.busy": "2023-10-15T18:10:45.789110Z",
     "iopub.status.idle": "2023-10-15T18:10:45.798809Z",
     "shell.execute_reply": "2023-10-15T18:10:45.796592Z"
    },
    "papermill": {
     "duration": 0.0325,
     "end_time": "2023-10-15T18:10:45.804319",
     "exception": false,
     "start_time": "2023-10-15T18:10:45.771819",
     "status": "completed"
    },
    "tags": []
   },
   "outputs": [],
   "source": [
    "cltv = cltv[cltv[\"frequency\"] > 1]\n",
    "cltv = cltv[cltv[\"monetary_avg\"] > 1]"
   ]
  },
  {
   "cell_type": "code",
   "execution_count": 30,
   "id": "2bf191d1",
   "metadata": {
    "execution": {
     "iopub.execute_input": "2023-10-15T18:10:45.835210Z",
     "iopub.status.busy": "2023-10-15T18:10:45.834015Z",
     "iopub.status.idle": "2023-10-15T18:10:48.023908Z",
     "shell.execute_reply": "2023-10-15T18:10:48.022013Z"
    },
    "papermill": {
     "duration": 2.208618,
     "end_time": "2023-10-15T18:10:48.027234",
     "exception": false,
     "start_time": "2023-10-15T18:10:45.818616",
     "status": "completed"
    },
    "tags": []
   },
   "outputs": [
    {
     "data": {
      "image/png": "[encoded data removed]",
      "text/plain": [
       "<Figure size 1000x1000 with 2 Axes>"
      ]
     },
     "metadata": {},
     "output_type": "display_data"
    }
   ],
   "source": [
    "import matplotlib.pyplot as plt\n",
    "import seaborn as sns\n",
    "\n",
    "plt.figure(figsize=(10,10))\n",
    "plt.subplot(2,2,1)\n",
    "sns.boxplot(y=\"monetary_avg\", data=cltv,palette=\"pastel\");\n",
    "plt.subplot(2,2,2)\n",
    "sns.boxplot(y=\"frequency\", data=cltv,palette=\"pastel\");"
   ]
  },
  {
   "cell_type": "code",
   "execution_count": 31,
   "id": "aabf6249",
   "metadata": {
    "execution": {
     "iopub.execute_input": "2023-10-15T18:10:48.058065Z",
     "iopub.status.busy": "2023-10-15T18:10:48.056893Z",
     "iopub.status.idle": "2023-10-15T18:10:48.087769Z",
     "shell.execute_reply": "2023-10-15T18:10:48.086412Z"
    },
    "papermill": {
     "duration": 0.049311,
     "end_time": "2023-10-15T18:10:48.090294",
     "exception": false,
     "start_time": "2023-10-15T18:10:48.040983",
     "status": "completed"
    },
    "tags": []
   },
   "outputs": [
    {
     "data": {
      "text/html": [
       "<div>\n",
       "<style scoped>\n",
       "    .dataframe tbody tr th:only-of-type {\n",
       "        vertical-align: middle;\n",
       "    }\n",
       "\n",
       "    .dataframe tbody tr th {\n",
       "        vertical-align: top;\n",
       "    }\n",
       "\n",
       "    .dataframe thead th {\n",
       "        text-align: right;\n",
       "    }\n",
       "</style>\n",
       "<table border=\"1\" class=\"dataframe\">\n",
       "  <thead>\n",
       "    <tr style=\"text-align: right;\">\n",
       "      <th></th>\n",
       "      <th>count</th>\n",
       "      <th>mean</th>\n",
       "      <th>std</th>\n",
       "      <th>min</th>\n",
       "      <th>1%</th>\n",
       "      <th>50%</th>\n",
       "      <th>99%</th>\n",
       "      <th>max</th>\n",
       "    </tr>\n",
       "  </thead>\n",
       "  <tbody>\n",
       "    <tr>\n",
       "      <th>Recency_weekly</th>\n",
       "      <td>2230.0</td>\n",
       "      <td>56.977130</td>\n",
       "      <td>29.044140</td>\n",
       "      <td>0.0</td>\n",
       "      <td>5.0</td>\n",
       "      <td>57.0</td>\n",
       "      <td>107.0</td>\n",
       "      <td>113.0</td>\n",
       "    </tr>\n",
       "    <tr>\n",
       "      <th>T_weekly</th>\n",
       "      <td>2230.0</td>\n",
       "      <td>63.983857</td>\n",
       "      <td>28.873709</td>\n",
       "      <td>13.0</td>\n",
       "      <td>14.0</td>\n",
       "      <td>64.0</td>\n",
       "      <td>112.0</td>\n",
       "      <td>113.0</td>\n",
       "    </tr>\n",
       "    <tr>\n",
       "      <th>frequency</th>\n",
       "      <td>2230.0</td>\n",
       "      <td>14.910314</td>\n",
       "      <td>7.634837</td>\n",
       "      <td>2.0</td>\n",
       "      <td>4.0</td>\n",
       "      <td>15.0</td>\n",
       "      <td>32.0</td>\n",
       "      <td>40.0</td>\n",
       "    </tr>\n",
       "    <tr>\n",
       "      <th>monetary_avg</th>\n",
       "      <td>2230.0</td>\n",
       "      <td>31.548879</td>\n",
       "      <td>26.833369</td>\n",
       "      <td>2.0</td>\n",
       "      <td>3.0</td>\n",
       "      <td>23.0</td>\n",
       "      <td>99.0</td>\n",
       "      <td>99.0</td>\n",
       "    </tr>\n",
       "  </tbody>\n",
       "</table>\n",
       "</div>"
      ],
      "text/plain": [
       "                 count       mean        std   min    1%   50%    99%    max\n",
       "Recency_weekly  2230.0  56.977130  29.044140   0.0   5.0  57.0  107.0  113.0\n",
       "T_weekly        2230.0  63.983857  28.873709  13.0  14.0  64.0  112.0  113.0\n",
       "frequency       2230.0  14.910314   7.634837   2.0   4.0  15.0   32.0   40.0\n",
       "monetary_avg    2230.0  31.548879  26.833369   2.0   3.0  23.0   99.0   99.0"
      ]
     },
     "execution_count": 31,
     "metadata": {},
     "output_type": "execute_result"
    }
   ],
   "source": [
    "cltv.describe([0.01,0.99]).T"
   ]
  },
  {
   "cell_type": "code",
   "execution_count": 32,
   "id": "db53b204",
   "metadata": {
    "execution": {
     "iopub.execute_input": "2023-10-15T18:10:48.122350Z",
     "iopub.status.busy": "2023-10-15T18:10:48.121480Z",
     "iopub.status.idle": "2023-10-15T18:11:01.524619Z",
     "shell.execute_reply": "2023-10-15T18:11:01.522943Z"
    },
    "papermill": {
     "duration": 13.422824,
     "end_time": "2023-10-15T18:11:01.527461",
     "exception": false,
     "start_time": "2023-10-15T18:10:48.104637",
     "status": "completed"
    },
    "tags": []
   },
   "outputs": [
    {
     "name": "stdout",
     "output_type": "stream",
     "text": [
      "Collecting lifetimes\r\n",
      "  Downloading Lifetimes-0.11.3-py3-none-any.whl (584 kB)\r\n",
      "\u001b[2K     \u001b[90m━━━━━━━━━━━━━━━━━━━━━━━━━━━━━━━━━━━━━━━\u001b[0m \u001b[32m584.2/584.2 kB\u001b[0m \u001b[31m9.3 MB/s\u001b[0m eta \u001b[36m0:00:00\u001b[0m\r\n",
      "\u001b[?25hRequirement already satisfied: numpy>=1.10.0 in /opt/conda/lib/python3.10/site-packages (from lifetimes) (1.23.5)\r\n",
      "Requirement already satisfied: scipy>=1.0.0 in /opt/conda/lib/python3.10/site-packages (from lifetimes) (1.11.2)\r\n",
      "Requirement already satisfied: pandas>=0.24.0 in /opt/conda/lib/python3.10/site-packages (from lifetimes) (2.0.3)\r\n",
      "Collecting autograd>=1.2.0 (from lifetimes)\r\n",
      "  Downloading autograd-1.6.2-py3-none-any.whl (49 kB)\r\n",
      "\u001b[2K     \u001b[90m━━━━━━━━━━━━━━━━━━━━━━━━━━━━━━━━━━━━━━━━\u001b[0m \u001b[32m49.3/49.3 kB\u001b[0m \u001b[31m2.7 MB/s\u001b[0m eta \u001b[36m0:00:00\u001b[0m\r\n",
      "\u001b[?25hRequirement already satisfied: dill>=0.2.6 in /opt/conda/lib/python3.10/site-packages (from lifetimes) (0.3.7)\r\n",
      "Requirement already satisfied: future>=0.15.2 in /opt/conda/lib/python3.10/site-packages (from autograd>=1.2.0->lifetimes) (0.18.3)\r\n",
      "Requirement already satisfied: python-dateutil>=2.8.2 in /opt/conda/lib/python3.10/site-packages (from pandas>=0.24.0->lifetimes) (2.8.2)\r\n",
      "Requirement already satisfied: pytz>=2020.1 in /opt/conda/lib/python3.10/site-packages (from pandas>=0.24.0->lifetimes) (2023.3)\r\n",
      "Requirement already satisfied: tzdata>=2022.1 in /opt/conda/lib/python3.10/site-packages (from pandas>=0.24.0->lifetimes) (2023.3)\r\n",
      "Requirement already satisfied: six>=1.5 in /opt/conda/lib/python3.10/site-packages (from python-dateutil>=2.8.2->pandas>=0.24.0->lifetimes) (1.16.0)\r\n",
      "Installing collected packages: autograd, lifetimes\r\n",
      "Successfully installed autograd-1.6.2 lifetimes-0.11.3\r\n"
     ]
    }
   ],
   "source": [
    "!pip install lifetimes"
   ]
  },
  {
   "cell_type": "code",
   "execution_count": 33,
   "id": "1648c80d",
   "metadata": {
    "execution": {
     "iopub.execute_input": "2023-10-15T18:11:01.559488Z",
     "iopub.status.busy": "2023-10-15T18:11:01.559088Z",
     "iopub.status.idle": "2023-10-15T18:11:01.797569Z",
     "shell.execute_reply": "2023-10-15T18:11:01.796087Z"
    },
    "papermill": {
     "duration": 0.259268,
     "end_time": "2023-10-15T18:11:01.801681",
     "exception": false,
     "start_time": "2023-10-15T18:11:01.542413",
     "status": "completed"
    },
    "tags": []
   },
   "outputs": [
    {
     "data": {
      "text/plain": [
       "<lifetimes.BetaGeoFitter: fitted with 2230 subjects, a: 0.08, alpha: 5.10, b: 4.36, r: 1.68>"
      ]
     },
     "execution_count": 33,
     "metadata": {},
     "output_type": "execute_result"
    }
   ],
   "source": [
    "from lifetimes import BetaGeoFitter\n",
    "bgf = BetaGeoFitter(penalizer_coef=0.001)\n",
    "\n",
    "bgf.fit(cltv['frequency'],\n",
    "        cltv['Recency_weekly'],\n",
    "        cltv['T_weekly'])"
   ]
  },
  {
   "cell_type": "code",
   "execution_count": 34,
   "id": "02657a3d",
   "metadata": {
    "execution": {
     "iopub.execute_input": "2023-10-15T18:11:01.891542Z",
     "iopub.status.busy": "2023-10-15T18:11:01.889909Z",
     "iopub.status.idle": "2023-10-15T18:11:01.917154Z",
     "shell.execute_reply": "2023-10-15T18:11:01.916224Z"
    },
    "papermill": {
     "duration": 0.077072,
     "end_time": "2023-10-15T18:11:01.919886",
     "exception": false,
     "start_time": "2023-10-15T18:11:01.842814",
     "status": "completed"
    },
    "tags": []
   },
   "outputs": [],
   "source": [
    "cltv[\"expected_sales_3_month\"] = bgf.predict(4* 3,\n",
    "                cltv['frequency'],\n",
    "                cltv['Recency_weekly'],\n",
    "                cltv['T_weekly'])"
   ]
  },
  {
   "cell_type": "code",
   "execution_count": 35,
   "id": "c47d3751",
   "metadata": {
    "execution": {
     "iopub.execute_input": "2023-10-15T18:11:01.952245Z",
     "iopub.status.busy": "2023-10-15T18:11:01.951128Z",
     "iopub.status.idle": "2023-10-15T18:11:01.961611Z",
     "shell.execute_reply": "2023-10-15T18:11:01.960544Z"
    },
    "papermill": {
     "duration": 0.028891,
     "end_time": "2023-10-15T18:11:01.963904",
     "exception": false,
     "start_time": "2023-10-15T18:11:01.935013",
     "status": "completed"
    },
    "tags": []
   },
   "outputs": [
    {
     "data": {
      "text/plain": [
       "ID\n",
       "4619     14.505768\n",
       "6892     13.232398\n",
       "4828     12.822546\n",
       "1        11.483398\n",
       "9369     11.415210\n",
       "10846    11.133722\n",
       "1446     11.094636\n",
       "6815     11.012871\n",
       "10102    10.893713\n",
       "4399     10.844496\n",
       "Name: expected_sales_3_month, dtype: float64"
      ]
     },
     "execution_count": 35,
     "metadata": {},
     "output_type": "execute_result"
    }
   ],
   "source": [
    "cltv[\"expected_sales_3_month\"].sort_values(ascending=False).head(10)"
   ]
  },
  {
   "cell_type": "code",
   "execution_count": 36,
   "id": "764da7b6",
   "metadata": {
    "execution": {
     "iopub.execute_input": "2023-10-15T18:11:01.995378Z",
     "iopub.status.busy": "2023-10-15T18:11:01.994543Z",
     "iopub.status.idle": "2023-10-15T18:11:02.056930Z",
     "shell.execute_reply": "2023-10-15T18:11:02.054910Z"
    },
    "papermill": {
     "duration": 0.084531,
     "end_time": "2023-10-15T18:11:02.062697",
     "exception": false,
     "start_time": "2023-10-15T18:11:01.978166",
     "status": "completed"
    },
    "tags": []
   },
   "outputs": [
    {
     "data": {
      "text/plain": [
       "<lifetimes.GammaGammaFitter: fitted with 2230 subjects, p: 3.00, q: 0.84, v: 2.98>"
      ]
     },
     "execution_count": 36,
     "metadata": {},
     "output_type": "execute_result"
    }
   ],
   "source": [
    "from lifetimes import GammaGammaFitter\n",
    "ggf = GammaGammaFitter(penalizer_coef=0.01)\n",
    "ggf.fit(cltv['frequency'], cltv['monetary_avg'])"
   ]
  },
  {
   "cell_type": "code",
   "execution_count": 37,
   "id": "b4f5689d",
   "metadata": {
    "execution": {
     "iopub.execute_input": "2023-10-15T18:11:02.149699Z",
     "iopub.status.busy": "2023-10-15T18:11:02.148230Z",
     "iopub.status.idle": "2023-10-15T18:11:02.164145Z",
     "shell.execute_reply": "2023-10-15T18:11:02.162637Z"
    },
    "papermill": {
     "duration": 0.063137,
     "end_time": "2023-10-15T18:11:02.168031",
     "exception": false,
     "start_time": "2023-10-15T18:11:02.104894",
     "status": "completed"
    },
    "tags": []
   },
   "outputs": [],
   "source": [
    "cltv[\"expected_average_profit\"] = ggf.conditional_expected_average_profit(cltv['frequency'],\n",
    "                                        cltv['monetary_avg'])"
   ]
  },
  {
   "cell_type": "code",
   "execution_count": 38,
   "id": "352f5c14",
   "metadata": {
    "execution": {
     "iopub.execute_input": "2023-10-15T18:11:02.200550Z",
     "iopub.status.busy": "2023-10-15T18:11:02.199623Z",
     "iopub.status.idle": "2023-10-15T18:11:02.215388Z",
     "shell.execute_reply": "2023-10-15T18:11:02.213543Z"
    },
    "papermill": {
     "duration": 0.034572,
     "end_time": "2023-10-15T18:11:02.217936",
     "exception": false,
     "start_time": "2023-10-15T18:11:02.183364",
     "status": "completed"
    },
    "tags": []
   },
   "outputs": [
    {
     "data": {
      "text/html": [
       "<div>\n",
       "<style scoped>\n",
       "    .dataframe tbody tr th:only-of-type {\n",
       "        vertical-align: middle;\n",
       "    }\n",
       "\n",
       "    .dataframe tbody tr th {\n",
       "        vertical-align: top;\n",
       "    }\n",
       "\n",
       "    .dataframe thead th {\n",
       "        text-align: right;\n",
       "    }\n",
       "</style>\n",
       "<table border=\"1\" class=\"dataframe\">\n",
       "  <thead>\n",
       "    <tr style=\"text-align: right;\">\n",
       "      <th></th>\n",
       "      <th>Recency_weekly</th>\n",
       "      <th>T_weekly</th>\n",
       "      <th>frequency</th>\n",
       "      <th>monetary_avg</th>\n",
       "      <th>expected_sales_3_month</th>\n",
       "      <th>expected_average_profit</th>\n",
       "    </tr>\n",
       "    <tr>\n",
       "      <th>ID</th>\n",
       "      <th></th>\n",
       "      <th></th>\n",
       "      <th></th>\n",
       "      <th></th>\n",
       "      <th></th>\n",
       "      <th></th>\n",
       "    </tr>\n",
       "  </thead>\n",
       "  <tbody>\n",
       "    <tr>\n",
       "      <th>4246</th>\n",
       "      <td>42</td>\n",
       "      <td>42</td>\n",
       "      <td>2</td>\n",
       "      <td>99.0</td>\n",
       "      <td>0.916803</td>\n",
       "      <td>103.312659</td>\n",
       "    </tr>\n",
       "    <tr>\n",
       "      <th>3422</th>\n",
       "      <td>86</td>\n",
       "      <td>96</td>\n",
       "      <td>10</td>\n",
       "      <td>99.0</td>\n",
       "      <td>1.352851</td>\n",
       "      <td>99.843572</td>\n",
       "    </tr>\n",
       "    <tr>\n",
       "      <th>10479</th>\n",
       "      <td>86</td>\n",
       "      <td>95</td>\n",
       "      <td>11</td>\n",
       "      <td>99.0</td>\n",
       "      <td>1.485926</td>\n",
       "      <td>99.766501</td>\n",
       "    </tr>\n",
       "    <tr>\n",
       "      <th>7959</th>\n",
       "      <td>15</td>\n",
       "      <td>18</td>\n",
       "      <td>11</td>\n",
       "      <td>99.0</td>\n",
       "      <td>6.273400</td>\n",
       "      <td>99.766501</td>\n",
       "    </tr>\n",
       "    <tr>\n",
       "      <th>10513</th>\n",
       "      <td>79</td>\n",
       "      <td>88</td>\n",
       "      <td>12</td>\n",
       "      <td>99.0</td>\n",
       "      <td>1.718756</td>\n",
       "      <td>99.702334</td>\n",
       "    </tr>\n",
       "    <tr>\n",
       "      <th>7962</th>\n",
       "      <td>51</td>\n",
       "      <td>51</td>\n",
       "      <td>12</td>\n",
       "      <td>99.0</td>\n",
       "      <td>2.889431</td>\n",
       "      <td>99.702334</td>\n",
       "    </tr>\n",
       "    <tr>\n",
       "      <th>1173</th>\n",
       "      <td>71</td>\n",
       "      <td>81</td>\n",
       "      <td>13</td>\n",
       "      <td>99.0</td>\n",
       "      <td>1.975910</td>\n",
       "      <td>99.648080</td>\n",
       "    </tr>\n",
       "    <tr>\n",
       "      <th>9606</th>\n",
       "      <td>48</td>\n",
       "      <td>57</td>\n",
       "      <td>13</td>\n",
       "      <td>99.0</td>\n",
       "      <td>2.685186</td>\n",
       "      <td>99.648080</td>\n",
       "    </tr>\n",
       "    <tr>\n",
       "      <th>2532</th>\n",
       "      <td>17</td>\n",
       "      <td>31</td>\n",
       "      <td>13</td>\n",
       "      <td>99.0</td>\n",
       "      <td>0.630463</td>\n",
       "      <td>99.648080</td>\n",
       "    </tr>\n",
       "    <tr>\n",
       "      <th>3507</th>\n",
       "      <td>104</td>\n",
       "      <td>111</td>\n",
       "      <td>14</td>\n",
       "      <td>99.0</td>\n",
       "      <td>1.594850</td>\n",
       "      <td>99.601607</td>\n",
       "    </tr>\n",
       "  </tbody>\n",
       "</table>\n",
       "</div>"
      ],
      "text/plain": [
       "       Recency_weekly  T_weekly  frequency  monetary_avg  \\\n",
       "ID                                                         \n",
       "4246               42        42          2          99.0   \n",
       "3422               86        96         10          99.0   \n",
       "10479              86        95         11          99.0   \n",
       "7959               15        18         11          99.0   \n",
       "10513              79        88         12          99.0   \n",
       "7962               51        51         12          99.0   \n",
       "1173               71        81         13          99.0   \n",
       "9606               48        57         13          99.0   \n",
       "2532               17        31         13          99.0   \n",
       "3507              104       111         14          99.0   \n",
       "\n",
       "       expected_sales_3_month  expected_average_profit  \n",
       "ID                                                      \n",
       "4246                 0.916803               103.312659  \n",
       "3422                 1.352851                99.843572  \n",
       "10479                1.485926                99.766501  \n",
       "7959                 6.273400                99.766501  \n",
       "10513                1.718756                99.702334  \n",
       "7962                 2.889431                99.702334  \n",
       "1173                 1.975910                99.648080  \n",
       "9606                 2.685186                99.648080  \n",
       "2532                 0.630463                99.648080  \n",
       "3507                 1.594850                99.601607  "
      ]
     },
     "execution_count": 38,
     "metadata": {},
     "output_type": "execute_result"
    }
   ],
   "source": [
    "cltv.sort_values(\"expected_average_profit\", ascending=False).head(10)"
   ]
  },
  {
   "cell_type": "code",
   "execution_count": 39,
   "id": "52baf263",
   "metadata": {
    "execution": {
     "iopub.execute_input": "2023-10-15T18:11:02.250319Z",
     "iopub.status.busy": "2023-10-15T18:11:02.249462Z",
     "iopub.status.idle": "2023-10-15T18:11:02.305238Z",
     "shell.execute_reply": "2023-10-15T18:11:02.303870Z"
    },
    "papermill": {
     "duration": 0.074995,
     "end_time": "2023-10-15T18:11:02.307890",
     "exception": false,
     "start_time": "2023-10-15T18:11:02.232895",
     "status": "completed"
    },
    "tags": []
   },
   "outputs": [],
   "source": [
    "cltv[\"clv\"] = ggf.customer_lifetime_value(bgf,\n",
    "                                      cltv['frequency'],\n",
    "                                      cltv['Recency_weekly'],\n",
    "                                      cltv['T_weekly'],\n",
    "                                      cltv['monetary_avg'],\n",
    "                                      time= 3,\n",
    "                                      freq='W', \n",
    "                                      discount_rate=0.01 )"
   ]
  },
  {
   "cell_type": "code",
   "execution_count": 40,
   "id": "83c8afed",
   "metadata": {
    "execution": {
     "iopub.execute_input": "2023-10-15T18:11:02.341707Z",
     "iopub.status.busy": "2023-10-15T18:11:02.340314Z",
     "iopub.status.idle": "2023-10-15T18:11:02.350314Z",
     "shell.execute_reply": "2023-10-15T18:11:02.349523Z"
    },
    "papermill": {
     "duration": 0.028382,
     "end_time": "2023-10-15T18:11:02.352646",
     "exception": false,
     "start_time": "2023-10-15T18:11:02.324264",
     "status": "completed"
    },
    "tags": []
   },
   "outputs": [
    {
     "data": {
      "text/plain": [
       "ID\n",
       "477      900.282067\n",
       "1826     822.436855\n",
       "2186     820.218176\n",
       "10133    815.453999\n",
       "9264     814.136370\n",
       "3005     810.297487\n",
       "1619     807.313043\n",
       "9888     789.050519\n",
       "4399     789.050519\n",
       "10102    779.868752\n",
       "Name: clv, dtype: float64"
      ]
     },
     "execution_count": 40,
     "metadata": {},
     "output_type": "execute_result"
    }
   ],
   "source": [
    "cltv[\"clv\"].sort_values(ascending=False).head(10)"
   ]
  },
  {
   "cell_type": "code",
   "execution_count": 41,
   "id": "ab70ff19",
   "metadata": {
    "execution": {
     "iopub.execute_input": "2023-10-15T18:11:02.386662Z",
     "iopub.status.busy": "2023-10-15T18:11:02.385888Z",
     "iopub.status.idle": "2023-10-15T18:11:02.393978Z",
     "shell.execute_reply": "2023-10-15T18:11:02.392708Z"
    },
    "papermill": {
     "duration": 0.029342,
     "end_time": "2023-10-15T18:11:02.396438",
     "exception": false,
     "start_time": "2023-10-15T18:11:02.367096",
     "status": "completed"
    },
    "tags": []
   },
   "outputs": [],
   "source": [
    "cltv[\"cltv_segment\"] = pd.qcut(cltv[\"clv\"], 4, labels=[\"D\", \"C\", \"B\", \"A\"])"
   ]
  },
  {
   "cell_type": "code",
   "execution_count": 42,
   "id": "620f3fab",
   "metadata": {
    "execution": {
     "iopub.execute_input": "2023-10-15T18:11:02.428332Z",
     "iopub.status.busy": "2023-10-15T18:11:02.427548Z",
     "iopub.status.idle": "2023-10-15T18:11:02.441814Z",
     "shell.execute_reply": "2023-10-15T18:11:02.441028Z"
    },
    "papermill": {
     "duration": 0.032508,
     "end_time": "2023-10-15T18:11:02.443730",
     "exception": false,
     "start_time": "2023-10-15T18:11:02.411222",
     "status": "completed"
    },
    "tags": []
   },
   "outputs": [
    {
     "data": {
      "text/html": [
       "<div>\n",
       "<style scoped>\n",
       "    .dataframe tbody tr th:only-of-type {\n",
       "        vertical-align: middle;\n",
       "    }\n",
       "\n",
       "    .dataframe tbody tr th {\n",
       "        vertical-align: top;\n",
       "    }\n",
       "\n",
       "    .dataframe thead th {\n",
       "        text-align: right;\n",
       "    }\n",
       "</style>\n",
       "<table border=\"1\" class=\"dataframe\">\n",
       "  <thead>\n",
       "    <tr style=\"text-align: right;\">\n",
       "      <th></th>\n",
       "      <th>Recency_weekly</th>\n",
       "      <th>frequency</th>\n",
       "      <th>monetary_avg</th>\n",
       "      <th>clv</th>\n",
       "    </tr>\n",
       "    <tr>\n",
       "      <th>cltv_segment</th>\n",
       "      <th></th>\n",
       "      <th></th>\n",
       "      <th></th>\n",
       "      <th></th>\n",
       "    </tr>\n",
       "  </thead>\n",
       "  <tbody>\n",
       "    <tr>\n",
       "      <th>D</th>\n",
       "      <td>53.596774</td>\n",
       "      <td>7.827957</td>\n",
       "      <td>11.209677</td>\n",
       "      <td>8.623476</td>\n",
       "    </tr>\n",
       "    <tr>\n",
       "      <th>C</th>\n",
       "      <td>50.590664</td>\n",
       "      <td>10.621185</td>\n",
       "      <td>15.578097</td>\n",
       "      <td>31.495705</td>\n",
       "    </tr>\n",
       "    <tr>\n",
       "      <th>B</th>\n",
       "      <td>66.582437</td>\n",
       "      <td>20.021505</td>\n",
       "      <td>34.229391</td>\n",
       "      <td>102.982914</td>\n",
       "    </tr>\n",
       "    <tr>\n",
       "      <th>A</th>\n",
       "      <td>57.127469</td>\n",
       "      <td>21.174147</td>\n",
       "      <td>65.210054</td>\n",
       "      <td>277.517852</td>\n",
       "    </tr>\n",
       "  </tbody>\n",
       "</table>\n",
       "</div>"
      ],
      "text/plain": [
       "              Recency_weekly  frequency  monetary_avg         clv\n",
       "cltv_segment                                                     \n",
       "D                  53.596774   7.827957     11.209677    8.623476\n",
       "C                  50.590664  10.621185     15.578097   31.495705\n",
       "B                  66.582437  20.021505     34.229391  102.982914\n",
       "A                  57.127469  21.174147     65.210054  277.517852"
      ]
     },
     "execution_count": 42,
     "metadata": {},
     "output_type": "execute_result"
    }
   ],
   "source": [
    "cltv.groupby(\"cltv_segment\")[[\"Recency_weekly\",\"frequency\",\"monetary_avg\",\"clv\"]].agg('mean')"
   ]
  },
  {
   "cell_type": "markdown",
   "id": "bd3fa779",
   "metadata": {
    "papermill": {
     "duration": 0.015376,
     "end_time": "2023-10-15T18:11:02.475278",
     "exception": false,
     "start_time": "2023-10-15T18:11:02.459902",
     "status": "completed"
    },
    "tags": []
   },
   "source": [
    "<div style=\"border-radius:10px; border:#D0C2F0 solid; padding: 15px; background-color: #FFF0F4; font-size:100%; text-align:left\">\n",
    "\n",
    "<h3 align=\"left\"><font color='#5E5273'>Report</font></h3>\n",
    "\n",
    "1. **Segment \"D\"** : Since customers in this segment have a low CLV, incentivizing campaigns can be organized to encourage them to return. For example, offering special discounts, promotions, or loyalty programs can motivate customers to come back to the brand.\n",
    "\n",
    "2. **Segment \"C\"** : Customers in this segment have a moderate CLV, so to increase their loyalty to the brand, special offers or privileges can be provided. For instance, improving customer experience by offering personalized product recommendations or product packaging options can be considered.\n",
    "    \n",
    "3. **Segment \"B\"** : Customers in this segment have high CLV, indicating brand loyalty and high purchasing power. Offering exclusive top-tier services to these customers can strengthen their brand loyalty. Privileges such as exclusive event invitations, premium customer services, or access to special products can be provided.\n",
    "    \n",
    "4. **Segment \"A\"** : Customers in this segment have the highest CLV. They are the most valuable assets of the brand. Strengthening their loyalty can be achieved by providing them with exclusive, personalized services and products. Additionally, paying attention to their feedback and suggestions can ensure continuous improvements in products and services.\n",
    "   "
   ]
  }
 ],
 "metadata": {
  "kernelspec": {
   "display_name": "Python 3",
   "language": "python",
   "name": "python3"
  },
  "language_info": {
   "codemirror_mode": {
    "name": "ipython",
    "version": 3
   },
   "file_extension": ".py",
   "mimetype": "text/x-python",
   "name": "python",
   "nbconvert_exporter": "python",
   "pygments_lexer": "ipython3",
   "version": "3.10.12"
  },
  "papermill": {
   "default_parameters": {},
   "duration": 23.326195,
   "end_time": "2023-10-15T18:11:03.413939",
   "environment_variables": {},
   "exception": null,
   "input_path": "__notebook__.ipynb",
   "output_path": "__notebook__.ipynb",
   "parameters": {},
   "start_time": "2023-10-15T18:10:40.087744",
   "version": "2.4.0"
  }
 },
 "nbformat": 4,
 "nbformat_minor": 5
}
